{
  "cells": [
    {
      "cell_type": "markdown",
      "metadata": {
        "id": "WH_uACqHFbMT"
      },
      "source": [
        "#PYTHON INSTALACJA"
      ]
    },
    {
      "cell_type": "code",
      "execution_count": 1,
      "metadata": {
        "colab": {
          "base_uri": "https://localhost:8080/"
        },
        "id": "gS5b819tJ3WX",
        "outputId": "08db4683-0099-4798-d6f7-59c3c94ec8b2"
      },
      "outputs": [
        {
          "output_type": "stream",
          "name": "stdout",
          "text": [
            "\u001b[K     |████████████████████████████████| 154 kB 32.5 MB/s \n",
            "\u001b[K     |████████████████████████████████| 117 kB 79.5 MB/s \n",
            "\u001b[K     |████████████████████████████████| 79 kB 9.5 MB/s \n",
            "\u001b[?25h  Building wheel for antlr4-python3-runtime (setup.py) ... \u001b[?25l\u001b[?25hdone\n",
            "  Building wheel for unzip (setup.py) ... \u001b[?25l\u001b[?25hdone\n",
            "\u001b[K     |████████████████████████████████| 761 kB 46.1 MB/s \n",
            "\u001b[K     |████████████████████████████████| 1.6 MB 48.4 MB/s \n",
            "\u001b[K     |████████████████████████████████| 386 kB 74.0 MB/s \n",
            "\u001b[31mERROR: pip's dependency resolver does not currently take into account all the packages that are installed. This behaviour is the source of the following dependency conflicts.\n",
            "google-colab 1.0.0 requires ipython~=7.9.0, but you have ipython 8.7.0 which is incompatible.\u001b[0m\n",
            "\u001b[K     |████████████████████████████████| 800 kB 33.6 MB/s \n",
            "\u001b[K     |████████████████████████████████| 512 kB 65.1 MB/s \n",
            "\u001b[K     |████████████████████████████████| 125 kB 72.5 MB/s \n",
            "\u001b[?25h"
          ]
        },
        {
          "output_type": "execute_result",
          "data": {
            "text/plain": []
          },
          "metadata": {},
          "execution_count": 1
        }
      ],
      "source": [
        "%%shell\n",
        "pip install hydra-core --upgrade --quiet\n",
        "pip install unzip --quiet\n",
        "pip install ipdb -Uqq\n",
        "pip install pytorch-lightning --quiet"
      ]
    },
    {
      "cell_type": "markdown",
      "metadata": {
        "id": "aOmG3gHqFd4r"
      },
      "source": [
        "#PYTHON PAKIETY"
      ]
    },
    {
      "cell_type": "code",
      "execution_count": 2,
      "metadata": {
        "id": "V3SM_OA7JPkr"
      },
      "outputs": [],
      "source": [
        "# standardowe pakiety\n",
        "import os\n",
        "from os.path import join, isfile\n",
        "from os import listdir\n",
        "\n",
        "import numpy as np\n",
        "\n",
        "import scipy as sp\n",
        "from scipy import array, newaxis\n",
        "\n",
        "#from PIL import Image\n",
        "import matplotlib.pyplot as plt\n",
        "from mpl_toolkits.mplot3d import Axes3D\n",
        "import random\n",
        "import glob\n",
        "import ipdb\n",
        "from __future__ import print_function\n",
        "from tqdm import tqdm\n",
        "\n",
        "# Pytorch \n",
        "import torch\n",
        "import torch.nn as nn\n",
        "import torch.nn.parallel\n",
        "import torch.optim as optim\n",
        "from torch.nn import functional as F\n",
        "from torch.utils.data import DataLoader, random_split\n",
        "import torch.utils.data as data\n",
        "import torchmetrics\n",
        "import torchvision\n",
        "from torchvision.datasets import CIFAR10\n",
        "from torchvision import transforms\n",
        "from torchvision.datasets import ImageFolder\n",
        "\n",
        "# Lightning\n",
        "import pytorch_lightning as pl\n",
        "from pytorch_lightning import Trainer\n",
        "from pytorch_lightning.callbacks import Callback\n",
        "\n",
        "# Hydra\n",
        "import hydra\n",
        "from hydra.utils import instantiate\n",
        "from omegaconf import DictConfig, OmegaConf\n",
        "\n",
        "# tensorboard\n",
        "from sklearn.metrics import confusion_matrix\n",
        "import pandas as pd\n",
        "from torch.utils.tensorboard import SummaryWriter \n",
        "import seaborn as sn\n"
      ]
    },
    {
      "cell_type": "markdown",
      "source": [
        "#GENERACJA PLIKÓW HYDRA"
      ],
      "metadata": {
        "id": "g7u_7DANQ6g_"
      }
    },
    {
      "cell_type": "markdown",
      "source": [
        "Aby załadować checkpoint modelu należy w pliku classification.yaml podać jako parametr `model` jeden z następujących plików:\n",
        "<br>`cls_model_own_pretrained` - własna implementacja,  \n",
        "`cls_repo_model_pretrained` - modyfikacja repozytorium"
      ],
      "metadata": {
        "id": "Qe6Ev1W-GEl2"
      }
    },
    {
      "cell_type": "code",
      "execution_count": 30,
      "metadata": {
        "colab": {
          "base_uri": "https://localhost:8080/"
        },
        "id": "_27BPhgYGfsk",
        "outputId": "a06cb427-221a-41a6-b296-37392fa94ea2"
      },
      "outputs": [
        {
          "output_type": "execute_result",
          "data": {
            "text/plain": []
          },
          "metadata": {},
          "execution_count": 30
        }
      ],
      "source": [
        "%%shell\n",
        "echo \"name: classification\n",
        "target: options\n",
        "batch_size: 32\n",
        "num_points: 1000\n",
        "num_workers: 1\n",
        "num_epochs: 2\n",
        "out_folder: 'cls'\n",
        "model: ''\n",
        "dataset: 'ModelNet10'\n",
        "feature_transform: True\n",
        "single_batch_overfit: False\" > classification.yaml\n",
        "\n",
        "echo \"name: pl_trainer\n",
        "check_val_every_n_epoch: 10\n",
        "num_sanity_val_steps: 0\n",
        "accelerator: 'gpu'\n",
        "devices: 1\n",
        "auto_select_gpus: True \n",
        "max_epochs: 10\n",
        "auto_scale_batch_size: False \n",
        "amp_backend: 'native'\n",
        "benchmark: False \n",
        "overfit_batches: 0\" > pl_trainer.yaml\n",
        "\n",
        "echo \"name: optimizer\n",
        "optimizer: 'Adam'\n",
        "lr: 0.01\n",
        "betas: [0.9, 0.999]\" > optimizer.yaml\n",
        "\n",
        "echo \"name: scheduler\n",
        "scheduler: 'StepLR'\n",
        "step_size: 20\n",
        "gamma: 0.5\" > scheduler.yaml"
      ]
    },
    {
      "cell_type": "code",
      "source": [
        "confClass = OmegaConf.load('classification.yaml')\n",
        "confTrainer = OmegaConf.load('pl_trainer.yaml')\n",
        "confOptim = OmegaConf.load('optimizer.yaml')\n",
        "confSched = OmegaConf.load('scheduler.yaml')\n",
        "\n",
        "options = instantiate(confClass)\n",
        "optionsTrainer = instantiate(confTrainer)\n",
        "optionsOptim = instantiate(confOptim)\n",
        "optionsSched = instantiate(confSched)"
      ],
      "metadata": {
        "id": "KwQRIcutJoJ_"
      },
      "execution_count": 31,
      "outputs": []
    },
    {
      "cell_type": "markdown",
      "metadata": {
        "id": "5TH9ZK2tFkB8"
      },
      "source": [
        "#POBIERANIE DANYCH "
      ]
    },
    {
      "cell_type": "code",
      "source": [
        "if options.dataset == 'ModelNet40':\n",
        "    ! wget http://modelnet.cs.princeton.edu/ModelNet40.zip\n",
        "    ! unzip -qq /content/ModelNet40.zip -d /content/\n",
        "    dataset_num_classes = 40\n",
        "    dataset_root = '/content/ModelNet40/'\n",
        "elif options.dataset == 'ModelNet10':\n",
        "    ! wget http://3dvision.princeton.edu/projects/2014/3DShapeNets/ModelNet10.zip\n",
        "    ! unzip -qq /content/ModelNet10.zip -d /content/\n",
        "    dataset_num_classes = 10\n",
        "    dataset_root = '/content/ModelNet10/'\n",
        "else:\n",
        "    raise ValueError(\"Wrong model name!\")"
      ],
      "metadata": {
        "id": "UpmZYCj313V5",
        "colab": {
          "base_uri": "https://localhost:8080/"
        },
        "outputId": "61cbb302-ec37-4ae2-e17d-6da441fbad9b"
      },
      "execution_count": 6,
      "outputs": [
        {
          "output_type": "stream",
          "name": "stdout",
          "text": [
            "--2022-12-28 19:05:23--  http://3dvision.princeton.edu/projects/2014/3DShapeNets/ModelNet10.zip\n",
            "Resolving 3dvision.princeton.edu (3dvision.princeton.edu)... 128.112.136.74\n",
            "Connecting to 3dvision.princeton.edu (3dvision.princeton.edu)|128.112.136.74|:80... connected.\n",
            "HTTP request sent, awaiting response... 302 Found\n",
            "Location: https://3dvision.princeton.edu/projects/2014/3DShapeNets/ModelNet10.zip [following]\n",
            "--2022-12-28 19:05:23--  https://3dvision.princeton.edu/projects/2014/3DShapeNets/ModelNet10.zip\n",
            "Connecting to 3dvision.princeton.edu (3dvision.princeton.edu)|128.112.136.74|:443... connected.\n",
            "HTTP request sent, awaiting response... 200 OK\n",
            "Length: 473402300 (451M) [application/zip]\n",
            "Saving to: ‘ModelNet10.zip’\n",
            "\n",
            "ModelNet10.zip      100%[===================>] 451.47M  13.1MB/s    in 39s     \n",
            "\n",
            "2022-12-28 19:06:02 (11.7 MB/s) - ‘ModelNet10.zip’ saved [473402300/473402300]\n",
            "\n"
          ]
        }
      ]
    },
    {
      "cell_type": "markdown",
      "metadata": {
        "id": "yrbLLONOZkh3"
      },
      "source": [
        "#OBSŁUGA DANYCH"
      ]
    },
    {
      "cell_type": "markdown",
      "source": [
        "##DATASET (PYTORCH)"
      ],
      "metadata": {
        "id": "QDoO5sgcV1_H"
      }
    },
    {
      "cell_type": "code",
      "execution_count": 7,
      "metadata": {
        "id": "onC4Y1QCZkIK"
      },
      "outputs": [],
      "source": [
        "class ModelNetDataset(data.Dataset):\n",
        "    def __init__(self, root, randomize_pts=True, load_faces=False, split='train', num_classes=40, numpoints=5000, batch_size=32):\n",
        "        self.root = root\n",
        "        self.numpoints = numpoints\n",
        "        self.num_classes = num_classes\n",
        "        self.batch_size = batch_size\n",
        "        self.randomize_pts = randomize_pts\n",
        "        self.load_faces = load_faces\n",
        "        self.filelist = [f1 for f1 in glob.glob(self.root + '**/*.off', recursive=True)]\n",
        "        self.trainlist = [f2 for f2 in self.filelist if \"train\" in f2]\n",
        "        self.testlist = [f3 for f3 in self.filelist if \"test\" in f3]\n",
        "        if split=='train': self.objlist = self.flist_reader(self.trainlist)\n",
        "        if split=='test': self.objlist = self.flist_reader(self.testlist)\n",
        "\n",
        "    def __getitem__(self, index):\n",
        "        impath, target = self.objlist[index]\n",
        "        myF = open(impath, 'r')\n",
        "        firstLine = myF.readline().strip()\n",
        "        if 'OFF' != firstLine[0:3]:\n",
        "            raise ValueError('Not a valid OFF header')\n",
        "        if len(firstLine) > 3:\n",
        "            n_verts, n_faces, n_edges = tuple([int(s) for s in firstLine[3:].split(' ')])\n",
        "        else:\n",
        "            n_verts, n_faces, n_edges = tuple([int(s) for s in myF.readline().strip().split(' ')])\n",
        "        verts = np.array([[float(s) for s in myF.readline().strip().split(' ')] for i_vert in range(n_verts)])\n",
        "        choice = np.random.choice(verts.shape[0], self.numpoints, replace=True)\n",
        "        if self.randomize_pts:\n",
        "          point_set = verts[choice, :]\n",
        "        else:\n",
        "          point_set = verts\n",
        "        point_set = point_set - np.expand_dims(np.mean(point_set, axis=0), 0) \n",
        "        dist = np.max(np.sqrt(np.sum(point_set ** 2, axis=1)), 0)\n",
        "        point_set = point_set / dist  \n",
        "        point_set = torch.from_numpy(point_set.astype(np.float32)).float()\n",
        "\n",
        "        if self.load_faces:\n",
        "            faces = np.array([[int(s) for s in myF.readline().strip().split(' ')][1:] for i_face in range(n_faces)])\n",
        "            return point_set, target, faces\n",
        "        else:\n",
        "            return point_set, target\n",
        "\n",
        "    def flist_reader(self, filelist):\n",
        "        classes_dirs = glob.glob(self.root + \"*/\", recursive = False)\n",
        "        classes_list = [i.split('/')[3] for i in classes_dirs]\n",
        "        classes_nums = np.linspace(0,self.num_classes-1,self.num_classes)\n",
        "        self.classes_dict = dict(zip(sorted(classes_list), classes_nums.astype(int)))\n",
        "        self.nums_dict = dict(map(reversed, self.classes_dict.items()))\n",
        "        objlist = []\n",
        "\n",
        "        for line in filelist:\n",
        "            label_start_index = line.strip().find(self.root) + len(self.root)\n",
        "            label_end_index = line.strip()[label_start_index:].find('/')\n",
        "            imlabel = line.strip()[label_start_index:label_start_index+label_end_index]\n",
        "            imlabel = self.classes_dict[imlabel]\n",
        "            impath = line\n",
        "            objlist.append( (impath, imlabel) )\n",
        "        return objlist\n",
        "\n",
        "    def __len__(self):\n",
        "      return len(self.objlist)"
      ]
    },
    {
      "cell_type": "markdown",
      "source": [
        "##DATMODULE (PYTORCH LIGHTNING)"
      ],
      "metadata": {
        "id": "NZXZchA2V6Nu"
      }
    },
    {
      "cell_type": "code",
      "source": [
        "class ModelNetDataModule(pl.LightningDataModule):\n",
        "    def __init__(self):\n",
        "        super().__init__()\n",
        "\n",
        "    def prepare_data(self):\n",
        "        '''\n",
        "        if options.dataset == 'ModelNet40':\n",
        "            ! wget http://modelnet.cs.princeton.edu/ModelNet40.zip\n",
        "            ! unzip -qq /content/ModelNet40.zip -d /content/\n",
        "            dataset_num_classes = 40\n",
        "            dataset_root = '/content/ModelNet40/'\n",
        "        elif options.dataset == 'ModelNet10':\n",
        "            ! wget http://3dvision.princeton.edu/projects/2014/3DShapeNets/ModelNet10.zip\n",
        "            ! unzip -qq /content/ModelNet10.zip -d /content/\n",
        "            dataset_num_classes = 10\n",
        "            dataset_root = '/content/ModelNet10/'\n",
        "        else:\n",
        "            raise ValueError(\"Wrong model name!\")\n",
        "        '''\n",
        "        \"\"\"\n",
        "        Empty prepare_data method left in intentionally. \n",
        "        https://pytorch-lightning.readthedocs.io/en/latest/data/datamodule.html#prepare-data\n",
        "        \"\"\"\n",
        "        \n",
        "\n",
        "    def setup(self, stage = None):\n",
        "        \"\"\"\n",
        "        Method to setup your datasets, here you can use whatever dataset class you have defined in Pytorch and prepare the data in order to pass it to the loaders later\n",
        "        https://pytorch-lightning.readthedocs.io/en/latest/data/datamodule.html#setup\n",
        "        \"\"\"\n",
        "      \n",
        "        # Assign train/val datasets for use in dataloaders\n",
        "        # the stage is used in the Pytorch Lightning trainer method, which you can call as fit (training, evaluation) or test, also you can use it for predict, not implemented here\n",
        "        \n",
        "        if stage == \"fit\" or stage is None:\n",
        "            dataset = ModelNetDataset(\n",
        "                root=dataset_root, \n",
        "                num_classes=dataset_num_classes, \n",
        "                batch_size=options.batch_size, \n",
        "                split='train', \n",
        "                numpoints=options.num_points)\n",
        "\n",
        "            traindataset_size = int(len(dataset) * 0.9)\n",
        "            valid_set_size = len(dataset) - traindataset_size\n",
        "            self.traindataset, self.valdataset = random_split(dataset, [traindataset_size, len(dataset) - traindataset_size])\n",
        "\n",
        "        # Assign test dataset for use in dataloader(s)\n",
        "        if stage == \"test\" or stage is None:\n",
        "            self.testdataset = ModelNetDataset(\n",
        "                root=dataset_root, \n",
        "                num_classes=dataset_num_classes, \n",
        "                batch_size=options.batch_size, \n",
        "                split='test', \n",
        "                numpoints=options.num_points)\n",
        "            \n",
        "    def train_dataloader(self):\n",
        "        return DataLoader(\n",
        "            self.traindataset, \n",
        "            batch_size=options.batch_size, \n",
        "            num_workers=int(options.num_workers), \n",
        "            shuffle=True)\n",
        "\n",
        "    def val_dataloader(self):\n",
        "        return DataLoader(\n",
        "            self.valdataset, \n",
        "            batch_size=options.batch_size, \n",
        "            num_workers=int(options.num_workers), \n",
        "            shuffle=False)\n",
        "\n",
        "    def test_dataloader(self):\n",
        "        return DataLoader(\n",
        "            self.testdataset, \n",
        "            batch_size=options.batch_size, \n",
        "            num_workers=int(options.num_workers), \n",
        "            shuffle=False)\n"
      ],
      "metadata": {
        "id": "pd7OZFOMNh1l"
      },
      "execution_count": 35,
      "outputs": []
    },
    {
      "cell_type": "markdown",
      "metadata": {
        "id": "_IRwAlmPKgsr"
      },
      "source": [
        "##DISPLAY SINGLE OBJECT"
      ]
    },
    {
      "cell_type": "code",
      "execution_count": null,
      "metadata": {
        "id": "Z6MoIQvBNh7m"
      },
      "outputs": [],
      "source": [
        "def disp(vertices, target, faces, dataset, full):\n",
        "    \n",
        "    fig = plt.figure(figsize=(10, 10))\n",
        "    ax = plt.axes(projection='3d')\n",
        "    \n",
        "    V_np = np.asarray(vertices.cpu())\n",
        "    if not full:\n",
        "      ax.scatter(V_np[:, 0], V_np[:, 1], V_np[:, 2])\n",
        "    else:\n",
        "      ax.plot_trisurf(V_np[:, 0], V_np[:, 1], V_np[:, 2], triangles=faces);\n",
        "\n",
        "    plt.axis('off')\n",
        "    plt.show()\n",
        "    print('Etykieta klasy: {}'.format(target))\n",
        "    print(dataset.nums_dict[target])\n",
        "    print('')\n",
        "    \n",
        "#test for all objects\n",
        "'''\n",
        "print(len(mdltest))\n",
        "\n",
        "for n in range(len(mdltest)):\n",
        "  xxx = mdltest[n]\n",
        "  if xxx[0].shape[0] == 0:\n",
        "    ipdb.set_trace(context=5)\n",
        "'''\n",
        "\n",
        "mdltest = ModelNetDataset(root=dataset_root, randomize_pts = False, load_faces=True)\n",
        "#mdltestR = ModelNetDataset(root=dataset_root, randomize_pts = True, load_faces=True)\n",
        "\n",
        "ind = random.randint(0, len(mdltest))\n",
        "xxx = mdltest[ind]\n",
        "#xxxR = mdltestR[ind]\n",
        "\n",
        "disp(xxx[0], xxx[1], xxx[2], mdltest, full=False)\n",
        "disp(xxx[0], xxx[1], xxx[2], mdltest, full=True)\n",
        "#disp(xxxR[0], xxxR[1], xxxR[2], mdltestR, full=False)\n"
      ]
    },
    {
      "cell_type": "markdown",
      "metadata": {
        "id": "RndcfcMaQg1c"
      },
      "source": [
        "#MODEL"
      ]
    },
    {
      "cell_type": "markdown",
      "source": [
        "## MODEL (PYTORCH)"
      ],
      "metadata": {
        "id": "uEHLjpO5WgEo"
      }
    },
    {
      "cell_type": "code",
      "execution_count": 17,
      "metadata": {
        "id": "BEG3IWrJrRX-"
      },
      "outputs": [],
      "source": [
        "class STN(nn.Module):\n",
        "    def __init__(self, kd=True):\n",
        "        if kd:  self.k=64; self.iden_arr=np.eye(self.k).flatten()\n",
        "        else:   self.k=3;  self.iden_arr=np.array([1, 0, 0, 0, 1, 0, 0, 0, 1]) \n",
        "        self.kd = kd\n",
        "        super(STN, self).__init__()\n",
        "        self.conv1 = torch.nn.Conv1d(self.k, 64, 1)\n",
        "        self.conv2 = torch.nn.Conv1d(64, 128, 1)\n",
        "        self.conv3 = torch.nn.Conv1d(128, 1024, 1)\n",
        "        self.fc1 = nn.Linear(1024, 512)\n",
        "        self.fc2 = nn.Linear(512, 256)\n",
        "        self.fc3 = nn.Linear(256, self.k*self.k)\n",
        "        self.relu = nn.ReLU()\n",
        "\n",
        "        for x in range(5): \n",
        "          string= \"self.bn\" + str(x+1) + \"=nn.BatchNorm1d(\" + str(64*2**(x)) + \")\"\n",
        "          exec(string)\n",
        "        \n",
        "    def forward(self, x):\n",
        "        if not self.kd: x = x.transpose(2, 1) #TYLKO Z LIGHTNINGIEM\n",
        "        batchsize = x.shape[0]\n",
        "        x = F.relu(self.bn1(self.conv1(x)))\n",
        "        x = F.relu(self.bn2(self.conv2(x)))\n",
        "        x = F.relu(self.bn5(self.conv3(x)))\n",
        "        x = torch.max(x, 2, keepdim=True)[0]\n",
        "        x = x.view(-1, 1024) \n",
        "        x = F.relu(self.bn4(self.fc1(x))) \n",
        "        x = F.relu(self.bn3(self.fc2(x)))\n",
        "        x = self.fc3(x)\n",
        "        iden = torch.from_numpy(self.iden_arr.astype(np.float32)).view(1, self.k*self.k).repeat(batchsize, 1)\n",
        "        if x.is_cuda:\n",
        "            iden = iden.to(x.device)\n",
        "        x = x + iden\n",
        "        x = x.view(-1, self.k, self.k)\n",
        "        return x\n",
        "\n",
        "class PointNetfeat(nn.Module):\n",
        "    def __init__(self, global_feat = True, feature_transform = False):\n",
        "        super(PointNetfeat, self).__init__()\n",
        "        self.stn = STN(kd=False)\n",
        "        self.conv1 = torch.nn.Conv1d(3, 64, 1)\n",
        "        self.conv2 = torch.nn.Conv1d(64, 128, 1)\n",
        "        self.conv3 = torch.nn.Conv1d(128, 1024, 1)\n",
        "        self.bn1 = nn.BatchNorm1d(64)\n",
        "        self.bn2 = nn.BatchNorm1d(128)\n",
        "        self.bn3 = nn.BatchNorm1d(1024)\n",
        "        self.global_feat = global_feat\n",
        "        self.feature_transform = feature_transform\n",
        "        if self.feature_transform:\n",
        "            self.fstn = STN()\n",
        "\n",
        "    def forward(self, x):\n",
        "        n_pts = x.shape[2]\n",
        "        trans = self.stn(x)\n",
        "        #x = x.transpose(2, 1) #USUNĄĆ TYLKO Z LIGHTNINGIEM\n",
        "        x = torch.bmm(x, trans)\n",
        "        x = x.transpose(2, 1)\n",
        "        x = F.relu(self.bn1(self.conv1(x)))\n",
        "\n",
        "        if self.feature_transform:\n",
        "            trans_feat = self.fstn(x)\n",
        "            x = x.transpose(2,1)\n",
        "            x = torch.bmm(x, trans_feat)\n",
        "            x = x.transpose(2,1)\n",
        "        else:\n",
        "            trans_feat = None\n",
        "\n",
        "        pointfeat = x\n",
        "        x = F.relu(self.bn2(self.conv2(x)))\n",
        "        x = self.bn3(self.conv3(x))\n",
        "        x = torch.max(x, 2, keepdim=True)[0]\n",
        "        x = x.view(-1, 1024)\n",
        "        if self.global_feat:\n",
        "            return x, trans, trans_feat\n",
        "        else:\n",
        "            x = x.view(-1, 1024, 1).repeat(1, 1, n_pts)\n",
        "            return torch.cat([x, pointfeat], 1), trans, trans_feat\n",
        "\n",
        "\n",
        "def feature_transform_regularizer(trans):\n",
        "    d = trans.size()[1]\n",
        "    batchsize = trans.size()[0]\n",
        "    I = torch.eye(d)[None, :, :]\n",
        "    if trans.is_cuda:\n",
        "        I = I.to(trans.device)\n",
        "    loss = torch.mean(torch.norm(torch.bmm(trans, trans.transpose(2,1)) - I, dim=(1,2)))\n",
        "    return loss\n",
        "\n",
        "class PointNetCls(nn.Module):\n",
        "    def __init__(self, k=dataset_num_classes, feature_transform=False):\n",
        "        super(PointNetCls, self).__init__()\n",
        "        self.feat = PointNetfeat(global_feat=True, feature_transform=feature_transform)\n",
        "        self.fc1 = nn.Linear(1024, 512)\n",
        "        self.fc2 = nn.Linear(512, 256)\n",
        "        self.fc3 = nn.Linear(256, k)\n",
        "        self.dropout = nn.Dropout(p=0.3)\n",
        "        self.bn1 = nn.BatchNorm1d(512)\n",
        "        self.bn2 = nn.BatchNorm1d(256)\n",
        "        self.relu = nn.ReLU()\n",
        "\n",
        "    def forward(self, x):\n",
        "        x, trans, trans_feat = self.feat(x)\n",
        "        x = F.relu(self.bn1(self.fc1(x)))\n",
        "        x = F.relu(self.bn2(self.dropout(self.fc2(x))))\n",
        "        x = self.fc3(x)\n",
        "        return F.log_softmax(x, dim=1), trans, trans_feat"
      ]
    },
    {
      "cell_type": "markdown",
      "source": [
        "## MODULE (PYTORCH LIGHTNING)"
      ],
      "metadata": {
        "id": "LZ50gSxKWmSd"
      }
    },
    {
      "cell_type": "code",
      "source": [
        "class GenericClassifier(pl.LightningModule):\n",
        "\n",
        "    def __init__(self, model):\n",
        "        super().__init__()\n",
        "        self.model = model\n",
        "        #self.batch_size = 4\n",
        "        self.lr = optionsOptim.lr\n",
        "        self.num_classes = dataset_num_classes\n",
        "        self.current_epoch_training_loss = torch.tensor(0.0)\n",
        "\n",
        "    def forward(self, x):\n",
        "        return self.model(x)\n",
        "\n",
        "    def compute_loss(self, x, y): \n",
        "        #return F.cross_entropy(x, y)\n",
        "        loss = F.nll_loss(x, y)\n",
        "        if options.feature_transform:\n",
        "            loss += feature_transform_regularizer(self.trans_feat) * 0.001\n",
        "        return loss\n",
        "\n",
        "    def common_step(self, batch, batch_idx):\n",
        "        x, y = batch\n",
        "        outputs, _, self.trans_feat = self(x) # tutaj podłogi dlatego że PointNetCls zwraca [wyjście, trans, trans_feat]\n",
        "        loss = self.compute_loss(outputs,y)\n",
        "        return loss, outputs, y\n",
        "\n",
        "    def common_test_valid_step(self, batch, batch_idx):\n",
        "        loss, outputs, y = self.common_step(batch, batch_idx)\n",
        "        preds = torch.argmax(outputs, dim=1)\n",
        "        acc = torchmetrics.functional.accuracy(preds, y, task=\"multiclass\", num_classes = self.num_classes)\n",
        "        return loss, acc\n",
        "\n",
        "    def training_step(self, batch, batch_idx):\n",
        "        loss, _, _ = self.common_step(batch, batch_idx)\n",
        "        self.log('train_loss', loss, on_step=True, on_epoch=True, prog_bar=True, logger=True) # w tym przykładzie self.log jest explicite, niemniej domyślnie jest on włączony, szczegóły: https://pytorch-lightning.readthedocs.io/en/stable/extensions/logging.html#id3\n",
        "        return {'loss':loss}\n",
        "\n",
        "    def training_epoch_end(self, outs):\n",
        "        self.current_epoch_training_loss = torch.stack([o[\"loss\"] for o in outs]).mean()\n",
        "        \n",
        "    def validation_step(self, batch, batch_idx):\n",
        "        loss, acc = self.common_test_valid_step(batch, batch_idx)\n",
        "        self.log('val_loss', loss, on_step=True, on_epoch=True, prog_bar=True, logger=True)\n",
        "        self.log('val_acc', acc, on_step=True, on_epoch=True, prog_bar=True, logger=True)        \n",
        "        return {'val_loss':loss, 'val_acc': acc}\n",
        "\n",
        "    def validation_epoch_end(self, outs):\n",
        "        avg_loss = torch.stack([o[\"val_loss\"] for o in outs]).mean()\n",
        "        self.logger.experiment.add_scalars('train and vall losses', {'train': self.current_epoch_training_loss.item() , 'val': avg_loss.item()}, self.current_epoch)\n",
        "\n",
        "    def test_step(self, batch, batch_idx):\n",
        "        loss, acc = self.common_test_valid_step(batch, batch_idx)\n",
        "        self.log('test_loss', loss, on_step=True, on_epoch=True, prog_bar=True, logger=True)\n",
        "        self.log('test_acc', acc, on_step=True, on_epoch=True, prog_bar=True, logger=True)\n",
        "        return {'test_loss':loss, 'test_acc': acc}\n",
        "\n",
        "    def configure_optimizers(self):\n",
        "        string = \"optimizer = optim.\" + confOptim.optimizer + \"(self.parameters(), confOptim.lr, confOptim.betas)\"\n",
        "        exec(string)\n",
        "        string = \"lr_scheduler = optim.lr_scheduler.\" + confSched.scheduler + \"(optimizer, confSched.step_size, confSched.gamma)\" \n",
        "        exec(string)\n",
        "        return [optimizer], [lr_scheduler] \n"
      ],
      "metadata": {
        "id": "XeHk0JmlWNcg"
      },
      "execution_count": 33,
      "outputs": []
    },
    {
      "cell_type": "markdown",
      "source": [
        "## test Linear i BatchNorm1d"
      ],
      "metadata": {
        "id": "Af_vuMMgXmEP"
      }
    },
    {
      "cell_type": "code",
      "source": [
        "tensor = torch.randn(32,1000,3)\n",
        "permuted_tensor = tensor.permute(0,2,1)\n",
        "transposed_tensor = tensor.transpose(2, 1)\n",
        "\n",
        "print(\"Oryginalny tensor \", tensor.shape)\n",
        "print(\"Permutacja \", permuted_tensor.shape)\n",
        "print(\"Transpozycja \", transposed_tensor.shape)\n",
        "\n",
        "lin1 = nn.Linear(3, 64)           #DEF\n",
        "conv1 = nn.Conv1d(3, 64, 1)       #DEF\n",
        "\n",
        "lin1.weight = torch.nn.Parameter(conv1.weight.squeeze(2))\n",
        "lin1.bias = torch.nn.Parameter(conv1.bias)\n",
        "\n",
        "out_linear = lin1(tensor).transpose(2, 1)\n",
        "out_conv = conv1(permuted_tensor)\n",
        "\n",
        "print(\"Pierwsza warstwa liniowa (mean) \", out_linear.mean())\n",
        "print(\"Pierwsza warstwa liniowa (shape) \", out_linear.shape)\n",
        "print(\"Pierwsza warstwa konwolucyjna (mean) \", out_conv.mean())\n",
        "print(\"Pierwsza warstwa konwolucyjna (shape) \", out_conv.shape)\n",
        "\n",
        "bn1 = nn.BatchNorm1d(64)          #DEF\n",
        "\n",
        "out_bnlinear = bn1(out_linear)\n",
        "out_bnconv = bn1(out_conv)\n",
        "\n",
        "print(\"BatchNorm64 - liniowa\", out_bnlinear.shape)\n",
        "print(\"BatchNorm64 - konwolucyjna\", out_bnconv.shape)\n",
        "\n",
        "out_linearrelu = F.relu(out_bnlinear)\n",
        "out_convrelu = F.relu(out_bnconv)\n",
        "\n",
        "print(\"ReLU - liniowa\", out_linearrelu.shape)\n",
        "print(\"ReLU - konwolucyjna\", out_convrelu.shape)\n",
        "\n",
        "lin2 = nn.Linear(64, 128)         #DEF\n",
        "conv2 = nn.Conv1d(64, 128, 1)     #DEF\n",
        "\n",
        "out_2linear = lin2(out_linearrelu.transpose(2, 1)).transpose(2,1)\n",
        "out_2conv = conv2(out_convrelu)\n",
        "\n",
        "print(\"2 warstwa - liniowa\", out_2linear.shape)\n",
        "print(\"2 warstwa - konwolucyjna\", out_2conv.shape)\n",
        "\n",
        "bn2 = nn.BatchNorm1d(128)          #DEF\n",
        "\n",
        "out_2bnlinear = bn2(out_2linear)\n",
        "out_2bnconv = bn2(out_2conv)"
      ],
      "metadata": {
        "colab": {
          "base_uri": "https://localhost:8080/"
        },
        "id": "7zDAvV0nNX2w",
        "outputId": "5e447b7d-50bf-438f-c30b-fa519046c365"
      },
      "execution_count": null,
      "outputs": [
        {
          "output_type": "stream",
          "name": "stdout",
          "text": [
            "Oryginalny tensor  torch.Size([32, 1000, 3])\n",
            "Permutacja  torch.Size([32, 3, 1000])\n",
            "Transpozycja  torch.Size([32, 3, 1000])\n",
            "Pierwsza warstwa liniowa (mean)  tensor(-0.0141, grad_fn=<MeanBackward0>)\n",
            "Pierwsza warstwa liniowa (shape)  torch.Size([32, 64, 1000])\n",
            "Pierwsza warstwa konwolucyjna (mean)  tensor(-0.0141, grad_fn=<MeanBackward0>)\n",
            "Pierwsza warstwa konwolucyjna (shape)  torch.Size([32, 64, 1000])\n",
            "BatchNorm64 - liniowa torch.Size([32, 64, 1000])\n",
            "BatchNorm64 - konwolucyjna torch.Size([32, 64, 1000])\n",
            "ReLU - liniowa torch.Size([32, 64, 1000])\n",
            "ReLU - konwolucyjna torch.Size([32, 64, 1000])\n",
            "2 warstwa - liniowa torch.Size([32, 128, 1000])\n",
            "2 warstwa - konwolucyjna torch.Size([32, 128, 1000])\n"
          ]
        }
      ]
    },
    {
      "cell_type": "markdown",
      "metadata": {
        "id": "_Bz8yEL5VZP9"
      },
      "source": [
        "#TRENOWANIE"
      ]
    },
    {
      "cell_type": "code",
      "source": [
        "PointNetModel = PointNetCls(\n",
        "    k=dataset_num_classes, \n",
        "    feature_transform=options.feature_transform)\n",
        "\n",
        "classifier = GenericClassifier(PointNetModel)\n",
        "\n",
        "dm = ModelNetDataModule()\n",
        "#dm.prepare_data()\n",
        "dm.setup()\n",
        "\n",
        "trainer = pl.Trainer(\n",
        "    check_val_every_n_epoch =   optionsTrainer.check_val_every_n_epoch, \n",
        "    num_sanity_val_steps =      optionsTrainer.num_sanity_val_steps, \n",
        "    gpus =                      optionsTrainer.gpus, \n",
        "    accelerator =               optionsTrainer.accelerator,\n",
        "    devices =                   optionsTrainer.devices,\n",
        "    auto_select_gpus =          optionsTrainer.auto_select_gpus, \n",
        "    max_epochs =                optionsTrainer.max_epochs, \n",
        "    auto_scale_batch_size =     optionsTrainer.auto_scale_batch_size, \n",
        "    amp_backend =               optionsTrainer.amp_backend, \n",
        "    benchmark =                 optionsTrainer.benchmark, \n",
        "    overfit_batches =           optionsTrainer.overfit_batches)\n",
        "\n",
        "trainer.fit(\n",
        "    model=classifier, \n",
        "    datamodule=dm)"
      ],
      "metadata": {
        "colab": {
          "base_uri": "https://localhost:8080/",
          "height": 399,
          "referenced_widgets": [
            "116ac52895684fe5a5e988711098d782",
            "dfc02819a78d4341a325363199359216",
            "c98bbe5a20674657a5b8575120952297",
            "08c0bf5e64844363b31239396a2f8f06",
            "8e30bb80efcf461d9e5135f92c31b509",
            "b98123dcfed64d8b9eb61ddcaba50072",
            "711ee447f98740bf9cd0d035381a4bee",
            "1905483405924eb887347b18edbaecb7",
            "31b357453e6142de8c3445c69a696296",
            "0a0669a410aa49129af24781b9694d16",
            "1dd75409a39b47809261f9bfe1ada194",
            "b5b7d197ce1c4bd2b66f6b4fac6ec93f",
            "0f51493810744ce6b905460790ada7a6",
            "2c0fcf2d19844f53b91572185c9d5387",
            "388daaffabc84903ad947faeef95f889",
            "e6213f8c29c54b2888f145f06cb62d51",
            "0fd877bb63884feeb8c52e02e06ba833",
            "531e7a95eff34ecea1f68b6eeabb121b",
            "28ef620b93b1414986f5aa2691a685c8",
            "812edcd39ec548f7804139a4468f6afd",
            "3896f1b688c6467cb9943e4a4b0c2927",
            "3f4cc37fa4044deeaf24e993ee6209ac"
          ]
        },
        "id": "CQpjhqg7ZOYu",
        "outputId": "3a8ce409-49a8-4bf3-aa1f-141df31e6fed"
      },
      "execution_count": 36,
      "outputs": [
        {
          "output_type": "stream",
          "name": "stderr",
          "text": [
            "/usr/local/lib/python3.8/dist-packages/pytorch_lightning/trainer/connectors/accelerator_connector.py:441: LightningDeprecationWarning: Setting `Trainer(gpus=1)` is deprecated in v1.7 and will be removed in v2.0. Please use `Trainer(accelerator='gpu', devices=1)` instead.\n",
            "  rank_zero_deprecation(\n",
            "INFO:pytorch_lightning.trainer.connectors.accelerator_connector:Auto select gpus: [0]\n",
            "INFO:pytorch_lightning.utilities.rank_zero:GPU available: True (cuda), used: True\n",
            "INFO:pytorch_lightning.utilities.rank_zero:TPU available: False, using: 0 TPU cores\n",
            "INFO:pytorch_lightning.utilities.rank_zero:IPU available: False, using: 0 IPUs\n",
            "INFO:pytorch_lightning.utilities.rank_zero:HPU available: False, using: 0 HPUs\n",
            "WARNING:pytorch_lightning.loggers.tensorboard:Missing logger folder: /content/lightning_logs\n",
            "INFO:pytorch_lightning.accelerators.cuda:LOCAL_RANK: 0 - CUDA_VISIBLE_DEVICES: [0]\n",
            "INFO:pytorch_lightning.callbacks.model_summary:\n",
            "  | Name  | Type        | Params\n",
            "--------------------------------------\n",
            "0 | model | PointNetCls | 3.5 M \n",
            "--------------------------------------\n",
            "3.5 M     Trainable params\n",
            "0         Non-trainable params\n",
            "3.5 M     Total params\n",
            "13.855    Total estimated model params size (MB)\n"
          ]
        },
        {
          "output_type": "display_data",
          "data": {
            "text/plain": [
              "Training: 0it [00:00, ?it/s]"
            ],
            "application/vnd.jupyter.widget-view+json": {
              "version_major": 2,
              "version_minor": 0,
              "model_id": "116ac52895684fe5a5e988711098d782"
            }
          },
          "metadata": {}
        },
        {
          "output_type": "display_data",
          "data": {
            "text/plain": [
              "Validation: 0it [00:00, ?it/s]"
            ],
            "application/vnd.jupyter.widget-view+json": {
              "version_major": 2,
              "version_minor": 0,
              "model_id": "b5b7d197ce1c4bd2b66f6b4fac6ec93f"
            }
          },
          "metadata": {}
        },
        {
          "output_type": "stream",
          "name": "stderr",
          "text": [
            "INFO:pytorch_lightning.utilities.rank_zero:`Trainer.fit` stopped: `max_epochs=10` reached.\n"
          ]
        }
      ]
    },
    {
      "cell_type": "markdown",
      "source": [
        "#TESTOWANIE"
      ],
      "metadata": {
        "id": "NhcVANhuzC5r"
      }
    },
    {
      "cell_type": "code",
      "source": [
        "trainer.test(datamodule=dm)"
      ],
      "metadata": {
        "colab": {
          "base_uri": "https://localhost:8080/",
          "height": 295,
          "referenced_widgets": [
            "37f03977e49d442bbffcb7e2e813f5f3",
            "f87f933dee904656a439d76d6bcd6271",
            "e5c46e06942e491fb23e23491571bb67",
            "bb90c4bd666f4209b5cba4888e968394",
            "8c625adf5aee4320911a186111103a98",
            "5d232e947f2e4190bbce30fe07b6fdc8",
            "3fec2f09857a4920858be7be7264f6cd",
            "294acd062b37498882b41bdecb22811e",
            "fb7170f4aaec4d3e99d800e6101da01a",
            "670489a9d8bf4d3798cc90e474f6bf5d",
            "11bfe68881e54b3a8997d0d603a9c821"
          ]
        },
        "id": "l0BRnmZUy927",
        "outputId": "b10677e2-884a-4bf9-edab-64269adb49e8"
      },
      "execution_count": 37,
      "outputs": [
        {
          "output_type": "stream",
          "name": "stderr",
          "text": [
            "/usr/local/lib/python3.8/dist-packages/pytorch_lightning/trainer/connectors/checkpoint_connector.py:134: UserWarning: `.test(ckpt_path=None)` was called without a model. The best model of the previous `fit` call will be used. You can pass `.test(ckpt_path='best')` to use the best model or `.test(ckpt_path='last')` to use the last model. If you pass a value, this warning will be silenced.\n",
            "  rank_zero_warn(\n",
            "INFO:pytorch_lightning.utilities.rank_zero:Restoring states from the checkpoint path at /content/lightning_logs/version_0/checkpoints/epoch=9-step=1130.ckpt\n",
            "INFO:pytorch_lightning.accelerators.cuda:LOCAL_RANK: 0 - CUDA_VISIBLE_DEVICES: [0]\n",
            "INFO:pytorch_lightning.utilities.rank_zero:Loaded model weights from checkpoint at /content/lightning_logs/version_0/checkpoints/epoch=9-step=1130.ckpt\n"
          ]
        },
        {
          "output_type": "display_data",
          "data": {
            "text/plain": [
              "Testing: 0it [00:00, ?it/s]"
            ],
            "application/vnd.jupyter.widget-view+json": {
              "version_major": 2,
              "version_minor": 0,
              "model_id": "37f03977e49d442bbffcb7e2e813f5f3"
            }
          },
          "metadata": {}
        },
        {
          "output_type": "stream",
          "name": "stdout",
          "text": [
            "────────────────────────────────────────────────────────────────────────────────────────────────────────────────────────\n",
            "       Test metric             DataLoader 0\n",
            "────────────────────────────────────────────────────────────────────────────────────────────────────────────────────────\n",
            "     test_acc_epoch         0.11563877016305923\n",
            "     test_loss_epoch        2.5011863708496094\n",
            "────────────────────────────────────────────────────────────────────────────────────────────────────────────────────────\n"
          ]
        },
        {
          "output_type": "execute_result",
          "data": {
            "text/plain": [
              "[{'test_loss_epoch': 2.5011863708496094,\n",
              "  'test_acc_epoch': 0.11563877016305923}]"
            ]
          },
          "metadata": {},
          "execution_count": 37
        }
      ]
    },
    {
      "cell_type": "code",
      "source": [
        "%load_ext tensorboard"
      ],
      "metadata": {
        "id": "Y4IlMwgSlj2z"
      },
      "execution_count": 38,
      "outputs": []
    },
    {
      "cell_type": "code",
      "source": [
        "%tensorboard --logdir lightning_logs/"
      ],
      "metadata": {
        "id": "tHDPq1ON36E_"
      },
      "execution_count": null,
      "outputs": []
    },
    {
      "cell_type": "markdown",
      "source": [
        "# TRENOWANIE (ONLY PYTORCH)"
      ],
      "metadata": {
        "id": "T2b52TOZ5I0Z"
      }
    },
    {
      "cell_type": "code",
      "execution_count": null,
      "metadata": {
        "id": "QVkQgB__VYML"
      },
      "outputs": [],
      "source": [
        "blue = lambda x: '\\033[94m' + x + '\\033[0m'\n",
        "\n",
        "options.manualSeed = random.randint(1, 10000)  # fix seed\n",
        "print(\"Random Seed: \", options.manualSeed)\n",
        "random.seed(options.manualSeed)\n",
        "torch.manual_seed(options.manualSeed)\n",
        "\n",
        "dataset = ModelNetDataset(root=dataset_root, num_classes=dataset_num_classes, batch_size=options.batch_size, split='train', numpoints=options.num_points)\n",
        "testdataset = ModelNetDataset(root=dataset_root, num_classes=dataset_num_classes, batch_size=options.batch_size, split='test', numpoints=options.num_points)\n",
        "\n",
        "traindataset_size = int(len(dataset) * 0.9)\n",
        "traindataset, valdataset = random_split(dataset, [traindataset_size, len(dataset) - traindataset_size])\n",
        "\n",
        "print(\"Rozmiar zbioru treningowego: \" + str(len(traindataset)))\n",
        "print(\"Rozmiar zbioru walidacyjnego: \" + str(len(valdataset)))\n",
        "print(\"Rozmiar zbioru testowego: \" + str(len(testdataset)))\n",
        "print(\"Rozmiar batcha: \" + str(dataset.batch_size))\n",
        "print('Liczba klas: ' + str(dataset.num_classes))\n",
        "\n",
        "traindataloader = DataLoader(traindataset, batch_size=options.batch_size, num_workers=int(options.num_workers), shuffle=True)\n",
        "valdataloader = DataLoader(valdataset, batch_size=len(valdataset), num_workers=int(options.num_workers), shuffle=True)\n",
        "testdataloader = DataLoader(testdataset, batch_size=options.batch_size, num_workers=int(options.num_workers), shuffle=False)\n",
        "\n",
        "classifier = PointNetCls(k=dataset.num_classes, feature_transform=options.feature_transform)\n",
        "\n",
        "num_batch = len(traindataset) / options.batch_size\n",
        "\n",
        "try:\n",
        "    os.makedirs(options.out_folder)\n",
        "except OSError:\n",
        "    pass\n",
        "\n",
        "# CHECKPOINT MODELU UWARUNKOWANY PLIKIEM classification.yaml\n",
        "if options.model != '':\n",
        "    classifier.load_state_dict(torch.load(options.model))\n",
        "    options.num_epochs = 0\n",
        "\n",
        "optimizer = optim.Adam(classifier.parameters(), confOptim.lr, confOptim.betas)\n",
        "scheduler = optim.lr_scheduler.StepLR(optimizer, confSched.step_size, confSched.gamma)\n",
        "\n",
        "#classifier.to('cuda:0')\n",
        "\n",
        "if options.single_batch_overfit:\n",
        "    single_batch_overfit = torch.empty((options.batch_size, options.num_points, 3))\n",
        "    single_batch_overfit_cls = torch.empty((options.batch_size))\n",
        "    for n in range(options.batch_size):\n",
        "        item = dataset[100*n]\n",
        "        single_batch_overfit[n, :, :] = item[0]\n",
        "        single_batch_overfit_cls[n] = item[1]\n",
        "    single_batch_overfit_cls = single_batch_overfit_cls.type(torch.int64)\n",
        "\n",
        "writer = SummaryWriter()#tensorboard\n",
        "y_pred=[]\n",
        "y_true=[]\n",
        "classes = tuple([x for x in range(40)])\n",
        "i=0\n",
        "\n",
        "\n",
        "for epoch in range(options.num_epochs):\n",
        "    scheduler.step()\n",
        "    for i, data_ in enumerate(traindataloader, 0): \n",
        "        if not options.single_batch_overfit:\n",
        "          points, target = data_\n",
        "        else:\n",
        "          points, target = single_batch_overfit, single_batch_overfit_cls\n",
        "        #points = points.transpose(2, 1)\n",
        "        #points, target = points.to('cuda:0'), target.to('cuda:0')\n",
        "        optimizer.zero_grad()\n",
        "        classifier = classifier.train()\n",
        "        pred, trans, trans_feat = classifier(points)\n",
        "        loss = F.nll_loss(pred, target)\n",
        "        if options.feature_transform:\n",
        "            loss += feature_transform_regularizer(trans_feat) * 0.001\n",
        "        loss.backward()\n",
        "        optimizer.step()\n",
        "        pred_choice = pred.data.max(1)[1]\n",
        "        correct = pred_choice.eq(target.data).cpu().sum()\n",
        "        print('Epoch %d: batch %d of %d. Train loss: %f Accuracy: %f (%i/%i)' % (epoch+1, i, num_batch, loss.item(), correct.item() / float(options.batch_size), int(correct.item()), int(options.batch_size)))\n",
        "    j, data_ = next(enumerate(valdataloader, 0))\n",
        "    if not options.single_batch_overfit:\n",
        "      points, target = data_\n",
        "    else:\n",
        "      points, target = single_batch_overfit, single_batch_overfit_cls\n",
        "    #points = points.transpose(2, 1)\n",
        "    #points, target = points.to('cuda:0'), target.to('cuda:0')\n",
        "    classifier = classifier.eval()\n",
        "    pred, _, _ = classifier(points)\n",
        "    loss = F.nll_loss(pred, target)\n",
        "    pred_choice = pred.data.max(1)[1]\n",
        "    correct = pred_choice.eq(target.data).cpu().sum()\n",
        "    print('Epoch %d: batch %d of %d. %s loss: %f Accuracy: %f' % (epoch+1, i, num_batch, blue('Validation'), loss.item(), correct.item()/float(len(valdataset))))\n",
        "    torch.save(classifier.state_dict(), '%s/cls_model_%d.pth' % (options.out_folder, epoch))\n",
        "    #tensorboard \n",
        "    y_pred.extend( (torch.max(torch.exp(pred), 1)[1]).data.cpu().numpy() )\n",
        "    y_true.extend( target.data.cpu().numpy() )\n",
        "    cf_matrix = confusion_matrix(y_true, y_pred,labels=classes)\n",
        "    df_cm = pd.DataFrame(cf_matrix/np.sum(cf_matrix) * 10,index=[i for i in classes], columns=[i for i in classes]) \n",
        "    writer.add_figure(\"Confusion matrix\", sn.heatmap(df_cm, annot=True).get_figure(), epoch)\n",
        "    writer.add_scalar('loss', loss.item(), epoch) \n",
        "    writer.add_scalar('accuracy', correct.item()/float(len(valdataset)), epoch)    \n",
        "    #\n",
        "\n",
        "\n",
        "total_correct = 0\n",
        "total_testset = 0\n",
        "print(blue(\"Testing\"))\n",
        "\n",
        "for i,data_ in tqdm(enumerate(testdataloader, 0)):\n",
        "    if not options.single_batch_overfit:\n",
        "      points, target = data_\n",
        "    else:\n",
        "      points, target = single_batch_overfit, single_batch_overfit_cls\n",
        "    points = points.transpose(2, 1)\n",
        "    points, target = points.to('cuda:0'), target.to('cuda:0')\n",
        "    classifier = classifier.eval()\n",
        "    pred, _, _ = classifier(points)\n",
        "    pred_choice = pred.data.max(1)[1]\n",
        "    correct = pred_choice.eq(target.data).cpu().sum()\n",
        "    total_correct += correct.item()\n",
        "    total_testset += points.size()[0]\n",
        "\n",
        "print(\"\\nFinal accuracy: {}\".format(total_correct / float(total_testset)))"
      ]
    },
    {
      "cell_type": "markdown",
      "source": [
        "#TENSORBOARD"
      ],
      "metadata": {
        "id": "5KXWdf4A3Yan"
      }
    },
    {
      "cell_type": "code",
      "execution_count": null,
      "metadata": {
        "id": "4C5eJwd6R1OO"
      },
      "outputs": [],
      "source": [
        "%load_ext tensorboard"
      ]
    },
    {
      "cell_type": "code",
      "execution_count": null,
      "metadata": {
        "id": "UTOhHXC6aEau"
      },
      "outputs": [],
      "source": [
        "!kill 2278"
      ]
    },
    {
      "cell_type": "code",
      "execution_count": null,
      "metadata": {
        "id": "vXek99z-R4Fb"
      },
      "outputs": [],
      "source": [
        "%tensorboard --logdir runs"
      ]
    }
  ],
  "metadata": {
    "colab": {
      "provenance": [],
      "collapsed_sections": [
        "Af_vuMMgXmEP"
      ]
    },
    "gpuClass": "standard",
    "kernelspec": {
      "display_name": "Python 3",
      "name": "python3"
    },
    "language_info": {
      "name": "python"
    },
    "accelerator": "GPU",
    "widgets": {
      "application/vnd.jupyter.widget-state+json": {
        "116ac52895684fe5a5e988711098d782": {
          "model_module": "@jupyter-widgets/controls",
          "model_name": "HBoxModel",
          "model_module_version": "1.5.0",
          "state": {
            "_dom_classes": [],
            "_model_module": "@jupyter-widgets/controls",
            "_model_module_version": "1.5.0",
            "_model_name": "HBoxModel",
            "_view_count": null,
            "_view_module": "@jupyter-widgets/controls",
            "_view_module_version": "1.5.0",
            "_view_name": "HBoxView",
            "box_style": "",
            "children": [
              "IPY_MODEL_dfc02819a78d4341a325363199359216",
              "IPY_MODEL_c98bbe5a20674657a5b8575120952297",
              "IPY_MODEL_08c0bf5e64844363b31239396a2f8f06"
            ],
            "layout": "IPY_MODEL_8e30bb80efcf461d9e5135f92c31b509"
          }
        },
        "dfc02819a78d4341a325363199359216": {
          "model_module": "@jupyter-widgets/controls",
          "model_name": "HTMLModel",
          "model_module_version": "1.5.0",
          "state": {
            "_dom_classes": [],
            "_model_module": "@jupyter-widgets/controls",
            "_model_module_version": "1.5.0",
            "_model_name": "HTMLModel",
            "_view_count": null,
            "_view_module": "@jupyter-widgets/controls",
            "_view_module_version": "1.5.0",
            "_view_name": "HTMLView",
            "description": "",
            "description_tooltip": null,
            "layout": "IPY_MODEL_b98123dcfed64d8b9eb61ddcaba50072",
            "placeholder": "​",
            "style": "IPY_MODEL_711ee447f98740bf9cd0d035381a4bee",
            "value": "Epoch 9: "
          }
        },
        "c98bbe5a20674657a5b8575120952297": {
          "model_module": "@jupyter-widgets/controls",
          "model_name": "FloatProgressModel",
          "model_module_version": "1.5.0",
          "state": {
            "_dom_classes": [],
            "_model_module": "@jupyter-widgets/controls",
            "_model_module_version": "1.5.0",
            "_model_name": "FloatProgressModel",
            "_view_count": null,
            "_view_module": "@jupyter-widgets/controls",
            "_view_module_version": "1.5.0",
            "_view_name": "ProgressView",
            "bar_style": "success",
            "description": "",
            "description_tooltip": null,
            "layout": "IPY_MODEL_1905483405924eb887347b18edbaecb7",
            "max": 113,
            "min": 0,
            "orientation": "horizontal",
            "style": "IPY_MODEL_31b357453e6142de8c3445c69a696296",
            "value": 113
          }
        },
        "08c0bf5e64844363b31239396a2f8f06": {
          "model_module": "@jupyter-widgets/controls",
          "model_name": "HTMLModel",
          "model_module_version": "1.5.0",
          "state": {
            "_dom_classes": [],
            "_model_module": "@jupyter-widgets/controls",
            "_model_module_version": "1.5.0",
            "_model_name": "HTMLModel",
            "_view_count": null,
            "_view_module": "@jupyter-widgets/controls",
            "_view_module_version": "1.5.0",
            "_view_name": "HTMLView",
            "description": "",
            "description_tooltip": null,
            "layout": "IPY_MODEL_0a0669a410aa49129af24781b9694d16",
            "placeholder": "​",
            "style": "IPY_MODEL_1dd75409a39b47809261f9bfe1ada194",
            "value": " 126/? [01:50&lt;00:00,  1.14it/s, loss=2.49, v_num=0, train_loss_step=2.500, train_loss_epoch=2.470, val_loss_step=2.560, val_acc_step=0.125, val_loss_epoch=2.450, val_acc_epoch=0.110]"
          }
        },
        "8e30bb80efcf461d9e5135f92c31b509": {
          "model_module": "@jupyter-widgets/base",
          "model_name": "LayoutModel",
          "model_module_version": "1.2.0",
          "state": {
            "_model_module": "@jupyter-widgets/base",
            "_model_module_version": "1.2.0",
            "_model_name": "LayoutModel",
            "_view_count": null,
            "_view_module": "@jupyter-widgets/base",
            "_view_module_version": "1.2.0",
            "_view_name": "LayoutView",
            "align_content": null,
            "align_items": null,
            "align_self": null,
            "border": null,
            "bottom": null,
            "display": "inline-flex",
            "flex": null,
            "flex_flow": "row wrap",
            "grid_area": null,
            "grid_auto_columns": null,
            "grid_auto_flow": null,
            "grid_auto_rows": null,
            "grid_column": null,
            "grid_gap": null,
            "grid_row": null,
            "grid_template_areas": null,
            "grid_template_columns": null,
            "grid_template_rows": null,
            "height": null,
            "justify_content": null,
            "justify_items": null,
            "left": null,
            "margin": null,
            "max_height": null,
            "max_width": null,
            "min_height": null,
            "min_width": null,
            "object_fit": null,
            "object_position": null,
            "order": null,
            "overflow": null,
            "overflow_x": null,
            "overflow_y": null,
            "padding": null,
            "right": null,
            "top": null,
            "visibility": null,
            "width": "100%"
          }
        },
        "b98123dcfed64d8b9eb61ddcaba50072": {
          "model_module": "@jupyter-widgets/base",
          "model_name": "LayoutModel",
          "model_module_version": "1.2.0",
          "state": {
            "_model_module": "@jupyter-widgets/base",
            "_model_module_version": "1.2.0",
            "_model_name": "LayoutModel",
            "_view_count": null,
            "_view_module": "@jupyter-widgets/base",
            "_view_module_version": "1.2.0",
            "_view_name": "LayoutView",
            "align_content": null,
            "align_items": null,
            "align_self": null,
            "border": null,
            "bottom": null,
            "display": null,
            "flex": null,
            "flex_flow": null,
            "grid_area": null,
            "grid_auto_columns": null,
            "grid_auto_flow": null,
            "grid_auto_rows": null,
            "grid_column": null,
            "grid_gap": null,
            "grid_row": null,
            "grid_template_areas": null,
            "grid_template_columns": null,
            "grid_template_rows": null,
            "height": null,
            "justify_content": null,
            "justify_items": null,
            "left": null,
            "margin": null,
            "max_height": null,
            "max_width": null,
            "min_height": null,
            "min_width": null,
            "object_fit": null,
            "object_position": null,
            "order": null,
            "overflow": null,
            "overflow_x": null,
            "overflow_y": null,
            "padding": null,
            "right": null,
            "top": null,
            "visibility": null,
            "width": null
          }
        },
        "711ee447f98740bf9cd0d035381a4bee": {
          "model_module": "@jupyter-widgets/controls",
          "model_name": "DescriptionStyleModel",
          "model_module_version": "1.5.0",
          "state": {
            "_model_module": "@jupyter-widgets/controls",
            "_model_module_version": "1.5.0",
            "_model_name": "DescriptionStyleModel",
            "_view_count": null,
            "_view_module": "@jupyter-widgets/base",
            "_view_module_version": "1.2.0",
            "_view_name": "StyleView",
            "description_width": ""
          }
        },
        "1905483405924eb887347b18edbaecb7": {
          "model_module": "@jupyter-widgets/base",
          "model_name": "LayoutModel",
          "model_module_version": "1.2.0",
          "state": {
            "_model_module": "@jupyter-widgets/base",
            "_model_module_version": "1.2.0",
            "_model_name": "LayoutModel",
            "_view_count": null,
            "_view_module": "@jupyter-widgets/base",
            "_view_module_version": "1.2.0",
            "_view_name": "LayoutView",
            "align_content": null,
            "align_items": null,
            "align_self": null,
            "border": null,
            "bottom": null,
            "display": null,
            "flex": "2",
            "flex_flow": null,
            "grid_area": null,
            "grid_auto_columns": null,
            "grid_auto_flow": null,
            "grid_auto_rows": null,
            "grid_column": null,
            "grid_gap": null,
            "grid_row": null,
            "grid_template_areas": null,
            "grid_template_columns": null,
            "grid_template_rows": null,
            "height": null,
            "justify_content": null,
            "justify_items": null,
            "left": null,
            "margin": null,
            "max_height": null,
            "max_width": null,
            "min_height": null,
            "min_width": null,
            "object_fit": null,
            "object_position": null,
            "order": null,
            "overflow": null,
            "overflow_x": null,
            "overflow_y": null,
            "padding": null,
            "right": null,
            "top": null,
            "visibility": null,
            "width": null
          }
        },
        "31b357453e6142de8c3445c69a696296": {
          "model_module": "@jupyter-widgets/controls",
          "model_name": "ProgressStyleModel",
          "model_module_version": "1.5.0",
          "state": {
            "_model_module": "@jupyter-widgets/controls",
            "_model_module_version": "1.5.0",
            "_model_name": "ProgressStyleModel",
            "_view_count": null,
            "_view_module": "@jupyter-widgets/base",
            "_view_module_version": "1.2.0",
            "_view_name": "StyleView",
            "bar_color": null,
            "description_width": ""
          }
        },
        "0a0669a410aa49129af24781b9694d16": {
          "model_module": "@jupyter-widgets/base",
          "model_name": "LayoutModel",
          "model_module_version": "1.2.0",
          "state": {
            "_model_module": "@jupyter-widgets/base",
            "_model_module_version": "1.2.0",
            "_model_name": "LayoutModel",
            "_view_count": null,
            "_view_module": "@jupyter-widgets/base",
            "_view_module_version": "1.2.0",
            "_view_name": "LayoutView",
            "align_content": null,
            "align_items": null,
            "align_self": null,
            "border": null,
            "bottom": null,
            "display": null,
            "flex": null,
            "flex_flow": null,
            "grid_area": null,
            "grid_auto_columns": null,
            "grid_auto_flow": null,
            "grid_auto_rows": null,
            "grid_column": null,
            "grid_gap": null,
            "grid_row": null,
            "grid_template_areas": null,
            "grid_template_columns": null,
            "grid_template_rows": null,
            "height": null,
            "justify_content": null,
            "justify_items": null,
            "left": null,
            "margin": null,
            "max_height": null,
            "max_width": null,
            "min_height": null,
            "min_width": null,
            "object_fit": null,
            "object_position": null,
            "order": null,
            "overflow": null,
            "overflow_x": null,
            "overflow_y": null,
            "padding": null,
            "right": null,
            "top": null,
            "visibility": null,
            "width": null
          }
        },
        "1dd75409a39b47809261f9bfe1ada194": {
          "model_module": "@jupyter-widgets/controls",
          "model_name": "DescriptionStyleModel",
          "model_module_version": "1.5.0",
          "state": {
            "_model_module": "@jupyter-widgets/controls",
            "_model_module_version": "1.5.0",
            "_model_name": "DescriptionStyleModel",
            "_view_count": null,
            "_view_module": "@jupyter-widgets/base",
            "_view_module_version": "1.2.0",
            "_view_name": "StyleView",
            "description_width": ""
          }
        },
        "b5b7d197ce1c4bd2b66f6b4fac6ec93f": {
          "model_module": "@jupyter-widgets/controls",
          "model_name": "HBoxModel",
          "model_module_version": "1.5.0",
          "state": {
            "_dom_classes": [],
            "_model_module": "@jupyter-widgets/controls",
            "_model_module_version": "1.5.0",
            "_model_name": "HBoxModel",
            "_view_count": null,
            "_view_module": "@jupyter-widgets/controls",
            "_view_module_version": "1.5.0",
            "_view_name": "HBoxView",
            "box_style": "",
            "children": [
              "IPY_MODEL_0f51493810744ce6b905460790ada7a6",
              "IPY_MODEL_2c0fcf2d19844f53b91572185c9d5387",
              "IPY_MODEL_388daaffabc84903ad947faeef95f889"
            ],
            "layout": "IPY_MODEL_e6213f8c29c54b2888f145f06cb62d51"
          }
        },
        "0f51493810744ce6b905460790ada7a6": {
          "model_module": "@jupyter-widgets/controls",
          "model_name": "HTMLModel",
          "model_module_version": "1.5.0",
          "state": {
            "_dom_classes": [],
            "_model_module": "@jupyter-widgets/controls",
            "_model_module_version": "1.5.0",
            "_model_name": "HTMLModel",
            "_view_count": null,
            "_view_module": "@jupyter-widgets/controls",
            "_view_module_version": "1.5.0",
            "_view_name": "HTMLView",
            "description": "",
            "description_tooltip": null,
            "layout": "IPY_MODEL_0fd877bb63884feeb8c52e02e06ba833",
            "placeholder": "​",
            "style": "IPY_MODEL_531e7a95eff34ecea1f68b6eeabb121b",
            "value": "Validation DataLoader 0: 100%"
          }
        },
        "2c0fcf2d19844f53b91572185c9d5387": {
          "model_module": "@jupyter-widgets/controls",
          "model_name": "FloatProgressModel",
          "model_module_version": "1.5.0",
          "state": {
            "_dom_classes": [],
            "_model_module": "@jupyter-widgets/controls",
            "_model_module_version": "1.5.0",
            "_model_name": "FloatProgressModel",
            "_view_count": null,
            "_view_module": "@jupyter-widgets/controls",
            "_view_module_version": "1.5.0",
            "_view_name": "ProgressView",
            "bar_style": "",
            "description": "",
            "description_tooltip": null,
            "layout": "IPY_MODEL_28ef620b93b1414986f5aa2691a685c8",
            "max": 13,
            "min": 0,
            "orientation": "horizontal",
            "style": "IPY_MODEL_812edcd39ec548f7804139a4468f6afd",
            "value": 13
          }
        },
        "388daaffabc84903ad947faeef95f889": {
          "model_module": "@jupyter-widgets/controls",
          "model_name": "HTMLModel",
          "model_module_version": "1.5.0",
          "state": {
            "_dom_classes": [],
            "_model_module": "@jupyter-widgets/controls",
            "_model_module_version": "1.5.0",
            "_model_name": "HTMLModel",
            "_view_count": null,
            "_view_module": "@jupyter-widgets/controls",
            "_view_module_version": "1.5.0",
            "_view_name": "HTMLView",
            "description": "",
            "description_tooltip": null,
            "layout": "IPY_MODEL_3896f1b688c6467cb9943e4a4b0c2927",
            "placeholder": "​",
            "style": "IPY_MODEL_3f4cc37fa4044deeaf24e993ee6209ac",
            "value": " 13/13 [00:09&lt;00:00,  1.35it/s]"
          }
        },
        "e6213f8c29c54b2888f145f06cb62d51": {
          "model_module": "@jupyter-widgets/base",
          "model_name": "LayoutModel",
          "model_module_version": "1.2.0",
          "state": {
            "_model_module": "@jupyter-widgets/base",
            "_model_module_version": "1.2.0",
            "_model_name": "LayoutModel",
            "_view_count": null,
            "_view_module": "@jupyter-widgets/base",
            "_view_module_version": "1.2.0",
            "_view_name": "LayoutView",
            "align_content": null,
            "align_items": null,
            "align_self": null,
            "border": null,
            "bottom": null,
            "display": "inline-flex",
            "flex": null,
            "flex_flow": "row wrap",
            "grid_area": null,
            "grid_auto_columns": null,
            "grid_auto_flow": null,
            "grid_auto_rows": null,
            "grid_column": null,
            "grid_gap": null,
            "grid_row": null,
            "grid_template_areas": null,
            "grid_template_columns": null,
            "grid_template_rows": null,
            "height": null,
            "justify_content": null,
            "justify_items": null,
            "left": null,
            "margin": null,
            "max_height": null,
            "max_width": null,
            "min_height": null,
            "min_width": null,
            "object_fit": null,
            "object_position": null,
            "order": null,
            "overflow": null,
            "overflow_x": null,
            "overflow_y": null,
            "padding": null,
            "right": null,
            "top": null,
            "visibility": "hidden",
            "width": "100%"
          }
        },
        "0fd877bb63884feeb8c52e02e06ba833": {
          "model_module": "@jupyter-widgets/base",
          "model_name": "LayoutModel",
          "model_module_version": "1.2.0",
          "state": {
            "_model_module": "@jupyter-widgets/base",
            "_model_module_version": "1.2.0",
            "_model_name": "LayoutModel",
            "_view_count": null,
            "_view_module": "@jupyter-widgets/base",
            "_view_module_version": "1.2.0",
            "_view_name": "LayoutView",
            "align_content": null,
            "align_items": null,
            "align_self": null,
            "border": null,
            "bottom": null,
            "display": null,
            "flex": null,
            "flex_flow": null,
            "grid_area": null,
            "grid_auto_columns": null,
            "grid_auto_flow": null,
            "grid_auto_rows": null,
            "grid_column": null,
            "grid_gap": null,
            "grid_row": null,
            "grid_template_areas": null,
            "grid_template_columns": null,
            "grid_template_rows": null,
            "height": null,
            "justify_content": null,
            "justify_items": null,
            "left": null,
            "margin": null,
            "max_height": null,
            "max_width": null,
            "min_height": null,
            "min_width": null,
            "object_fit": null,
            "object_position": null,
            "order": null,
            "overflow": null,
            "overflow_x": null,
            "overflow_y": null,
            "padding": null,
            "right": null,
            "top": null,
            "visibility": null,
            "width": null
          }
        },
        "531e7a95eff34ecea1f68b6eeabb121b": {
          "model_module": "@jupyter-widgets/controls",
          "model_name": "DescriptionStyleModel",
          "model_module_version": "1.5.0",
          "state": {
            "_model_module": "@jupyter-widgets/controls",
            "_model_module_version": "1.5.0",
            "_model_name": "DescriptionStyleModel",
            "_view_count": null,
            "_view_module": "@jupyter-widgets/base",
            "_view_module_version": "1.2.0",
            "_view_name": "StyleView",
            "description_width": ""
          }
        },
        "28ef620b93b1414986f5aa2691a685c8": {
          "model_module": "@jupyter-widgets/base",
          "model_name": "LayoutModel",
          "model_module_version": "1.2.0",
          "state": {
            "_model_module": "@jupyter-widgets/base",
            "_model_module_version": "1.2.0",
            "_model_name": "LayoutModel",
            "_view_count": null,
            "_view_module": "@jupyter-widgets/base",
            "_view_module_version": "1.2.0",
            "_view_name": "LayoutView",
            "align_content": null,
            "align_items": null,
            "align_self": null,
            "border": null,
            "bottom": null,
            "display": null,
            "flex": "2",
            "flex_flow": null,
            "grid_area": null,
            "grid_auto_columns": null,
            "grid_auto_flow": null,
            "grid_auto_rows": null,
            "grid_column": null,
            "grid_gap": null,
            "grid_row": null,
            "grid_template_areas": null,
            "grid_template_columns": null,
            "grid_template_rows": null,
            "height": null,
            "justify_content": null,
            "justify_items": null,
            "left": null,
            "margin": null,
            "max_height": null,
            "max_width": null,
            "min_height": null,
            "min_width": null,
            "object_fit": null,
            "object_position": null,
            "order": null,
            "overflow": null,
            "overflow_x": null,
            "overflow_y": null,
            "padding": null,
            "right": null,
            "top": null,
            "visibility": null,
            "width": null
          }
        },
        "812edcd39ec548f7804139a4468f6afd": {
          "model_module": "@jupyter-widgets/controls",
          "model_name": "ProgressStyleModel",
          "model_module_version": "1.5.0",
          "state": {
            "_model_module": "@jupyter-widgets/controls",
            "_model_module_version": "1.5.0",
            "_model_name": "ProgressStyleModel",
            "_view_count": null,
            "_view_module": "@jupyter-widgets/base",
            "_view_module_version": "1.2.0",
            "_view_name": "StyleView",
            "bar_color": null,
            "description_width": ""
          }
        },
        "3896f1b688c6467cb9943e4a4b0c2927": {
          "model_module": "@jupyter-widgets/base",
          "model_name": "LayoutModel",
          "model_module_version": "1.2.0",
          "state": {
            "_model_module": "@jupyter-widgets/base",
            "_model_module_version": "1.2.0",
            "_model_name": "LayoutModel",
            "_view_count": null,
            "_view_module": "@jupyter-widgets/base",
            "_view_module_version": "1.2.0",
            "_view_name": "LayoutView",
            "align_content": null,
            "align_items": null,
            "align_self": null,
            "border": null,
            "bottom": null,
            "display": null,
            "flex": null,
            "flex_flow": null,
            "grid_area": null,
            "grid_auto_columns": null,
            "grid_auto_flow": null,
            "grid_auto_rows": null,
            "grid_column": null,
            "grid_gap": null,
            "grid_row": null,
            "grid_template_areas": null,
            "grid_template_columns": null,
            "grid_template_rows": null,
            "height": null,
            "justify_content": null,
            "justify_items": null,
            "left": null,
            "margin": null,
            "max_height": null,
            "max_width": null,
            "min_height": null,
            "min_width": null,
            "object_fit": null,
            "object_position": null,
            "order": null,
            "overflow": null,
            "overflow_x": null,
            "overflow_y": null,
            "padding": null,
            "right": null,
            "top": null,
            "visibility": null,
            "width": null
          }
        },
        "3f4cc37fa4044deeaf24e993ee6209ac": {
          "model_module": "@jupyter-widgets/controls",
          "model_name": "DescriptionStyleModel",
          "model_module_version": "1.5.0",
          "state": {
            "_model_module": "@jupyter-widgets/controls",
            "_model_module_version": "1.5.0",
            "_model_name": "DescriptionStyleModel",
            "_view_count": null,
            "_view_module": "@jupyter-widgets/base",
            "_view_module_version": "1.2.0",
            "_view_name": "StyleView",
            "description_width": ""
          }
        },
        "37f03977e49d442bbffcb7e2e813f5f3": {
          "model_module": "@jupyter-widgets/controls",
          "model_name": "HBoxModel",
          "model_module_version": "1.5.0",
          "state": {
            "_dom_classes": [],
            "_model_module": "@jupyter-widgets/controls",
            "_model_module_version": "1.5.0",
            "_model_name": "HBoxModel",
            "_view_count": null,
            "_view_module": "@jupyter-widgets/controls",
            "_view_module_version": "1.5.0",
            "_view_name": "HBoxView",
            "box_style": "",
            "children": [
              "IPY_MODEL_f87f933dee904656a439d76d6bcd6271",
              "IPY_MODEL_e5c46e06942e491fb23e23491571bb67",
              "IPY_MODEL_bb90c4bd666f4209b5cba4888e968394"
            ],
            "layout": "IPY_MODEL_8c625adf5aee4320911a186111103a98"
          }
        },
        "f87f933dee904656a439d76d6bcd6271": {
          "model_module": "@jupyter-widgets/controls",
          "model_name": "HTMLModel",
          "model_module_version": "1.5.0",
          "state": {
            "_dom_classes": [],
            "_model_module": "@jupyter-widgets/controls",
            "_model_module_version": "1.5.0",
            "_model_name": "HTMLModel",
            "_view_count": null,
            "_view_module": "@jupyter-widgets/controls",
            "_view_module_version": "1.5.0",
            "_view_name": "HTMLView",
            "description": "",
            "description_tooltip": null,
            "layout": "IPY_MODEL_5d232e947f2e4190bbce30fe07b6fdc8",
            "placeholder": "​",
            "style": "IPY_MODEL_3fec2f09857a4920858be7be7264f6cd",
            "value": "Testing DataLoader 0: 100%"
          }
        },
        "e5c46e06942e491fb23e23491571bb67": {
          "model_module": "@jupyter-widgets/controls",
          "model_name": "FloatProgressModel",
          "model_module_version": "1.5.0",
          "state": {
            "_dom_classes": [],
            "_model_module": "@jupyter-widgets/controls",
            "_model_module_version": "1.5.0",
            "_model_name": "FloatProgressModel",
            "_view_count": null,
            "_view_module": "@jupyter-widgets/controls",
            "_view_module_version": "1.5.0",
            "_view_name": "ProgressView",
            "bar_style": "success",
            "description": "",
            "description_tooltip": null,
            "layout": "IPY_MODEL_294acd062b37498882b41bdecb22811e",
            "max": 29,
            "min": 0,
            "orientation": "horizontal",
            "style": "IPY_MODEL_fb7170f4aaec4d3e99d800e6101da01a",
            "value": 29
          }
        },
        "bb90c4bd666f4209b5cba4888e968394": {
          "model_module": "@jupyter-widgets/controls",
          "model_name": "HTMLModel",
          "model_module_version": "1.5.0",
          "state": {
            "_dom_classes": [],
            "_model_module": "@jupyter-widgets/controls",
            "_model_module_version": "1.5.0",
            "_model_name": "HTMLModel",
            "_view_count": null,
            "_view_module": "@jupyter-widgets/controls",
            "_view_module_version": "1.5.0",
            "_view_name": "HTMLView",
            "description": "",
            "description_tooltip": null,
            "layout": "IPY_MODEL_670489a9d8bf4d3798cc90e474f6bf5d",
            "placeholder": "​",
            "style": "IPY_MODEL_11bfe68881e54b3a8997d0d603a9c821",
            "value": " 29/29 [00:17&lt;00:00,  1.63it/s]"
          }
        },
        "8c625adf5aee4320911a186111103a98": {
          "model_module": "@jupyter-widgets/base",
          "model_name": "LayoutModel",
          "model_module_version": "1.2.0",
          "state": {
            "_model_module": "@jupyter-widgets/base",
            "_model_module_version": "1.2.0",
            "_model_name": "LayoutModel",
            "_view_count": null,
            "_view_module": "@jupyter-widgets/base",
            "_view_module_version": "1.2.0",
            "_view_name": "LayoutView",
            "align_content": null,
            "align_items": null,
            "align_self": null,
            "border": null,
            "bottom": null,
            "display": "inline-flex",
            "flex": null,
            "flex_flow": "row wrap",
            "grid_area": null,
            "grid_auto_columns": null,
            "grid_auto_flow": null,
            "grid_auto_rows": null,
            "grid_column": null,
            "grid_gap": null,
            "grid_row": null,
            "grid_template_areas": null,
            "grid_template_columns": null,
            "grid_template_rows": null,
            "height": null,
            "justify_content": null,
            "justify_items": null,
            "left": null,
            "margin": null,
            "max_height": null,
            "max_width": null,
            "min_height": null,
            "min_width": null,
            "object_fit": null,
            "object_position": null,
            "order": null,
            "overflow": null,
            "overflow_x": null,
            "overflow_y": null,
            "padding": null,
            "right": null,
            "top": null,
            "visibility": null,
            "width": "100%"
          }
        },
        "5d232e947f2e4190bbce30fe07b6fdc8": {
          "model_module": "@jupyter-widgets/base",
          "model_name": "LayoutModel",
          "model_module_version": "1.2.0",
          "state": {
            "_model_module": "@jupyter-widgets/base",
            "_model_module_version": "1.2.0",
            "_model_name": "LayoutModel",
            "_view_count": null,
            "_view_module": "@jupyter-widgets/base",
            "_view_module_version": "1.2.0",
            "_view_name": "LayoutView",
            "align_content": null,
            "align_items": null,
            "align_self": null,
            "border": null,
            "bottom": null,
            "display": null,
            "flex": null,
            "flex_flow": null,
            "grid_area": null,
            "grid_auto_columns": null,
            "grid_auto_flow": null,
            "grid_auto_rows": null,
            "grid_column": null,
            "grid_gap": null,
            "grid_row": null,
            "grid_template_areas": null,
            "grid_template_columns": null,
            "grid_template_rows": null,
            "height": null,
            "justify_content": null,
            "justify_items": null,
            "left": null,
            "margin": null,
            "max_height": null,
            "max_width": null,
            "min_height": null,
            "min_width": null,
            "object_fit": null,
            "object_position": null,
            "order": null,
            "overflow": null,
            "overflow_x": null,
            "overflow_y": null,
            "padding": null,
            "right": null,
            "top": null,
            "visibility": null,
            "width": null
          }
        },
        "3fec2f09857a4920858be7be7264f6cd": {
          "model_module": "@jupyter-widgets/controls",
          "model_name": "DescriptionStyleModel",
          "model_module_version": "1.5.0",
          "state": {
            "_model_module": "@jupyter-widgets/controls",
            "_model_module_version": "1.5.0",
            "_model_name": "DescriptionStyleModel",
            "_view_count": null,
            "_view_module": "@jupyter-widgets/base",
            "_view_module_version": "1.2.0",
            "_view_name": "StyleView",
            "description_width": ""
          }
        },
        "294acd062b37498882b41bdecb22811e": {
          "model_module": "@jupyter-widgets/base",
          "model_name": "LayoutModel",
          "model_module_version": "1.2.0",
          "state": {
            "_model_module": "@jupyter-widgets/base",
            "_model_module_version": "1.2.0",
            "_model_name": "LayoutModel",
            "_view_count": null,
            "_view_module": "@jupyter-widgets/base",
            "_view_module_version": "1.2.0",
            "_view_name": "LayoutView",
            "align_content": null,
            "align_items": null,
            "align_self": null,
            "border": null,
            "bottom": null,
            "display": null,
            "flex": "2",
            "flex_flow": null,
            "grid_area": null,
            "grid_auto_columns": null,
            "grid_auto_flow": null,
            "grid_auto_rows": null,
            "grid_column": null,
            "grid_gap": null,
            "grid_row": null,
            "grid_template_areas": null,
            "grid_template_columns": null,
            "grid_template_rows": null,
            "height": null,
            "justify_content": null,
            "justify_items": null,
            "left": null,
            "margin": null,
            "max_height": null,
            "max_width": null,
            "min_height": null,
            "min_width": null,
            "object_fit": null,
            "object_position": null,
            "order": null,
            "overflow": null,
            "overflow_x": null,
            "overflow_y": null,
            "padding": null,
            "right": null,
            "top": null,
            "visibility": null,
            "width": null
          }
        },
        "fb7170f4aaec4d3e99d800e6101da01a": {
          "model_module": "@jupyter-widgets/controls",
          "model_name": "ProgressStyleModel",
          "model_module_version": "1.5.0",
          "state": {
            "_model_module": "@jupyter-widgets/controls",
            "_model_module_version": "1.5.0",
            "_model_name": "ProgressStyleModel",
            "_view_count": null,
            "_view_module": "@jupyter-widgets/base",
            "_view_module_version": "1.2.0",
            "_view_name": "StyleView",
            "bar_color": null,
            "description_width": ""
          }
        },
        "670489a9d8bf4d3798cc90e474f6bf5d": {
          "model_module": "@jupyter-widgets/base",
          "model_name": "LayoutModel",
          "model_module_version": "1.2.0",
          "state": {
            "_model_module": "@jupyter-widgets/base",
            "_model_module_version": "1.2.0",
            "_model_name": "LayoutModel",
            "_view_count": null,
            "_view_module": "@jupyter-widgets/base",
            "_view_module_version": "1.2.0",
            "_view_name": "LayoutView",
            "align_content": null,
            "align_items": null,
            "align_self": null,
            "border": null,
            "bottom": null,
            "display": null,
            "flex": null,
            "flex_flow": null,
            "grid_area": null,
            "grid_auto_columns": null,
            "grid_auto_flow": null,
            "grid_auto_rows": null,
            "grid_column": null,
            "grid_gap": null,
            "grid_row": null,
            "grid_template_areas": null,
            "grid_template_columns": null,
            "grid_template_rows": null,
            "height": null,
            "justify_content": null,
            "justify_items": null,
            "left": null,
            "margin": null,
            "max_height": null,
            "max_width": null,
            "min_height": null,
            "min_width": null,
            "object_fit": null,
            "object_position": null,
            "order": null,
            "overflow": null,
            "overflow_x": null,
            "overflow_y": null,
            "padding": null,
            "right": null,
            "top": null,
            "visibility": null,
            "width": null
          }
        },
        "11bfe68881e54b3a8997d0d603a9c821": {
          "model_module": "@jupyter-widgets/controls",
          "model_name": "DescriptionStyleModel",
          "model_module_version": "1.5.0",
          "state": {
            "_model_module": "@jupyter-widgets/controls",
            "_model_module_version": "1.5.0",
            "_model_name": "DescriptionStyleModel",
            "_view_count": null,
            "_view_module": "@jupyter-widgets/base",
            "_view_module_version": "1.2.0",
            "_view_name": "StyleView",
            "description_width": ""
          }
        }
      }
    }
  },
  "nbformat": 4,
  "nbformat_minor": 0
}