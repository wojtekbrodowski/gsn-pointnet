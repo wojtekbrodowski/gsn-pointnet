{
 "cells": [
  {
   "cell_type": "code",
   "execution_count": 1,
   "metadata": {
    "colab": {
     "base_uri": "https://localhost:8080/"
    },
    "id": "gS5b819tJ3WX",
    "outputId": "a82f0a4c-5f7a-49d5-c1a7-cc765f6792a5"
   },
   "outputs": [
    {
     "name": "stdout",
     "output_type": "stream",
     "text": [
      "\u001b[K     |████████████████████████████████| 800 kB 5.0 MB/s \n",
      "\u001b[K     |████████████████████████████████| 125 kB 51.8 MB/s \n",
      "\u001b[K     |████████████████████████████████| 512 kB 68.1 MB/s \n",
      "\u001b[K     |████████████████████████████████| 1.9 MB 4.3 MB/s \n",
      "\u001b[K     |████████████████████████████████| 182 kB 6.9 MB/s \n",
      "\u001b[K     |████████████████████████████████| 168 kB 26.1 MB/s \n",
      "\u001b[K     |████████████████████████████████| 62 kB 1.4 MB/s \n",
      "\u001b[K     |████████████████████████████████| 168 kB 50.3 MB/s \n",
      "\u001b[K     |████████████████████████████████| 166 kB 50.1 MB/s \n",
      "\u001b[K     |████████████████████████████████| 166 kB 24.5 MB/s \n",
      "\u001b[K     |████████████████████████████████| 162 kB 16.5 MB/s \n",
      "\u001b[K     |████████████████████████████████| 162 kB 24.0 MB/s \n",
      "\u001b[K     |████████████████████████████████| 158 kB 14.5 MB/s \n",
      "\u001b[K     |████████████████████████████████| 157 kB 23.8 MB/s \n",
      "\u001b[K     |████████████████████████████████| 157 kB 31.9 MB/s \n",
      "\u001b[K     |████████████████████████████████| 157 kB 26.8 MB/s \n",
      "\u001b[K     |████████████████████████████████| 157 kB 32.1 MB/s \n",
      "\u001b[K     |████████████████████████████████| 157 kB 27.0 MB/s \n",
      "\u001b[K     |████████████████████████████████| 157 kB 30.4 MB/s \n",
      "\u001b[K     |████████████████████████████████| 157 kB 33.9 MB/s \n",
      "\u001b[K     |████████████████████████████████| 156 kB 7.6 MB/s \n",
      "\u001b[?25h  Building wheel for pathtools (setup.py) ... \u001b[?25l\u001b[?25hdone\n",
      "\u001b[K     |████████████████████████████████| 153 kB 4.7 MB/s \n",
      "\u001b[K     |████████████████████████████████| 79 kB 7.9 MB/s \n",
      "\u001b[K     |████████████████████████████████| 117 kB 48.9 MB/s \n",
      "\u001b[?25h  Building wheel for antlr4-python3-runtime (setup.py) ... \u001b[?25l\u001b[?25hdone\n",
      "  Building wheel for unzip (setup.py) ... \u001b[?25l\u001b[?25hdone\n",
      "\u001b[K     |████████████████████████████████| 761 kB 5.0 MB/s \n",
      "\u001b[K     |████████████████████████████████| 386 kB 66.2 MB/s \n",
      "\u001b[K     |████████████████████████████████| 1.6 MB 57.0 MB/s \n",
      "\u001b[?25h  Building wheel for ipdb (setup.py) ... \u001b[?25l\u001b[?25hdone\n",
      "\u001b[31mERROR: pip's dependency resolver does not currently take into account all the packages that are installed. This behaviour is the source of the following dependency conflicts.\n",
      "google-colab 1.0.0 requires ipython~=7.9.0, but you have ipython 8.7.0 which is incompatible.\u001b[0m\n"
     ]
    },
    {
     "data": {
      "text/plain": []
     },
     "execution_count": 1,
     "metadata": {},
     "output_type": "execute_result"
    }
   ],
   "source": [
    "%%shell\n",
    "pip install pytorch-lightning --quiet\n",
    "pip install wandb --quiet\n",
    "pip install hydra-core --upgrade --quiet\n",
    "pip install unzip --quiet\n",
    "pip install ipdb -Uqq"
   ]
  },
  {
   "cell_type": "code",
   "execution_count": 82,
   "metadata": {
    "id": "V3SM_OA7JPkr"
   },
   "outputs": [],
   "source": [
    "# standardowe pakiety\n",
    "import os\n",
    "from os.path import join, isfile\n",
    "from os import listdir\n",
    "import numpy as np\n",
    "from scipy.io import loadmat\n",
    "import scipy as sp\n",
    "from PIL import Image\n",
    "import matplotlib.pyplot as plt\n",
    "from mpl_toolkits.mplot3d import Axes3D\n",
    "import random\n",
    "import glob\n",
    "import ipdb\n",
    "from __future__ import print_function\n",
    "from tqdm import tqdm\n",
    "\n",
    "# Pytorch \n",
    "import torch\n",
    "import torch.nn as nn\n",
    "import torch.nn.parallel\n",
    "import torch.optim as optim\n",
    "from torch.nn import functional as F\n",
    "from torch.utils.data import DataLoader, random_split\n",
    "import torch.utils.data as data\n",
    "from torchvision.datasets import CIFAR10\n",
    "from torchvision import transforms\n",
    "from torchvision.datasets import ImageFolder\n",
    "from torchvision.transforms import Compose, ToPILImage, Normalize, Resize, ToTensor\n",
    "from torch.autograd import Variable\n",
    "\n",
    "# Pytorch Lightning related imports\n",
    "import pytorch_lightning as pl\n",
    "from pytorch_lightning.callbacks import Callback\n",
    "from pytorch_lightning.callbacks.early_stopping import EarlyStopping\n",
    "from pytorch_lightning.loggers import WandbLogger\n",
    "from pytorch_lightning.callbacks import ModelCheckpoint\n",
    "import torchmetrics\n",
    "\n",
    "# Hydra\n",
    "import hydra\n",
    "from hydra.utils import instantiate\n",
    "from omegaconf import DictConfig, OmegaConf\n",
    "\n",
    "# Weights and Biases\n",
    "import wandb"
   ]
  },
  {
   "cell_type": "code",
   "execution_count": 3,
   "metadata": {
    "colab": {
     "base_uri": "https://localhost:8080/"
    },
    "id": "X_n2Oa_YO7Nr",
    "outputId": "c23674f9-6b70-451c-ef77-a54d6b6eed0c"
   },
   "outputs": [
    {
     "name": "stdout",
     "output_type": "stream",
     "text": [
      "--2022-12-13 14:38:50--  http://modelnet.cs.princeton.edu/ModelNet40.zip\n",
      "Resolving modelnet.cs.princeton.edu (modelnet.cs.princeton.edu)... 128.112.136.74\n",
      "Connecting to modelnet.cs.princeton.edu (modelnet.cs.princeton.edu)|128.112.136.74|:80... connected.\n",
      "HTTP request sent, awaiting response... 302 Found\n",
      "Location: https://modelnet.cs.princeton.edu/ModelNet40.zip [following]\n",
      "--2022-12-13 14:38:51--  https://modelnet.cs.princeton.edu/ModelNet40.zip\n",
      "Connecting to modelnet.cs.princeton.edu (modelnet.cs.princeton.edu)|128.112.136.74|:443... connected.\n",
      "HTTP request sent, awaiting response... 200 OK\n",
      "Length: 2039180837 (1.9G) [application/zip]\n",
      "Saving to: ‘ModelNet40.zip’\n",
      "\n",
      "ModelNet40.zip      100%[===================>]   1.90G  24.0MB/s    in 78s     \n",
      "\n",
      "2022-12-13 14:40:09 (24.9 MB/s) - ‘ModelNet40.zip’ saved [2039180837/2039180837]\n",
      "\n"
     ]
    }
   ],
   "source": [
    "! wget http://modelnet.cs.princeton.edu/ModelNet40.zip"
   ]
  },
  {
   "cell_type": "code",
   "execution_count": 10,
   "metadata": {
    "colab": {
     "base_uri": "https://localhost:8080/",
     "height": 417
    },
    "id": "rIh7Q2ZoO9F3",
    "outputId": "ea8c107a-71a2-458a-9b08-ab34f65144d7"
   },
   "outputs": [
    {
     "name": "stdout",
     "output_type": "stream",
     "text": [
      "mkdir: cannot create directory ‘model’: File exists\n",
      "replace /content/model/ModelNet40/stairs/train/stairs_0011.off? [y]es, [n]o, [A]ll, [N]one, [r]ename: "
     ]
    },
    {
     "ename": "CalledProcessError",
     "evalue": "ignored",
     "output_type": "error",
     "traceback": [
      "\u001b[0;31m---------------------------------------------------------------------------\u001b[0m",
      "\u001b[0;31mCalledProcessError\u001b[0m                        Traceback (most recent call last)",
      "\u001b[0;32m<ipython-input-10-49e91bda5f90>\u001b[0m in \u001b[0;36m<module>\u001b[0;34m\u001b[0m\n\u001b[0;32m----> 1\u001b[0;31m \u001b[0mget_ipython\u001b[0m\u001b[0;34m(\u001b[0m\u001b[0;34m)\u001b[0m\u001b[0;34m.\u001b[0m\u001b[0mrun_cell_magic\u001b[0m\u001b[0;34m(\u001b[0m\u001b[0;34m'shell'\u001b[0m\u001b[0;34m,\u001b[0m \u001b[0;34m''\u001b[0m\u001b[0;34m,\u001b[0m \u001b[0;34m'cd /content/\\nmkdir model\\nunzip -qq /content/ModelNet40.zip -d /content/model\\n'\u001b[0m\u001b[0;34m)\u001b[0m\u001b[0;34m\u001b[0m\u001b[0;34m\u001b[0m\u001b[0m\n\u001b[0m",
      "\u001b[0;32m/usr/local/lib/python3.8/dist-packages/IPython/core/interactiveshell.py\u001b[0m in \u001b[0;36mrun_cell_magic\u001b[0;34m(self, magic_name, line, cell)\u001b[0m\n\u001b[1;32m   2357\u001b[0m             \u001b[0;31m# Put magic args in a list so we can call with f(*a) syntax\u001b[0m\u001b[0;34m\u001b[0m\u001b[0;34m\u001b[0m\u001b[0;34m\u001b[0m\u001b[0m\n\u001b[1;32m   2358\u001b[0m             \u001b[0margs\u001b[0m \u001b[0;34m=\u001b[0m \u001b[0;34m[\u001b[0m\u001b[0mmagic_arg_s\u001b[0m\u001b[0;34m]\u001b[0m\u001b[0;34m\u001b[0m\u001b[0;34m\u001b[0m\u001b[0m\n\u001b[0;32m-> 2359\u001b[0;31m             \u001b[0mkwargs\u001b[0m \u001b[0;34m=\u001b[0m \u001b[0;34m{\u001b[0m\u001b[0;34m}\u001b[0m\u001b[0;34m\u001b[0m\u001b[0;34m\u001b[0m\u001b[0m\n\u001b[0m\u001b[1;32m   2360\u001b[0m             \u001b[0;31m# Grab local namespace if we need it:\u001b[0m\u001b[0;34m\u001b[0m\u001b[0;34m\u001b[0m\u001b[0;34m\u001b[0m\u001b[0m\n\u001b[1;32m   2361\u001b[0m             \u001b[0;32mif\u001b[0m \u001b[0mgetattr\u001b[0m\u001b[0;34m(\u001b[0m\u001b[0mfn\u001b[0m\u001b[0;34m,\u001b[0m \u001b[0;34m\"needs_local_scope\"\u001b[0m\u001b[0;34m,\u001b[0m \u001b[0;32mFalse\u001b[0m\u001b[0;34m)\u001b[0m\u001b[0;34m:\u001b[0m\u001b[0;34m\u001b[0m\u001b[0;34m\u001b[0m\u001b[0m\n",
      "\u001b[0;32m/usr/local/lib/python3.8/dist-packages/google/colab/_system_commands.py\u001b[0m in \u001b[0;36m_shell_cell_magic\u001b[0;34m(args, cmd)\u001b[0m\n\u001b[1;32m    107\u001b[0m   \u001b[0mresult\u001b[0m \u001b[0;34m=\u001b[0m \u001b[0m_run_command\u001b[0m\u001b[0;34m(\u001b[0m\u001b[0mcmd\u001b[0m\u001b[0;34m,\u001b[0m \u001b[0mclear_streamed_output\u001b[0m\u001b[0;34m=\u001b[0m\u001b[0;32mFalse\u001b[0m\u001b[0;34m)\u001b[0m\u001b[0;34m\u001b[0m\u001b[0;34m\u001b[0m\u001b[0m\n\u001b[1;32m    108\u001b[0m   \u001b[0;32mif\u001b[0m \u001b[0;32mnot\u001b[0m \u001b[0mparsed_args\u001b[0m\u001b[0;34m.\u001b[0m\u001b[0mignore_errors\u001b[0m\u001b[0;34m:\u001b[0m\u001b[0;34m\u001b[0m\u001b[0;34m\u001b[0m\u001b[0m\n\u001b[0;32m--> 109\u001b[0;31m     \u001b[0mresult\u001b[0m\u001b[0;34m.\u001b[0m\u001b[0mcheck_returncode\u001b[0m\u001b[0;34m(\u001b[0m\u001b[0;34m)\u001b[0m\u001b[0;34m\u001b[0m\u001b[0;34m\u001b[0m\u001b[0m\n\u001b[0m\u001b[1;32m    110\u001b[0m   \u001b[0;32mreturn\u001b[0m \u001b[0mresult\u001b[0m\u001b[0;34m\u001b[0m\u001b[0;34m\u001b[0m\u001b[0m\n\u001b[1;32m    111\u001b[0m \u001b[0;34m\u001b[0m\u001b[0m\n",
      "\u001b[0;32m/usr/local/lib/python3.8/dist-packages/google/colab/_system_commands.py\u001b[0m in \u001b[0;36mcheck_returncode\u001b[0;34m(self)\u001b[0m\n\u001b[1;32m    132\u001b[0m   \u001b[0;32mdef\u001b[0m \u001b[0mcheck_returncode\u001b[0m\u001b[0;34m(\u001b[0m\u001b[0mself\u001b[0m\u001b[0;34m)\u001b[0m\u001b[0;34m:\u001b[0m\u001b[0;34m\u001b[0m\u001b[0;34m\u001b[0m\u001b[0m\n\u001b[1;32m    133\u001b[0m     \u001b[0;32mif\u001b[0m \u001b[0mself\u001b[0m\u001b[0;34m.\u001b[0m\u001b[0mreturncode\u001b[0m\u001b[0;34m:\u001b[0m\u001b[0;34m\u001b[0m\u001b[0;34m\u001b[0m\u001b[0m\n\u001b[0;32m--> 134\u001b[0;31m       raise subprocess.CalledProcessError(\n\u001b[0m\u001b[1;32m    135\u001b[0m           returncode=self.returncode, cmd=self.args, output=self.output)\n\u001b[1;32m    136\u001b[0m \u001b[0;34m\u001b[0m\u001b[0m\n",
      "\u001b[0;31mCalledProcessError\u001b[0m: Command 'cd /content/\nmkdir model\nunzip -qq /content/ModelNet40.zip -d /content/model\n' returned non-zero exit status 80."
     ]
    }
   ],
   "source": [
    "%%shell\n",
    "cd /content/\n",
    "mkdir model\n",
    "unzip -qq /content/ModelNet40.zip -d /content/model"
   ]
  },
  {
   "cell_type": "markdown",
   "metadata": {
    "id": "5WdFSJIuZeol"
   },
   "source": [
    "#DEFAULT LOADER AND READER"
   ]
  },
  {
   "cell_type": "code",
   "execution_count": 83,
   "metadata": {
    "id": "FTJPZNSMG-7J"
   },
   "outputs": [],
   "source": [
    "def default_loader(path, numpoints):\n",
    "    myF = open(path, 'r')\n",
    "    firstLine = myF.readline().strip()\n",
    "    if 'OFF' != firstLine[0:3]:\n",
    "        raise ValueError('Not a valid OFF header')\n",
    "    if len(firstLine) > 3:\n",
    "        n_verts, n_faces, n_edges = tuple([int(s) for s in firstLine[4:].split(' ')])\n",
    "    else:\n",
    "        n_verts, n_faces, n_edges = tuple([int(s) for s in myF.readline().strip().split(' ')])\n",
    "    verts = torch.tensor([[float(s) for s in myF.readline().strip().split(' ')] for i_vert in range(n_verts)])\n",
    "    #ipdb.set_trace(context=5)#\n",
    "    if verts.shape[0] > 0:\n",
    "      choice = np.random.choice(verts.shape[0], numpoints, replace=True)\n",
    "      point_set = verts[choice, :]\n",
    "    else:\n",
    "      point_set=verts \n",
    "    #faces = [[int(s) for s in myF.readline().strip().split(' ')][1:] for i_face in range(n_faces)]\n",
    "    return point_set\n",
    "\n",
    "def default_flist_reader(flist):\n",
    "    imlist = []\n",
    "    main_data_folder_string = \"./model/ModelNet40/\"\n",
    "\n",
    "    classes_dirs = glob.glob(main_data_folder_string + \"*/\", recursive = False)\n",
    "    classes_list = [i.split('/')[3] for i in classes_dirs]\n",
    "    classes_nums = np.linspace(0,39,40)\n",
    "    classes_dict = dict(zip(sorted(classes_list), classes_nums.astype(int)))\n",
    "\n",
    "    for line in flist:\n",
    "        label_start_index = line.strip().find(main_data_folder_string) + len(main_data_folder_string)\n",
    "        label_end_index = line.strip()[label_start_index:].find('/')\n",
    "        imlabel = line.strip()[label_start_index:label_start_index+label_end_index]\n",
    "        imlabel = classes_dict[imlabel]\n",
    "        impath = line\n",
    "        imlist.append( (impath, imlabel) )\n",
    "    return imlist\n",
    "\n"
   ]
  },
  {
   "cell_type": "markdown",
   "metadata": {
    "id": "yrbLLONOZkh3"
   },
   "source": [
    "#MODELNET FILE LIST"
   ]
  },
  {
   "cell_type": "code",
   "execution_count": 55,
   "metadata": {
    "id": "zR2xHfBHjDbt"
   },
   "outputs": [],
   "source": [
    "del data"
   ]
  },
  {
   "cell_type": "code",
   "execution_count": 84,
   "metadata": {
    "id": "onC4Y1QCZkIK"
   },
   "outputs": [],
   "source": [
    "class ModelNetFileList(data.Dataset):\n",
    "    def __init__(self, root, flist, numpoints, transform=None, target_transform=None, flist_reader=default_flist_reader, loader=default_loader):\n",
    "        self.root = root\n",
    "        self.imlist = flist_reader(flist)\t\t\n",
    "        self.transform = transform\n",
    "        self.target_transform = target_transform\n",
    "        self.loader = loader\n",
    "        self.numpoints = numpoints\n",
    "\n",
    "    def __getitem__(self, index):\n",
    "        impath, target = self.imlist[index]\n",
    "        obj = self.loader(impath, self.numpoints)\n",
    "        return obj, target\n",
    "\n",
    "    def __len__(self):\n",
    "      return len(self.imlist)"
   ]
  },
  {
   "cell_type": "markdown",
   "metadata": {
    "id": "7yvJCbVGZmgL"
   },
   "source": [
    "#MODELNET DATA MODULE"
   ]
  },
  {
   "cell_type": "markdown",
   "metadata": {
    "id": "M4E0KWaQZt_8"
   },
   "source": [
    "#LOAD SAMPLE DATA"
   ]
  },
  {
   "cell_type": "code",
   "execution_count": 18,
   "metadata": {
    "colab": {
     "base_uri": "https://localhost:8080/",
     "height": 1000
    },
    "id": "NHM2qHyvzfvJ",
    "outputId": "5fb064fc-5f49-4459-d76d-36391f51d149"
   },
   "outputs": [
    {
     "name": "stdout",
     "output_type": "stream",
     "text": [
      "Rozmiar zbioru treningowego: 8858\n",
      "Rozmiar zbioru walidacyjnego: 985\n",
      "Rozmiar zbioru testowego: 2468\n"
     ]
    },
    {
     "data": {
      "image/png": "[encoded data removed]",
      "text/plain": [
       "<Figure size 720x720 with 1 Axes>"
      ]
     },
     "metadata": {
      "needs_background": "light"
     },
     "output_type": "display_data"
    },
    {
     "name": "stdout",
     "output_type": "stream",
     "text": [
      "Etykieta klasy: 8\n",
      "\n"
     ]
    },
    {
     "data": {
      "image/png": "[encoded data removed]",
      "text/plain": [
       "<Figure size 720x720 with 1 Axes>"
      ]
     },
     "metadata": {
      "needs_background": "light"
     },
     "output_type": "display_data"
    },
    {
     "name": "stdout",
     "output_type": "stream",
     "text": [
      "Etykieta klasy: 4\n",
      "\n"
     ]
    },
    {
     "data": {
      "image/png": "[encoded data removed]",
      "text/plain": [
       "<Figure size 720x720 with 1 Axes>"
      ]
     },
     "metadata": {
      "needs_background": "light"
     },
     "output_type": "display_data"
    },
    {
     "name": "stdout",
     "output_type": "stream",
     "text": [
      "Etykieta klasy: 33\n",
      "\n"
     ]
    },
    {
     "data": {
      "image/png": "[encoded data removed]",
      "text/plain": [
       "<Figure size 720x720 with 1 Axes>"
      ]
     },
     "metadata": {
      "needs_background": "light"
     },
     "output_type": "display_data"
    },
    {
     "name": "stdout",
     "output_type": "stream",
     "text": [
      "Etykieta klasy: 22\n",
      "\n"
     ]
    },
    {
     "data": {
      "image/png": "[encoded data removed]",
      "text/plain": [
       "<Figure size 720x720 with 1 Axes>"
      ]
     },
     "metadata": {
      "needs_background": "light"
     },
     "output_type": "display_data"
    },
    {
     "name": "stdout",
     "output_type": "stream",
     "text": [
      "Etykieta klasy: 33\n",
      "\n"
     ]
    }
   ],
   "source": [
    "sample_data = ModelNetDataModule(batch_size=10, npoints=4000)\n",
    "sample_data.setup()\n",
    "sample_data.prepare_batch()\n",
    "\n",
    "print(\"Rozmiar zbioru treningowego: \" + str(len(sample_data.train_dataset)))\n",
    "print(\"Rozmiar zbioru walidacyjnego: \" + str(len(sample_data.val_dataset)))\n",
    "print(\"Rozmiar zbioru testowego: \" + str(len(sample_data.test_dataset)))\n",
    "\n",
    "\n",
    "def show_examples(dataset, n):\n",
    "    for i in range(n):\n",
    "        tensor_image, target = random.choice(dataset)\n",
    "        #ipdb.set_trace(context=5)\n",
    "        fig = plt.figure(figsize=(10, 10))\n",
    "        ax = plt.axes(projection='3d')\n",
    "        V_np = np.asarray(tensor_image)\n",
    "\n",
    "        #print(V_np.size)\n",
    "        #print(V_np)\n",
    "        xx = V_np[:, 0]\n",
    "        yy = V_np[:, 1]\n",
    "        zz = V_np[:, 2]\n",
    "        ax.scatter(xx, yy, zz)\n",
    "        plt.axis('off')\n",
    "        plt.show()\n",
    "\n",
    "        print('Etykieta klasy: {}'.format(target))\n",
    "        print()\n",
    "  \n",
    "show_examples(sample_data.train_dataset, 5)\n",
    "\n",
    "#dir(sample_data)"
   ]
  },
  {
   "cell_type": "markdown",
   "metadata": {
    "id": "Bc-6cxt9JGHa"
   },
   "source": [
    "#STN3D"
   ]
  },
  {
   "cell_type": "code",
   "execution_count": 19,
   "metadata": {
    "id": "sarEePNK7Okp"
   },
   "outputs": [],
   "source": [
    "class STN3d(nn.Module):\n",
    "    def __init__(self, channel=3):\n",
    "        super(STN3d, self).__init__()\n",
    "        self.conv1 = torch.nn.Conv1d(channel, 64, 1)\n",
    "        self.conv2 = torch.nn.Conv1d(64, 128, 1)\n",
    "        self.conv3 = torch.nn.Conv1d(128, 1024, 1)\n",
    "        self.fc1 = nn.Linear(1024, 512)\n",
    "        self.fc2 = nn.Linear(512, 256)\n",
    "        self.fc3 = nn.Linear(256, 9)\n",
    "        self.relu = nn.ReLU()\n",
    "\n",
    "        self.bn1 = nn.BatchNorm1d(64) #To jest ta normalizacja odchylenia i sredniej (?)\n",
    "        self.bn2 = nn.BatchNorm1d(128)\n",
    "        self.bn3 = nn.BatchNorm1d(1024)\n",
    "        self.bn4 = nn.BatchNorm1d(512)\n",
    "        self.bn5 = nn.BatchNorm1d(256)\n",
    "\n",
    "\n",
    "    def forward(self, x):\n",
    "        # chodzi o to, żeby tutaj wchodził tensor [Batchsize x 3 x Length]\n",
    "        batchsize = x.shape[0]\n",
    "        x = F.relu(self.bn1(self.conv1(x)))\n",
    "        x = F.relu(self.bn2(self.conv2(x)))\n",
    "        x = F.relu(self.bn3(self.conv3(x)))\n",
    "        x = torch.max(x, 2, keepdim=True)[0]\n",
    "        x = x.view(-1, 1024) #to jest jakiś resize...(?2)\n",
    "        x = F.relu(self.bn4(self.fc1(x))) # próba na batch_size=1. Jak się nie wywali z tego etapu batchnormów to wywala błąd \"Error: Expected more than 1 value per channel when training\"\n",
    "        x = F.relu(self.bn5(self.fc2(x)))\n",
    "        #x = F.relu(self.fc1(x))\n",
    "        #x = F.relu(self.fc2(x))\n",
    "        x = self.fc3(x)\n",
    "        iden = Variable(torch.from_numpy(np.array([1, 0, 0, 0, 1, 0, 0, 0, 1]).astype(np.float32))).view(1, 9).repeat(batchsize, 1)\n",
    "        if x.is_cuda:\n",
    "            iden = iden.cuda()\n",
    "        x = x + iden\n",
    "        x = x.view(-1, 3, 3)\n",
    "        return x\n"
   ]
  },
  {
   "cell_type": "markdown",
   "metadata": {
    "id": "RndcfcMaQg1c"
   },
   "source": [
    "#STNKD"
   ]
  },
  {
   "cell_type": "code",
   "execution_count": 20,
   "metadata": {
    "id": "B0u_b14mQgNv"
   },
   "outputs": [],
   "source": [
    "class STNkd(nn.Module):\n",
    "    def __init__(self, k=64):\n",
    "        super(STNkd, self).__init__()\n",
    "        self.conv1 = torch.nn.Conv1d(k, 64, 1)\n",
    "        self.conv2 = torch.nn.Conv1d(64, 128, 1)\n",
    "        self.conv3 = torch.nn.Conv1d(128, 1024, 1)\n",
    "        self.fc1 = nn.Linear(1024, 512)\n",
    "        self.fc2 = nn.Linear(512, 256)\n",
    "        self.fc3 = nn.Linear(256, k*k)\n",
    "        self.relu = nn.ReLU()\n",
    "\n",
    "        self.bn1 = nn.BatchNorm1d(64)\n",
    "        self.bn2 = nn.BatchNorm1d(128)\n",
    "        self.bn3 = nn.BatchNorm1d(1024)\n",
    "        self.bn4 = nn.BatchNorm1d(512)\n",
    "        self.bn5 = nn.BatchNorm1d(256)\n",
    "\n",
    "        self.k = k\n",
    "\n",
    "    def forward(self, x):\n",
    "        batchsize = x.shape[0]\n",
    "        x = F.relu(self.bn1(self.conv1(x)))\n",
    "        x = F.relu(self.bn2(self.conv2(x)))\n",
    "        x = F.relu(self.bn3(self.conv3(x)))\n",
    "        x = torch.max(x, 2, keepdim=True)[0]\n",
    "        x = x.view(-1, 1024)\n",
    "\n",
    "        x = F.relu(self.bn4(self.fc1(x)))\n",
    "        x = F.relu(self.bn5(self.fc2(x)))\n",
    "        x = self.fc3(x)\n",
    "\n",
    "        iden = Variable(torch.from_numpy(np.eye(self.k).flatten().astype(np.float32))).view(1,self.k*self.k).repeat(batchsize,1)\n",
    "        if x.is_cuda:\n",
    "            iden = iden.cuda()\n",
    "        x = x + iden\n",
    "        x = x.view(-1, self.k, self.k)\n",
    "        return x"
   ]
  },
  {
   "cell_type": "markdown",
   "metadata": {
    "id": "zTp4RkRhJDmq"
   },
   "source": [
    "#POINTNET FEATURE"
   ]
  },
  {
   "cell_type": "code",
   "execution_count": 21,
   "metadata": {
    "id": "-5uBvfk3JCvO"
   },
   "outputs": [],
   "source": [
    "class PointNetfeat(nn.Module):\n",
    "    def __init__(self, global_feat = True, feature_transform = False):\n",
    "        super(PointNetfeat, self).__init__()\n",
    "        self.stn = STN3d()\n",
    "        self.conv1 = torch.nn.Conv1d(3, 64, 1)\n",
    "        self.conv2 = torch.nn.Conv1d(64, 128, 1)\n",
    "        self.conv3 = torch.nn.Conv1d(128, 1024, 1)\n",
    "        self.bn1 = nn.BatchNorm1d(64)\n",
    "        self.bn2 = nn.BatchNorm1d(128)\n",
    "        self.bn3 = nn.BatchNorm1d(1024)\n",
    "        self.global_feat = global_feat\n",
    "        self.feature_transform = feature_transform\n",
    "        if self.feature_transform:\n",
    "            self.fstn = STNkd(k=64)\n",
    "\n",
    "    def forward(self, x):\n",
    "        n_pts = x.shape[2]\n",
    "        trans = self.stn(x)\n",
    "        #ipdb.set_trace(context=5)\n",
    "        x = x.transpose(2, 1)\n",
    "        x = torch.bmm(x, trans)\n",
    "        x = x.transpose(2, 1)\n",
    "        x = F.relu(self.bn1(self.conv1(x)))\n",
    "\n",
    "        if self.feature_transform:\n",
    "            trans_feat = self.fstn(x)\n",
    "            x = x.transpose(2,1)\n",
    "            x = torch.bmm(x, trans_feat)\n",
    "            x = x.transpose(2,1)\n",
    "        else:\n",
    "            trans_feat = None\n",
    "\n",
    "        pointfeat = x\n",
    "        x = F.relu(self.bn2(self.conv2(x)))\n",
    "        x = self.bn3(self.conv3(x))\n",
    "        x = torch.max(x, 2, keepdim=True)[0]\n",
    "        x = x.view(-1, 1024)\n",
    "        if self.global_feat:\n",
    "            return x, trans, trans_feat\n",
    "        else:\n",
    "            x = x.view(-1, 1024, 1).repeat(1, 1, n_pts)\n",
    "            return torch.cat([x, pointfeat], 1), trans, trans_feat\n",
    "\n",
    "\n",
    "def feature_transform_regularizer(trans):\n",
    "    d = trans.size()[1]\n",
    "    batchsize = trans.size()[0]\n",
    "    I = torch.eye(d)[None, :, :]\n",
    "    if trans.is_cuda:\n",
    "        I = I.cuda()\n",
    "    loss = torch.mean(torch.norm(torch.bmm(trans, trans.transpose(2,1)) - I, dim=(1,2)))\n",
    "    return loss"
   ]
  },
  {
   "cell_type": "markdown",
   "metadata": {
    "id": "zJe4TJxESIeg"
   },
   "source": [
    "#POINTNET CLS"
   ]
  },
  {
   "cell_type": "code",
   "execution_count": 22,
   "metadata": {
    "id": "iNImn71YSBBn"
   },
   "outputs": [],
   "source": [
    "class PointNetCls(nn.Module):\n",
    "    def __init__(self, k=2, feature_transform=False):\n",
    "        super(PointNetCls, self).__init__()\n",
    "        self.feature_transform = feature_transform\n",
    "        self.feat = PointNetfeat(global_feat=True, feature_transform=feature_transform)\n",
    "        self.fc1 = nn.Linear(1024, 512)\n",
    "        self.fc2 = nn.Linear(512, 256)\n",
    "        self.fc3 = nn.Linear(256, k)\n",
    "        self.dropout = nn.Dropout(p=0.3)\n",
    "        self.bn1 = nn.BatchNorm1d(512)\n",
    "        self.bn2 = nn.BatchNorm1d(256)\n",
    "        self.relu = nn.ReLU()\n",
    "\n",
    "    def forward(self, x):\n",
    "        x, trans, trans_feat = self.feat(x)\n",
    "        x = F.relu(self.bn1(self.fc1(x)))\n",
    "        x = F.relu(self.bn2(self.dropout(self.fc2(x))))\n",
    "        x = self.fc3(x)\n",
    "        return F.log_softmax(x, dim=1), trans, trans_feat"
   ]
  },
  {
   "cell_type": "code",
   "execution_count": null,
   "metadata": {
    "id": "SLKFaJoH7kWN"
   },
   "outputs": [],
   "source": [
    "stn=STN3d()\n",
    "dataTrans=stn.forward(sample_data.batch_tensor)"
   ]
  },
  {
   "cell_type": "code",
   "execution_count": null,
   "metadata": {
    "id": "Bj8Pj3zvN5C3"
   },
   "outputs": [],
   "source": [
    "pointnetfeat = PointNetfeat(feature_transform = True)\n",
    "dataTrans = pointnetfeat.forward(sample_data.batch_tensor)\n",
    "\n",
    "#data=torch.rand(5,3,1000)\n"
   ]
  },
  {
   "cell_type": "code",
   "execution_count": null,
   "metadata": {
    "id": "S-wKRiOOSL70"
   },
   "outputs": [],
   "source": [
    "pointnetcls = PointNetCls()\n",
    "dataTrans2 = pointnetcls.forward(sample_data.batch_tensor)"
   ]
  },
  {
   "cell_type": "code",
   "execution_count": null,
   "metadata": {
    "colab": {
     "base_uri": "https://localhost:8080/"
    },
    "id": "JA82IZn4OS-Q",
    "outputId": "89b3c9a7-5157-41aa-e885-70061da25d5c"
   },
   "outputs": [
    {
     "name": "stdout",
     "output_type": "stream",
     "text": [
      "torch.Size([10, 1024])\n",
      "torch.float32\n",
      "torch.Size([10, 3, 3])\n",
      "torch.float32\n",
      "torch.Size([10, 64, 64])\n",
      "torch.float32\n"
     ]
    }
   ],
   "source": [
    "print(dataTrans[0].shape)\n",
    "print(dataTrans[0].dtype)\n",
    "print(dataTrans[1].shape)\n",
    "print(dataTrans[1].dtype)\n",
    "print(dataTrans[2].shape)\n",
    "print(dataTrans[2].dtype)"
   ]
  },
  {
   "cell_type": "code",
   "execution_count": 23,
   "metadata": {
    "colab": {
     "base_uri": "https://localhost:8080/"
    },
    "id": "Z5cpfHkxWTQt",
    "outputId": "cbb2e8fd-65f7-422c-8b3e-32f891f8d0e6"
   },
   "outputs": [
    {
     "name": "stdout",
     "output_type": "stream",
     "text": [
      "Tue Dec 13 14:43:29 2022       \n",
      "+-----------------------------------------------------------------------------+\n",
      "| NVIDIA-SMI 460.32.03    Driver Version: 460.32.03    CUDA Version: 11.2     |\n",
      "|-------------------------------+----------------------+----------------------+\n",
      "| GPU  Name        Persistence-M| Bus-Id        Disp.A | Volatile Uncorr. ECC |\n",
      "| Fan  Temp  Perf  Pwr:Usage/Cap|         Memory-Usage | GPU-Util  Compute M. |\n",
      "|                               |                      |               MIG M. |\n",
      "|===============================+======================+======================|\n",
      "|   0  Tesla T4            Off  | 00000000:00:04.0 Off |                    0 |\n",
      "| N/A   52C    P0    27W /  70W |      0MiB / 15109MiB |      0%      Default |\n",
      "|                               |                      |                  N/A |\n",
      "+-------------------------------+----------------------+----------------------+\n",
      "                                                                               \n",
      "+-----------------------------------------------------------------------------+\n",
      "| Processes:                                                                  |\n",
      "|  GPU   GI   CI        PID   Type   Process name                  GPU Memory |\n",
      "|        ID   ID                                                   Usage      |\n",
      "|=============================================================================|\n",
      "|  No running processes found                                                 |\n",
      "+-----------------------------------------------------------------------------+\n"
     ]
    }
   ],
   "source": [
    "! nvidia-smi"
   ]
  },
  {
   "cell_type": "markdown",
   "metadata": {
    "id": "_Bz8yEL5VZP9"
   },
   "source": [
    "#TRENOWANIE"
   ]
  },
  {
   "cell_type": "code",
   "execution_count": 85,
   "metadata": {
    "id": "JtPIaxNTNhZJ"
   },
   "outputs": [],
   "source": [
    "\n",
    "\n",
    "class ModelNetDataModule(pl.LightningDataModule):\n",
    "    def __init__(self, batch_size, npoints=100, data_dir: str = './model/ModelNet40/'):\n",
    "        super().__init__()\n",
    "        self.data_dir = data_dir\n",
    "        self.batch_size = batch_size\n",
    "        self.num_classes = 40\n",
    "        self.npoints = npoints\n",
    "        self.imglist = [f1 for f1 in glob.glob(data_dir + '**/*.off', recursive=True)]# if isfile(join(self.data_dir, f1))]\n",
    "        self.trainlist = [f2 for f2 in self.imglist if \"train\" in f2]\n",
    "        self.testlist = [f3 for f3 in self.imglist if \"test\" in f3]\n",
    "\n",
    "\n",
    "    def setup(self, stage=None):\n",
    "        #training / validation\n",
    "        if stage == 'fit' or stage is None:\n",
    "            train_dataset = ModelNetFileList(root=self.data_dir, numpoints=self.npoints, flist=self.trainlist)\n",
    "            train_dataset_size = int(len(train_dataset) * 0.9)\n",
    "            self.train_dataset, self.val_dataset = random_split(train_dataset, [train_dataset_size, len(train_dataset) - train_dataset_size])\n",
    "        #testing\n",
    "        if stage == 'test' or stage is None:\n",
    "            self.test_dataset = ModelNetFileList(root=self.data_dir, numpoints=self.npoints, flist=self.testlist)\n",
    "\n",
    "    def prepare_batch(self):\n",
    "        batch_tensor = torch.empty((self.batch_size, 3, self.npoints))\n",
    "        for n in range(self.batch_size):\n",
    "            obj, target = random.choice(self.train_dataset) \n",
    "            obj = obj.view(obj.shape[1], obj.shape[0])\n",
    "            batch_tensor[n, :, :] = obj\n",
    "        self.batch_tensor = batch_tensor\n",
    "\n",
    "    def train_dataloader(self):\n",
    "        return DataLoader(self.train_dataset, batch_size=self.batch_size, shuffle=True)\n",
    "\n",
    "    def val_dataloader(self):\n",
    "        return DataLoader(self.val_dataset, batch_size=self.batch_size)\n",
    "\n",
    "    def test_dataloader(self):\n",
    "        return DataLoader(self.test_dataset, batch_size=self.batch_size)\n",
    "        \n",
    "    def __len__(self):\n",
    "        return len(self.train_dataset)"
   ]
  },
  {
   "cell_type": "code",
   "execution_count": 86,
   "metadata": {
    "colab": {
     "base_uri": "https://localhost:8080/",
     "height": 1000
    },
    "id": "QVkQgB__VYML",
    "outputId": "4756b0ff-1126-474d-f42e-0108502b7ca5"
   },
   "outputs": [
    {
     "name": "stdout",
     "output_type": "stream",
     "text": [
      "<class '__main__.opt'>\n",
      "Random Seed:  2103\n",
      "277 78\n",
      "classes 40\n"
     ]
    },
    {
     "name": "stderr",
     "output_type": "stream",
     "text": [
      "/usr/local/lib/python3.8/dist-packages/torch/optim/lr_scheduler.py:138: UserWarning: Detected call of `lr_scheduler.step()` before `optimizer.step()`. In PyTorch 1.1.0 and later, you should call them in the opposite order: `optimizer.step()` before `lr_scheduler.step()`.  Failure to do this will result in PyTorch skipping the first value of the learning rate schedule. See more details at https://pytorch.org/docs/stable/optim.html#how-to-adjust-learning-rate\n",
      "  warnings.warn(\"Detected call of `lr_scheduler.step()` before `optimizer.step()`. \"\n"
     ]
    },
    {
     "name": "stdout",
     "output_type": "stream",
     "text": [
      "[0: 0/276] train loss: 3.900262 accuracy: 0.000000\n",
      "[0: 0/276] \u001b[94mtest\u001b[0m loss: 3.713514 accuracy: 0.000000\n",
      "[0: 1/276] train loss: 3.896873 accuracy: 0.000000\n",
      "[0: 2/276] train loss: 3.836653 accuracy: 0.062500\n",
      "[0: 3/276] train loss: 3.700596 accuracy: 0.031250\n",
      "[0: 4/276] train loss: 4.010932 accuracy: 0.031250\n",
      "[0: 5/276] train loss: 3.974408 accuracy: 0.062500\n",
      "[0: 6/276] train loss: 3.890864 accuracy: 0.062500\n",
      "[0: 7/276] train loss: 3.975628 accuracy: 0.031250\n",
      "[0: 8/276] train loss: 3.857252 accuracy: 0.000000\n",
      "[0: 9/276] train loss: 3.728204 accuracy: 0.125000\n",
      "[0: 10/276] train loss: 4.032708 accuracy: 0.062500\n",
      "[0: 10/276] \u001b[94mtest\u001b[0m loss: 3.704397 accuracy: 0.000000\n",
      "[0: 11/276] train loss: 3.840245 accuracy: 0.031250\n",
      "[0: 12/276] train loss: 3.858330 accuracy: 0.093750\n",
      "[0: 13/276] train loss: 3.959757 accuracy: 0.093750\n",
      "[0: 14/276] train loss: 3.934900 accuracy: 0.125000\n",
      "[0: 15/276] train loss: 3.855449 accuracy: 0.062500\n",
      "[0: 16/276] train loss: 3.991107 accuracy: 0.000000\n",
      "[0: 17/276] train loss: 3.775739 accuracy: 0.125000\n",
      "[0: 18/276] train loss: 3.688912 accuracy: 0.125000\n",
      "[0: 19/276] train loss: 3.842422 accuracy: 0.062500\n",
      "[0: 20/276] train loss: 4.051799 accuracy: 0.062500\n",
      "[0: 20/276] \u001b[94mtest\u001b[0m loss: 3.603806 accuracy: 0.000000\n",
      "[0: 21/276] train loss: 3.976954 accuracy: 0.062500\n",
      "[0: 22/276] train loss: 3.779034 accuracy: 0.062500\n",
      "[0: 23/276] train loss: 3.890145 accuracy: 0.093750\n",
      "[0: 24/276] train loss: 3.689655 accuracy: 0.156250\n",
      "[0: 25/276] train loss: 3.989553 accuracy: 0.093750\n",
      "[0: 26/276] train loss: 3.739927 accuracy: 0.031250\n",
      "[0: 27/276] train loss: 3.759255 accuracy: 0.031250\n",
      "[0: 28/276] train loss: 3.735960 accuracy: 0.156250\n",
      "[0: 29/276] train loss: 3.674544 accuracy: 0.125000\n",
      "[0: 30/276] train loss: 3.785121 accuracy: 0.062500\n",
      "[0: 30/276] \u001b[94mtest\u001b[0m loss: 3.568573 accuracy: 0.000000\n",
      "[0: 31/276] train loss: 3.726868 accuracy: 0.093750\n"
     ]
    },
    {
     "ename": "RuntimeError",
     "evalue": "ignored",
     "output_type": "error",
     "traceback": [
      "\u001b[0;31m---------------------------------------------------------------------------\u001b[0m",
      "\u001b[0;31mRuntimeError\u001b[0m                              Traceback (most recent call last)",
      "\u001b[0;32m<ipython-input-86-e968c2d39597>\u001b[0m in \u001b[0;36m<module>\u001b[0;34m\u001b[0m\n\u001b[1;32m     93\u001b[0m \u001b[0;32mfor\u001b[0m \u001b[0mepoch\u001b[0m \u001b[0;32min\u001b[0m \u001b[0mrange\u001b[0m\u001b[0;34m(\u001b[0m\u001b[0mopt\u001b[0m\u001b[0;34m.\u001b[0m\u001b[0mnepoch\u001b[0m\u001b[0;34m)\u001b[0m\u001b[0;34m:\u001b[0m\u001b[0;34m\u001b[0m\u001b[0;34m\u001b[0m\u001b[0m\n\u001b[1;32m     94\u001b[0m     \u001b[0mscheduler\u001b[0m\u001b[0;34m.\u001b[0m\u001b[0mstep\u001b[0m\u001b[0;34m(\u001b[0m\u001b[0;34m)\u001b[0m\u001b[0;34m\u001b[0m\u001b[0;34m\u001b[0m\u001b[0m\n\u001b[0;32m---> 95\u001b[0;31m     \u001b[0;32mfor\u001b[0m \u001b[0mi\u001b[0m\u001b[0;34m,\u001b[0m \u001b[0mdata\u001b[0m \u001b[0;32min\u001b[0m \u001b[0menumerate\u001b[0m\u001b[0;34m(\u001b[0m\u001b[0mdataloader\u001b[0m\u001b[0;34m,\u001b[0m \u001b[0;36m0\u001b[0m\u001b[0;34m)\u001b[0m\u001b[0;34m:\u001b[0m\u001b[0;34m\u001b[0m\u001b[0;34m\u001b[0m\u001b[0m\n\u001b[0m\u001b[1;32m     96\u001b[0m         \u001b[0;31m#ipdb.set_trace(context=5)#\u001b[0m\u001b[0;34m\u001b[0m\u001b[0;34m\u001b[0m\u001b[0;34m\u001b[0m\u001b[0m\n\u001b[1;32m     97\u001b[0m         \u001b[0mpoints\u001b[0m\u001b[0;34m,\u001b[0m \u001b[0mtarget\u001b[0m \u001b[0;34m=\u001b[0m \u001b[0mdata\u001b[0m\u001b[0;34m\u001b[0m\u001b[0;34m\u001b[0m\u001b[0m\n",
      "\u001b[0;32m/usr/local/lib/python3.8/dist-packages/torch/utils/data/dataloader.py\u001b[0m in \u001b[0;36m__next__\u001b[0;34m(self)\u001b[0m\n\u001b[1;32m    626\u001b[0m                 \u001b[0;31m# TODO(https://github.com/pytorch/pytorch/issues/76750)\u001b[0m\u001b[0;34m\u001b[0m\u001b[0;34m\u001b[0m\u001b[0;34m\u001b[0m\u001b[0m\n\u001b[1;32m    627\u001b[0m                 \u001b[0mself\u001b[0m\u001b[0;34m.\u001b[0m\u001b[0m_reset\u001b[0m\u001b[0;34m(\u001b[0m\u001b[0;34m)\u001b[0m  \u001b[0;31m# type: ignore[call-arg]\u001b[0m\u001b[0;34m\u001b[0m\u001b[0;34m\u001b[0m\u001b[0m\n\u001b[0;32m--> 628\u001b[0;31m             \u001b[0mdata\u001b[0m \u001b[0;34m=\u001b[0m \u001b[0mself\u001b[0m\u001b[0;34m.\u001b[0m\u001b[0m_next_data\u001b[0m\u001b[0;34m(\u001b[0m\u001b[0;34m)\u001b[0m\u001b[0;34m\u001b[0m\u001b[0;34m\u001b[0m\u001b[0m\n\u001b[0m\u001b[1;32m    629\u001b[0m             \u001b[0mself\u001b[0m\u001b[0;34m.\u001b[0m\u001b[0m_num_yielded\u001b[0m \u001b[0;34m+=\u001b[0m \u001b[0;36m1\u001b[0m\u001b[0;34m\u001b[0m\u001b[0;34m\u001b[0m\u001b[0m\n\u001b[1;32m    630\u001b[0m             \u001b[0;32mif\u001b[0m \u001b[0mself\u001b[0m\u001b[0;34m.\u001b[0m\u001b[0m_dataset_kind\u001b[0m \u001b[0;34m==\u001b[0m \u001b[0m_DatasetKind\u001b[0m\u001b[0;34m.\u001b[0m\u001b[0mIterable\u001b[0m \u001b[0;32mand\u001b[0m\u001b[0;31m \u001b[0m\u001b[0;31m\\\u001b[0m\u001b[0;34m\u001b[0m\u001b[0;34m\u001b[0m\u001b[0m\n",
      "\u001b[0;32m/usr/local/lib/python3.8/dist-packages/torch/utils/data/dataloader.py\u001b[0m in \u001b[0;36m_next_data\u001b[0;34m(self)\u001b[0m\n\u001b[1;32m    669\u001b[0m     \u001b[0;32mdef\u001b[0m \u001b[0m_next_data\u001b[0m\u001b[0;34m(\u001b[0m\u001b[0mself\u001b[0m\u001b[0;34m)\u001b[0m\u001b[0;34m:\u001b[0m\u001b[0;34m\u001b[0m\u001b[0;34m\u001b[0m\u001b[0m\n\u001b[1;32m    670\u001b[0m         \u001b[0mindex\u001b[0m \u001b[0;34m=\u001b[0m \u001b[0mself\u001b[0m\u001b[0;34m.\u001b[0m\u001b[0m_next_index\u001b[0m\u001b[0;34m(\u001b[0m\u001b[0;34m)\u001b[0m  \u001b[0;31m# may raise StopIteration\u001b[0m\u001b[0;34m\u001b[0m\u001b[0;34m\u001b[0m\u001b[0m\n\u001b[0;32m--> 671\u001b[0;31m         \u001b[0mdata\u001b[0m \u001b[0;34m=\u001b[0m \u001b[0mself\u001b[0m\u001b[0;34m.\u001b[0m\u001b[0m_dataset_fetcher\u001b[0m\u001b[0;34m.\u001b[0m\u001b[0mfetch\u001b[0m\u001b[0;34m(\u001b[0m\u001b[0mindex\u001b[0m\u001b[0;34m)\u001b[0m  \u001b[0;31m# may raise StopIteration\u001b[0m\u001b[0;34m\u001b[0m\u001b[0;34m\u001b[0m\u001b[0m\n\u001b[0m\u001b[1;32m    672\u001b[0m         \u001b[0;32mif\u001b[0m \u001b[0mself\u001b[0m\u001b[0;34m.\u001b[0m\u001b[0m_pin_memory\u001b[0m\u001b[0;34m:\u001b[0m\u001b[0;34m\u001b[0m\u001b[0;34m\u001b[0m\u001b[0m\n\u001b[1;32m    673\u001b[0m             \u001b[0mdata\u001b[0m \u001b[0;34m=\u001b[0m \u001b[0m_utils\u001b[0m\u001b[0;34m.\u001b[0m\u001b[0mpin_memory\u001b[0m\u001b[0;34m.\u001b[0m\u001b[0mpin_memory\u001b[0m\u001b[0;34m(\u001b[0m\u001b[0mdata\u001b[0m\u001b[0;34m,\u001b[0m \u001b[0mself\u001b[0m\u001b[0;34m.\u001b[0m\u001b[0m_pin_memory_device\u001b[0m\u001b[0;34m)\u001b[0m\u001b[0;34m\u001b[0m\u001b[0;34m\u001b[0m\u001b[0m\n",
      "\u001b[0;32m/usr/local/lib/python3.8/dist-packages/torch/utils/data/_utils/fetch.py\u001b[0m in \u001b[0;36mfetch\u001b[0;34m(self, possibly_batched_index)\u001b[0m\n\u001b[1;32m     59\u001b[0m         \u001b[0;32melse\u001b[0m\u001b[0;34m:\u001b[0m\u001b[0;34m\u001b[0m\u001b[0;34m\u001b[0m\u001b[0m\n\u001b[1;32m     60\u001b[0m             \u001b[0mdata\u001b[0m \u001b[0;34m=\u001b[0m \u001b[0mself\u001b[0m\u001b[0;34m.\u001b[0m\u001b[0mdataset\u001b[0m\u001b[0;34m[\u001b[0m\u001b[0mpossibly_batched_index\u001b[0m\u001b[0;34m]\u001b[0m\u001b[0;34m\u001b[0m\u001b[0;34m\u001b[0m\u001b[0m\n\u001b[0;32m---> 61\u001b[0;31m         \u001b[0;32mreturn\u001b[0m \u001b[0mself\u001b[0m\u001b[0;34m.\u001b[0m\u001b[0mcollate_fn\u001b[0m\u001b[0;34m(\u001b[0m\u001b[0mdata\u001b[0m\u001b[0;34m)\u001b[0m\u001b[0;34m\u001b[0m\u001b[0;34m\u001b[0m\u001b[0m\n\u001b[0m",
      "\u001b[0;32m/usr/local/lib/python3.8/dist-packages/torch/utils/data/_utils/collate.py\u001b[0m in \u001b[0;36mdefault_collate\u001b[0;34m(batch)\u001b[0m\n\u001b[1;32m    263\u001b[0m             \u001b[0;34m>>\u001b[0m\u001b[0;34m>\u001b[0m \u001b[0mdefault_collate\u001b[0m\u001b[0;34m(\u001b[0m\u001b[0mbatch\u001b[0m\u001b[0;34m)\u001b[0m  \u001b[0;31m# Handle `CustomType` automatically\u001b[0m\u001b[0;34m\u001b[0m\u001b[0;34m\u001b[0m\u001b[0m\n\u001b[1;32m    264\u001b[0m     \"\"\"\n\u001b[0;32m--> 265\u001b[0;31m     \u001b[0;32mreturn\u001b[0m \u001b[0mcollate\u001b[0m\u001b[0;34m(\u001b[0m\u001b[0mbatch\u001b[0m\u001b[0;34m,\u001b[0m \u001b[0mcollate_fn_map\u001b[0m\u001b[0;34m=\u001b[0m\u001b[0mdefault_collate_fn_map\u001b[0m\u001b[0;34m)\u001b[0m\u001b[0;34m\u001b[0m\u001b[0;34m\u001b[0m\u001b[0m\n\u001b[0m",
      "\u001b[0;32m/usr/local/lib/python3.8/dist-packages/torch/utils/data/_utils/collate.py\u001b[0m in \u001b[0;36mcollate\u001b[0;34m(batch, collate_fn_map)\u001b[0m\n\u001b[1;32m    141\u001b[0m \u001b[0;34m\u001b[0m\u001b[0m\n\u001b[1;32m    142\u001b[0m         \u001b[0;32mif\u001b[0m \u001b[0misinstance\u001b[0m\u001b[0;34m(\u001b[0m\u001b[0melem\u001b[0m\u001b[0;34m,\u001b[0m \u001b[0mtuple\u001b[0m\u001b[0;34m)\u001b[0m\u001b[0;34m:\u001b[0m\u001b[0;34m\u001b[0m\u001b[0;34m\u001b[0m\u001b[0m\n\u001b[0;32m--> 143\u001b[0;31m             \u001b[0;32mreturn\u001b[0m \u001b[0;34m[\u001b[0m\u001b[0mcollate\u001b[0m\u001b[0;34m(\u001b[0m\u001b[0msamples\u001b[0m\u001b[0;34m,\u001b[0m \u001b[0mcollate_fn_map\u001b[0m\u001b[0;34m=\u001b[0m\u001b[0mcollate_fn_map\u001b[0m\u001b[0;34m)\u001b[0m \u001b[0;32mfor\u001b[0m \u001b[0msamples\u001b[0m \u001b[0;32min\u001b[0m \u001b[0mtransposed\u001b[0m\u001b[0;34m]\u001b[0m  \u001b[0;31m# Backwards compatibility.\u001b[0m\u001b[0;34m\u001b[0m\u001b[0;34m\u001b[0m\u001b[0m\n\u001b[0m\u001b[1;32m    144\u001b[0m         \u001b[0;32melse\u001b[0m\u001b[0;34m:\u001b[0m\u001b[0;34m\u001b[0m\u001b[0;34m\u001b[0m\u001b[0m\n\u001b[1;32m    145\u001b[0m             \u001b[0;32mtry\u001b[0m\u001b[0;34m:\u001b[0m\u001b[0;34m\u001b[0m\u001b[0;34m\u001b[0m\u001b[0m\n",
      "\u001b[0;32m/usr/local/lib/python3.8/dist-packages/torch/utils/data/_utils/collate.py\u001b[0m in \u001b[0;36m<listcomp>\u001b[0;34m(.0)\u001b[0m\n\u001b[1;32m    141\u001b[0m \u001b[0;34m\u001b[0m\u001b[0m\n\u001b[1;32m    142\u001b[0m         \u001b[0;32mif\u001b[0m \u001b[0misinstance\u001b[0m\u001b[0;34m(\u001b[0m\u001b[0melem\u001b[0m\u001b[0;34m,\u001b[0m \u001b[0mtuple\u001b[0m\u001b[0;34m)\u001b[0m\u001b[0;34m:\u001b[0m\u001b[0;34m\u001b[0m\u001b[0;34m\u001b[0m\u001b[0m\n\u001b[0;32m--> 143\u001b[0;31m             \u001b[0;32mreturn\u001b[0m \u001b[0;34m[\u001b[0m\u001b[0mcollate\u001b[0m\u001b[0;34m(\u001b[0m\u001b[0msamples\u001b[0m\u001b[0;34m,\u001b[0m \u001b[0mcollate_fn_map\u001b[0m\u001b[0;34m=\u001b[0m\u001b[0mcollate_fn_map\u001b[0m\u001b[0;34m)\u001b[0m \u001b[0;32mfor\u001b[0m \u001b[0msamples\u001b[0m \u001b[0;32min\u001b[0m \u001b[0mtransposed\u001b[0m\u001b[0;34m]\u001b[0m  \u001b[0;31m# Backwards compatibility.\u001b[0m\u001b[0;34m\u001b[0m\u001b[0;34m\u001b[0m\u001b[0m\n\u001b[0m\u001b[1;32m    144\u001b[0m         \u001b[0;32melse\u001b[0m\u001b[0;34m:\u001b[0m\u001b[0;34m\u001b[0m\u001b[0;34m\u001b[0m\u001b[0m\n\u001b[1;32m    145\u001b[0m             \u001b[0;32mtry\u001b[0m\u001b[0;34m:\u001b[0m\u001b[0;34m\u001b[0m\u001b[0;34m\u001b[0m\u001b[0m\n",
      "\u001b[0;32m/usr/local/lib/python3.8/dist-packages/torch/utils/data/_utils/collate.py\u001b[0m in \u001b[0;36mcollate\u001b[0;34m(batch, collate_fn_map)\u001b[0m\n\u001b[1;32m    118\u001b[0m     \u001b[0;32mif\u001b[0m \u001b[0mcollate_fn_map\u001b[0m \u001b[0;32mis\u001b[0m \u001b[0;32mnot\u001b[0m \u001b[0;32mNone\u001b[0m\u001b[0;34m:\u001b[0m\u001b[0;34m\u001b[0m\u001b[0;34m\u001b[0m\u001b[0m\n\u001b[1;32m    119\u001b[0m         \u001b[0;32mif\u001b[0m \u001b[0melem_type\u001b[0m \u001b[0;32min\u001b[0m \u001b[0mcollate_fn_map\u001b[0m\u001b[0;34m:\u001b[0m\u001b[0;34m\u001b[0m\u001b[0;34m\u001b[0m\u001b[0m\n\u001b[0;32m--> 120\u001b[0;31m             \u001b[0;32mreturn\u001b[0m \u001b[0mcollate_fn_map\u001b[0m\u001b[0;34m[\u001b[0m\u001b[0melem_type\u001b[0m\u001b[0;34m]\u001b[0m\u001b[0;34m(\u001b[0m\u001b[0mbatch\u001b[0m\u001b[0;34m,\u001b[0m \u001b[0mcollate_fn_map\u001b[0m\u001b[0;34m=\u001b[0m\u001b[0mcollate_fn_map\u001b[0m\u001b[0;34m)\u001b[0m\u001b[0;34m\u001b[0m\u001b[0;34m\u001b[0m\u001b[0m\n\u001b[0m\u001b[1;32m    121\u001b[0m \u001b[0;34m\u001b[0m\u001b[0m\n\u001b[1;32m    122\u001b[0m         \u001b[0;32mfor\u001b[0m \u001b[0mcollate_type\u001b[0m \u001b[0;32min\u001b[0m \u001b[0mcollate_fn_map\u001b[0m\u001b[0;34m:\u001b[0m\u001b[0;34m\u001b[0m\u001b[0;34m\u001b[0m\u001b[0m\n",
      "\u001b[0;32m/usr/local/lib/python3.8/dist-packages/torch/utils/data/_utils/collate.py\u001b[0m in \u001b[0;36mcollate_tensor_fn\u001b[0;34m(batch, collate_fn_map)\u001b[0m\n\u001b[1;32m    161\u001b[0m         \u001b[0mstorage\u001b[0m \u001b[0;34m=\u001b[0m \u001b[0melem\u001b[0m\u001b[0;34m.\u001b[0m\u001b[0mstorage\u001b[0m\u001b[0;34m(\u001b[0m\u001b[0;34m)\u001b[0m\u001b[0;34m.\u001b[0m\u001b[0m_new_shared\u001b[0m\u001b[0;34m(\u001b[0m\u001b[0mnumel\u001b[0m\u001b[0;34m,\u001b[0m \u001b[0mdevice\u001b[0m\u001b[0;34m=\u001b[0m\u001b[0melem\u001b[0m\u001b[0;34m.\u001b[0m\u001b[0mdevice\u001b[0m\u001b[0;34m)\u001b[0m\u001b[0;34m\u001b[0m\u001b[0;34m\u001b[0m\u001b[0m\n\u001b[1;32m    162\u001b[0m         \u001b[0mout\u001b[0m \u001b[0;34m=\u001b[0m \u001b[0melem\u001b[0m\u001b[0;34m.\u001b[0m\u001b[0mnew\u001b[0m\u001b[0;34m(\u001b[0m\u001b[0mstorage\u001b[0m\u001b[0;34m)\u001b[0m\u001b[0;34m.\u001b[0m\u001b[0mresize_\u001b[0m\u001b[0;34m(\u001b[0m\u001b[0mlen\u001b[0m\u001b[0;34m(\u001b[0m\u001b[0mbatch\u001b[0m\u001b[0;34m)\u001b[0m\u001b[0;34m,\u001b[0m \u001b[0;34m*\u001b[0m\u001b[0mlist\u001b[0m\u001b[0;34m(\u001b[0m\u001b[0melem\u001b[0m\u001b[0;34m.\u001b[0m\u001b[0msize\u001b[0m\u001b[0;34m(\u001b[0m\u001b[0;34m)\u001b[0m\u001b[0;34m)\u001b[0m\u001b[0;34m)\u001b[0m\u001b[0;34m\u001b[0m\u001b[0;34m\u001b[0m\u001b[0m\n\u001b[0;32m--> 163\u001b[0;31m     \u001b[0;32mreturn\u001b[0m \u001b[0mtorch\u001b[0m\u001b[0;34m.\u001b[0m\u001b[0mstack\u001b[0m\u001b[0;34m(\u001b[0m\u001b[0mbatch\u001b[0m\u001b[0;34m,\u001b[0m \u001b[0;36m0\u001b[0m\u001b[0;34m,\u001b[0m \u001b[0mout\u001b[0m\u001b[0;34m=\u001b[0m\u001b[0mout\u001b[0m\u001b[0;34m)\u001b[0m\u001b[0;34m\u001b[0m\u001b[0;34m\u001b[0m\u001b[0m\n\u001b[0m\u001b[1;32m    164\u001b[0m \u001b[0;34m\u001b[0m\u001b[0m\n\u001b[1;32m    165\u001b[0m \u001b[0;34m\u001b[0m\u001b[0m\n",
      "\u001b[0;31mRuntimeError\u001b[0m: stack expects each tensor to be equal size, but got [2500, 3] at entry 0 and [0] at entry 7"
     ]
    }
   ],
   "source": [
    "#ipdb.set_trace(context=5)\n",
    "#parser = argparse.ArgumentParser()\n",
    "#parser.add_argument(\n",
    "#    '--batchSize', type=int, default=32, help='input batch size')\n",
    "#parser.add_argument(\n",
    "#    '--num_points', type=int, default=2500, help='input batch size')\n",
    "#parser.add_argument(\n",
    "#    '--workers', type=int, help='number of data loading workers', default=4)\n",
    "#parser.add_argument(\n",
    "#    '--nepoch', type=int, default=250, help='number of epochs to train for')\n",
    "#parser.add_argument('--outf', type=str, default='cls', help='output folder')\n",
    "#parser.add_argument('--model', type=str, default='', help='model path')\n",
    "#parser.add_argument('--dataset', type=str, required=True, help=\"dataset path\")\n",
    "#parser.add_argument('--dataset_type', type=str, default='shapenet', help=\"dataset type shapenet|modelnet40\")\n",
    "#parser.add_argument('--feature_transform', action='store_true', help=\"use feature transform\")\n",
    "\n",
    "#ipdb.set_trace(context=5)\n",
    "#parser = argparse.ArgumentParser()\n",
    "\n",
    "\n",
    "#opt = parser.parse_args()\n",
    "\n",
    "class opt:\n",
    "  pass\n",
    "\n",
    "opt.batchSize=32\n",
    "opt.num_points=2500\n",
    "opt.workers=4\n",
    "opt.nepoch=3\n",
    "opt.outf='cls'\n",
    "opt.model=''\n",
    "opt.dataset='./model/ModelNet40/'\n",
    "opt.dataset_type='modelnet'\n",
    "opt.feature_transform='store_true'\n",
    "\n",
    "\n",
    "print(opt)\n",
    "\n",
    "blue = lambda x: '\\033[94m' + x + '\\033[0m'\n",
    "\n",
    "opt.manualSeed = random.randint(1, 10000)  # fix seed\n",
    "print(\"Random Seed: \", opt.manualSeed)\n",
    "random.seed(opt.manualSeed)\n",
    "torch.manual_seed(opt.manualSeed)\n",
    "\n",
    "dataset = ModelNetDataModule(npoints=opt.num_points, batch_size=opt.batchSize)\n",
    "\n",
    "test_dataset = ModelNetDataModule(npoints=opt.num_points, batch_size=opt.batchSize)\n",
    "dataset.setup()\n",
    "test_dataset.setup()\n",
    "'''\n",
    "dataloader = torch.utils.data.DataLoader(\n",
    "    dataset,\n",
    "    batch_size=opt.batchSize,\n",
    "    shuffle=True,\n",
    "    num_workers=int(opt.workers))\n",
    "\n",
    "testdataloader = torch.utils.data.DataLoader(\n",
    "        test_dataset,\n",
    "        batch_size=opt.batchSize,\n",
    "        shuffle=True,\n",
    "        num_workers=int(opt.workers))\n",
    "'''\n",
    "\n",
    "dataloader = dataset.train_dataloader()\n",
    "testdataloader = dataset.test_dataloader()\n",
    "\n",
    "\n",
    "print(len(dataloader), len(testdataloader))\n",
    "num_classes = dataset.num_classes\n",
    "print('classes', num_classes)\n",
    "\n",
    "try:\n",
    "    os.makedirs(opt.outf)\n",
    "except OSError:\n",
    "    pass\n",
    "\n",
    "classifier = PointNetCls(k=num_classes, feature_transform=opt.feature_transform)\n",
    "\n",
    "if opt.model != '':\n",
    "    classifier.load_state_dict(torch.load(opt.model))\n",
    "\n",
    "\n",
    "\n",
    "optimizer = optim.Adam(classifier.parameters(), lr=0.001, betas=(0.9, 0.999))\n",
    "scheduler = optim.lr_scheduler.StepLR(optimizer, step_size=20, gamma=0.5)\n",
    "classifier.cuda()\n",
    "\n",
    "#ipdb.set_trace(context=5)#\n",
    "num_batch = 8858 / opt.batchSize #pierdole to hardkoduje\n",
    "\n",
    "\n",
    "for epoch in range(opt.nepoch):\n",
    "    scheduler.step()\n",
    "    for i, data in enumerate(dataloader, 0):\n",
    "        #ipdb.set_trace(context=5)#\n",
    "        points, target = data\n",
    "        points=points.permute(0,2,1)\n",
    "        #points.permuter\n",
    "        #points = dataset.prepare_batch() #tu gdzieś powinno być prepare_batch, które jest funkcją ModelNetDataModule (nazwa zmiennej dataset). Może trzeba przenieść funkcję do Datamodule, idk\n",
    "        target = target.reshape(32,1)\n",
    "        points = points.transpose(2, 1)\n",
    "        points, target = points.cuda(), target.cuda()\n",
    "        optimizer.zero_grad()\n",
    "        classifier = classifier.train()\n",
    "        #ipdb.set_trace(context=5)#\n",
    "        points=points.permute(0,2,1)\n",
    "        pred, trans, trans_feat = classifier(points)\n",
    "        #ipdb.set_trace(context=5)#\n",
    "        target= target.reshape(32)\n",
    "        loss = F.nll_loss(pred, target)\n",
    "        if opt.feature_transform:\n",
    "            loss += feature_transform_regularizer(trans_feat) * 0.001\n",
    "        loss.backward()\n",
    "        optimizer.step()\n",
    "        pred_choice = pred.data.max(1)[1]\n",
    "        correct = pred_choice.eq(target.data).cpu().sum()\n",
    "        print('[%d: %d/%d] train loss: %f accuracy: %f' % (epoch, i, num_batch, loss.item(), correct.item() / float(opt.batchSize)))\n",
    "\n",
    "        if i % 10 == 0:\n",
    "            j, data = next(enumerate(testdataloader, 0))\n",
    "            points, target = data\n",
    "            #target = target[:, 0]\n",
    "            points = points.transpose(2, 1)\n",
    "            points, target = points.cuda(), target.cuda()\n",
    "            classifier = classifier.eval()\n",
    "            pred, _, _ = classifier(points)\n",
    "            loss = F.nll_loss(pred, target)\n",
    "            pred_choice = pred.data.max(1)[1]\n",
    "            correct = pred_choice.eq(target.data).cpu().sum()\n",
    "            print('[%d: %d/%d] %s loss: %f accuracy: %f' % (epoch, i, num_batch, blue('test'), loss.item(), correct.item()/float(opt.batchSize)))\n",
    "\n",
    "    torch.save(classifier.state_dict(), '%s/cls_model_%d.pth' % (opt.outf, epoch))\n",
    "\n",
    "total_correct = 0\n",
    "total_testset = 0\n",
    "for i,data in tqdm(enumerate(testdataloader, 0)):\n",
    "    points, target = data\n",
    "    target = target[:, 0]\n",
    "    points = points.transpose(2, 1)\n",
    "    points, target = points.cuda(), target.cuda()\n",
    "    classifier = classifier.eval()\n",
    "    pred, _, _ = classifier(points)\n",
    "    pred_choice = pred.data.max(1)[1]\n",
    "    correct = pred_choice.eq(target.data).cpu().sum()\n",
    "    total_correct += correct.item()\n",
    "    total_testset += points.size()[0]\n",
    "\n",
    "print(\"final accuracy {}\".format(total_correct / float(total_testset)))"
   ]
  },
  {
   "cell_type": "code",
   "execution_count": null,
   "metadata": {
    "id": "jkOCzW5gbIvK"
   },
   "outputs": [],
   "source": [
    "a = torch.rand(8,2)\n",
    "b = torch.rand(8,4)\n",
    "c = torch.rand(8,6)\n",
    "\n",
    "aa = []\n",
    "aa.append(a)\n",
    "aa.append(b)\n",
    "aa.append(c)\n",
    "\n",
    "d = torch.cat((a,b,c), dim=1)\n",
    "e = torch.reshape(d, (8,3,-1))\n",
    "\n",
    "cnn1 = torch.nn.Conv1d(3, 64, 1)\n",
    "out = cnn1(e)"
   ]
  },
  {
   "cell_type": "markdown",
   "metadata": {
    "id": "N_SDetaWIxsQ"
   },
   "source": [
    "```python\n",
    "class STN3d(nn.Module):\n",
    "  output:\n",
    "    stn torch.Size([32, 3, 3])global feat torch.Size([32, 1024])classification head:\n",
    "      global feat torch.Size([32, 1024])\n",
    "      point feat torch.Size([32, 1088, 2500])\n",
    "      class torch.Size([32, 5])segmentation head:\n",
    "        PointNetDenseCls(\n",
    "          (feat): PointNetfeat(\n",
    "            (stn): STN3d(\n",
    "              (conv1): Conv1d(3, 64, kernel_size=(1,), stride=(1,))\n",
    "              (conv2): Conv1d(64, 128, kernel_size=(1,), stride=(1,))\n",
    "              (conv3): Conv1d(128, 1024, kernel_size=(1,), stride=(1,))\n",
    "              (mp1): MaxPool1d(kernel_size=2500, stride=2500, padding=0, dilation=1, ceil_mode=False)\n",
    "              (fc1): Linear(in_features=1024, out_features=512, bias=True)\n",
    "              (fc2): Linear(in_features=512, out_features=256, bias=True)\n",
    "              (fc3): Linear(in_features=256, out_features=9, bias=True)\n",
    "              (relu): ReLU()\n",
    "              (bn1): BatchNorm1d(64, eps=1e-05, momentum=0.1, affine=True, track_running_stats=True)\n",
    "              (bn2): BatchNorm1d(128, eps=1e-05, momentum=0.1, affine=True, track_running_stats=True)\n",
    "              (bn3): BatchNorm1d(1024, eps=1e-05, momentum=0.1, affine=True, track_running_stats=True)\n",
    "              (bn4): BatchNorm1d(512, eps=1e-05, momentum=0.1, affine=True, track_running_stats=True)\n",
    "              (bn5): BatchNorm1d(256, eps=1e-05, momentum=0.1, affine=True, track_running_stats=True)\n",
    "            )\n",
    "            (conv1): Conv1d(3, 64, kernel_size=(1,), stride=(1,))\n",
    "            (conv2): Conv1d(64, 128, kernel_size=(1,), stride=(1,))\n",
    "            (conv3): Conv1d(128, 1024, kernel_size=(1,), stride=(1,))\n",
    "            (bn1): BatchNorm1d(64, eps=1e-05, momentum=0.1, affine=True, track_running_stats=True)\n",
    "            (bn2): BatchNorm1d(128, eps=1e-05, momentum=0.1, affine=True, track_running_stats=True)\n",
    "            (bn3): BatchNorm1d(1024, eps=1e-05, momentum=0.1, affine=True, track_running_stats=True)\n",
    "            (mp1): MaxPool1d(kernel_size=2500, stride=2500, padding=0, dilation=1, ceil_mode=False)\n",
    "          )\n",
    "          (conv1): Conv1d(1088, 512, kernel_size=(1,), stride=(1,))\n",
    "          (conv2): Conv1d(512, 256, kernel_size=(1,), stride=(1,))\n",
    "          (conv3): Conv1d(256, 128, kernel_size=(1,), stride=(1,))\n",
    "          (conv4): Conv1d(128, 3, kernel_size=(1,), stride=(1,))\n",
    "          (bn1): BatchNorm1d(512, eps=1e-05, momentum=0.1, affine=True, track_running_stats=True)\n",
    "          (bn2): BatchNorm1d(256, eps=1e-05, momentum=0.1, affine=True, track_running_stats=True)\n",
    "          (bn3): BatchNorm1d(128, eps=1e-05, momentum=0.1, affine=True, track_running_stats=True)\n",
    "        )\n",
    "  seg torch.Size([32, 2500, 3])\n",
    "```"
   ]
  }
 ],
 "metadata": {
  "accelerator": "GPU",
  "colab": {
   "provenance": []
  },
  "gpuClass": "standard",
  "kernelspec": {
   "display_name": "Python 3 (ipykernel)",
   "language": "python",
   "name": "python3"
  },
  "language_info": {
   "codemirror_mode": {
    "name": "ipython",
    "version": 3
   },
   "file_extension": ".py",
   "mimetype": "text/x-python",
   "name": "python",
   "nbconvert_exporter": "python",
   "pygments_lexer": "ipython3",
   "version": "3.8.10"
  }
 },
 "nbformat": 4,
 "nbformat_minor": 1
}
