{
  "cells": [
    {
      "cell_type": "markdown",
      "source": [
        "#PYTHON INSTALACJA"
      ],
      "metadata": {
        "id": "WH_uACqHFbMT"
      }
    },
    {
      "cell_type": "code",
      "execution_count": null,
      "metadata": {
        "colab": {
          "base_uri": "https://localhost:8080/"
        },
        "id": "gS5b819tJ3WX",
        "outputId": "e7f09476-ebf1-4fa6-95da-103d01b90976"
      },
      "outputs": [
        {
          "output_type": "stream",
          "name": "stdout",
          "text": [
            "\u001b[?25l\r\u001b[K     |██▏                             | 10 kB 22.2 MB/s eta 0:00:01\r\u001b[K     |████▎                           | 20 kB 6.9 MB/s eta 0:00:01\r\u001b[K     |██████▍                         | 30 kB 9.7 MB/s eta 0:00:01\r\u001b[K     |████████▌                       | 40 kB 4.4 MB/s eta 0:00:01\r\u001b[K     |██████████▋                     | 51 kB 4.7 MB/s eta 0:00:01\r\u001b[K     |████████████▉                   | 61 kB 5.5 MB/s eta 0:00:01\r\u001b[K     |███████████████                 | 71 kB 5.5 MB/s eta 0:00:01\r\u001b[K     |█████████████████               | 81 kB 4.2 MB/s eta 0:00:01\r\u001b[K     |███████████████████▏            | 92 kB 4.6 MB/s eta 0:00:01\r\u001b[K     |█████████████████████▎          | 102 kB 5.0 MB/s eta 0:00:01\r\u001b[K     |███████████████████████▍        | 112 kB 5.0 MB/s eta 0:00:01\r\u001b[K     |█████████████████████████▋      | 122 kB 5.0 MB/s eta 0:00:01\r\u001b[K     |███████████████████████████▊    | 133 kB 5.0 MB/s eta 0:00:01\r\u001b[K     |█████████████████████████████▉  | 143 kB 5.0 MB/s eta 0:00:01\r\u001b[K     |████████████████████████████████| 153 kB 5.0 MB/s eta 0:00:01\r\u001b[K     |████████████████████████████████| 153 kB 5.0 MB/s \n",
            "\u001b[K     |████████████████████████████████| 117 kB 51.6 MB/s \n",
            "\u001b[K     |████████████████████████████████| 79 kB 6.7 MB/s \n",
            "\u001b[?25h  Building wheel for antlr4-python3-runtime (setup.py) ... \u001b[?25l\u001b[?25hdone\n"
          ]
        },
        {
          "output_type": "execute_result",
          "data": {
            "text/plain": []
          },
          "metadata": {},
          "execution_count": 42
        }
      ],
      "source": [
        "%%shell\n",
        "#pip install pytorch-lightning --quiet\n",
        "#pip install wandb --quiet\n",
        "pip install hydra-core --upgrade --quiet\n",
        "pip install unzip --quiet\n",
        "pip install ipdb -Uqq"
      ]
    },
    {
      "cell_type": "markdown",
      "source": [
        "#PYTHON PAKIETY"
      ],
      "metadata": {
        "id": "aOmG3gHqFd4r"
      }
    },
    {
      "cell_type": "code",
      "execution_count": null,
      "metadata": {
        "id": "V3SM_OA7JPkr",
        "colab": {
          "base_uri": "https://localhost:8080/",
          "height": 35
        },
        "outputId": "0c11f6a4-a4c7-42e5-996a-80042805fdbb"
      },
      "outputs": [
        {
          "output_type": "execute_result",
          "data": {
            "text/plain": [
              "'\\n# Weights and Biases\\nimport wandb\\n'"
            ],
            "application/vnd.google.colaboratory.intrinsic+json": {
              "type": "string"
            }
          },
          "metadata": {},
          "execution_count": 43
        }
      ],
      "source": [
        "# standardowe pakiety\n",
        "import os\n",
        "from os.path import join, isfile\n",
        "from os import listdir\n",
        "import numpy as np\n",
        "from scipy.io import loadmat\n",
        "import scipy as sp\n",
        "from PIL import Image\n",
        "import matplotlib.pyplot as plt\n",
        "from mpl_toolkits.mplot3d import Axes3D\n",
        "import random\n",
        "import glob\n",
        "import ipdb\n",
        "from __future__ import print_function\n",
        "from tqdm import tqdm\n",
        "\n",
        "# Pytorch \n",
        "import torch\n",
        "import torch.nn as nn\n",
        "import torch.nn.parallel\n",
        "import torch.optim as optim\n",
        "from torch.nn import functional as F\n",
        "from torch.utils.data import DataLoader, random_split\n",
        "import torch.utils.data as data\n",
        "from torchvision.datasets import CIFAR10\n",
        "from torchvision import transforms\n",
        "from torchvision.datasets import ImageFolder\n",
        "from torchvision.transforms import Compose, ToPILImage, Normalize, Resize, ToTensor\n",
        "from torch.autograd import Variable\n",
        "'''\n",
        "# Pytorch Lightning related imports\n",
        "import pytorch_lightning as pl\n",
        "from pytorch_lightning.callbacks import Callback\n",
        "from pytorch_lightning.callbacks.early_stopping import EarlyStopping\n",
        "from pytorch_lightning.loggers import WandbLogger\n",
        "from pytorch_lightning.callbacks import ModelCheckpoint\n",
        "import torchmetrics\n",
        "'''\n",
        "# Hydra\n",
        "import hydra\n",
        "from hydra.utils import instantiate\n",
        "from omegaconf import DictConfig, OmegaConf\n",
        "'''\n",
        "# Weights and Biases\n",
        "import wandb\n",
        "'''"
      ]
    },
    {
      "cell_type": "markdown",
      "source": [
        "#POBIERANIE DANYCH"
      ],
      "metadata": {
        "id": "5TH9ZK2tFkB8"
      }
    },
    {
      "cell_type": "code",
      "execution_count": null,
      "metadata": {
        "colab": {
          "base_uri": "https://localhost:8080/"
        },
        "id": "X_n2Oa_YO7Nr",
        "outputId": "bdf2de73-b033-4cd1-8d60-66f0ea0a3321"
      },
      "outputs": [
        {
          "output_type": "stream",
          "name": "stdout",
          "text": [
            "--2022-12-14 14:56:21--  http://modelnet.cs.princeton.edu/ModelNet40.zip\n",
            "Resolving modelnet.cs.princeton.edu (modelnet.cs.princeton.edu)... 128.112.136.74\n",
            "Connecting to modelnet.cs.princeton.edu (modelnet.cs.princeton.edu)|128.112.136.74|:80... connected.\n",
            "HTTP request sent, awaiting response... 302 Found\n",
            "Location: https://modelnet.cs.princeton.edu/ModelNet40.zip [following]\n",
            "--2022-12-14 14:56:21--  https://modelnet.cs.princeton.edu/ModelNet40.zip\n",
            "Connecting to modelnet.cs.princeton.edu (modelnet.cs.princeton.edu)|128.112.136.74|:443... connected.\n",
            "HTTP request sent, awaiting response... 200 OK\n",
            "Length: 2039180837 (1.9G) [application/zip]\n",
            "Saving to: ‘ModelNet40.zip.1’\n",
            "\n",
            "ModelNet40.zip.1      2%[                    ]  51.50M  24.7MB/s               ^C\n"
          ]
        }
      ],
      "source": [
        "! wget http://modelnet.cs.princeton.edu/ModelNet40.zip"
      ]
    },
    {
      "cell_type": "code",
      "execution_count": null,
      "metadata": {
        "colab": {
          "base_uri": "https://localhost:8080/"
        },
        "id": "rIh7Q2ZoO9F3",
        "outputId": "47254a13-3064-484b-9181-4bc674e657f0"
      },
      "outputs": [
        {
          "output_type": "stream",
          "name": "stdout",
          "text": [
            "mkdir: cannot create directory ‘model’: File exists\n",
            "replace /content/model/ModelNet40/stairs/train/stairs_0011.off? [y]es, [n]o, [A]ll, [N]one, [r]ename: N\n"
          ]
        },
        {
          "output_type": "execute_result",
          "data": {
            "text/plain": []
          },
          "metadata": {},
          "execution_count": 2
        }
      ],
      "source": [
        "%%shell\n",
        "mkdir /content/model40\n",
        "unzip -qq /content/ModelNet40.zip -d /content/model40"
      ]
    },
    {
      "cell_type": "code",
      "source": [
        "! wget http://3dvision.princeton.edu/projects/2014/3DShapeNets/ModelNet10.zip"
      ],
      "metadata": {
        "colab": {
          "base_uri": "https://localhost:8080/"
        },
        "id": "6z4JSS0Fk1y2",
        "outputId": "d76ddcea-256c-49a7-c95f-cf25ee88abde"
      },
      "execution_count": null,
      "outputs": [
        {
          "output_type": "stream",
          "name": "stdout",
          "text": [
            "--2022-12-14 21:25:10--  http://3dvision.princeton.edu/projects/2014/3DShapeNets/ModelNet10.zip\n",
            "Resolving 3dvision.princeton.edu (3dvision.princeton.edu)... 128.112.136.74\n",
            "Connecting to 3dvision.princeton.edu (3dvision.princeton.edu)|128.112.136.74|:80... connected.\n",
            "HTTP request sent, awaiting response... 302 Found\n",
            "Location: https://3dvision.princeton.edu/projects/2014/3DShapeNets/ModelNet10.zip [following]\n",
            "--2022-12-14 21:25:10--  https://3dvision.princeton.edu/projects/2014/3DShapeNets/ModelNet10.zip\n",
            "Connecting to 3dvision.princeton.edu (3dvision.princeton.edu)|128.112.136.74|:443... connected.\n",
            "HTTP request sent, awaiting response... 200 OK\n",
            "Length: 473402300 (451M) [application/zip]\n",
            "Saving to: ‘ModelNet10.zip.1’\n",
            "\n",
            "ModelNet10.zip.1    100%[===================>] 451.47M  97.6MB/s    in 4.7s    \n",
            "\n",
            "2022-12-14 21:25:15 (96.0 MB/s) - ‘ModelNet10.zip.1’ saved [473402300/473402300]\n",
            "\n"
          ]
        }
      ]
    },
    {
      "cell_type": "code",
      "source": [
        "%%shell\n",
        "mkdir /content/model10\n",
        "unzip -qq /content/ModelNet10.zip -d /content/model10"
      ],
      "metadata": {
        "colab": {
          "base_uri": "https://localhost:8080/"
        },
        "id": "GVIUHEhAlKsV",
        "outputId": "107a236e-2b5b-435b-843e-653a8356ef8e"
      },
      "execution_count": null,
      "outputs": [
        {
          "output_type": "execute_result",
          "data": {
            "text/plain": []
          },
          "metadata": {},
          "execution_count": 5
        }
      ]
    },
    {
      "cell_type": "markdown",
      "metadata": {
        "id": "5WdFSJIuZeol"
      },
      "source": [
        "#DEFAULT LOADER AND READER"
      ]
    },
    {
      "cell_type": "code",
      "execution_count": null,
      "metadata": {
        "id": "FTJPZNSMG-7J"
      },
      "outputs": [],
      "source": [
        "'''\n",
        "def default_loader(path, numpoints):\n",
        "    myF = open(path, 'r')\n",
        "    firstLine = myF.readline().strip()\n",
        "    if 'OFF' != firstLine[0:3]:\n",
        "        raise ValueError('Not a valid OFF header')\n",
        "    if len(firstLine) > 3:\n",
        "        n_verts, n_faces, n_edges = tuple([int(s) for s in firstLine[4:].split(' ')])\n",
        "    else:\n",
        "        n_verts, n_faces, n_edges = tuple([int(s) for s in myF.readline().strip().split(' ')])\n",
        "    verts = np.array([[float(s) for s in myF.readline().strip().split(' ')] for i_vert in range(n_verts)])\n",
        "    #if verts.shape[0] == 0: return\n",
        "    choice = np.random.choice(verts.shape[0], numpoints, replace=True)\n",
        "    \n",
        "    choice = None\n",
        "    iter = 0\n",
        "    while choice is None:\n",
        "        try:\n",
        "            choice = np.random.choice(verts.shape[0], numpoints, replace=True)\n",
        "            iter = iter + 1\n",
        "        except:\n",
        "            pass\n",
        "        if (iter == 20): break\n",
        "    \n",
        "    point_set = verts[choice, :]\n",
        "    #faces = [[int(s) for s in myF.readline().strip().split(' ')][1:] for i_face in range(n_faces)]\n",
        "    point_set = point_set - np.expand_dims(np.mean(point_set, axis=0), 0)  # center\n",
        "    dist = np.max(np.sqrt(np.sum(point_set ** 2, axis=1)), 0)\n",
        "    point_set = point_set / dist  # scale\n",
        "    point_set = torch.from_numpy(point_set).float()\n",
        "    return point_set\n",
        "\n",
        "def default_flist_reader(flist):\n",
        "    imlist = []\n",
        "    main_data_folder_string = \"./model10/ModelNet10/\"\n",
        "\n",
        "    classes_dirs = glob.glob(main_data_folder_string + \"*/\", recursive = False)\n",
        "    classes_list = [i.split('/')[3] for i in classes_dirs]\n",
        "    classes_nums = np.linspace(0,39,40)\n",
        "    classes_dict = dict(zip(sorted(classes_list), classes_nums.astype(int)))\n",
        "\n",
        "    for line in flist:\n",
        "        label_start_index = line.strip().find(main_data_folder_string) + len(main_data_folder_string)\n",
        "        label_end_index = line.strip()[label_start_index:].find('/')\n",
        "        imlabel = line.strip()[label_start_index:label_start_index+label_end_index]\n",
        "        imlabel = classes_dict[imlabel]\n",
        "        impath = line\n",
        "        imlist.append( (impath, imlabel) )\n",
        "    return imlist\n",
        "'''\n"
      ]
    },
    {
      "cell_type": "markdown",
      "metadata": {
        "id": "yrbLLONOZkh3"
      },
      "source": [
        "#MODELNET LOADER"
      ]
    },
    {
      "cell_type": "code",
      "execution_count": null,
      "metadata": {
        "id": "zR2xHfBHjDbt"
      },
      "outputs": [],
      "source": [
        "del data"
      ]
    },
    {
      "cell_type": "code",
      "execution_count": null,
      "metadata": {
        "id": "onC4Y1QCZkIK"
      },
      "outputs": [],
      "source": [
        "class ModelNetLoader(data.Dataset):\n",
        "    def __init__(self, root, split='train', numpoints=5000, batch_size=32, transform=None, target_transform=None):\n",
        "        self.root = root\n",
        "        self.numpoints = numpoints\n",
        "        self.num_classes = 10\n",
        "        self.batch_size = batch_size\n",
        "        self.filelist = [f1 for f1 in glob.glob(self.root + '**/*.off', recursive=True)]# if isfile(join(self.data_dir, f1))]\n",
        "        self.trainlist = [f2 for f2 in self.filelist if \"train\" in f2]\n",
        "        self.testlist = [f3 for f3 in self.filelist if \"test\" in f3]\n",
        "        if split=='train': self.objlist = self.flist_reader(self.trainlist)\n",
        "        if split=='test': self.objlist = self.flist_reader(self.testlist)\n",
        "        self.transform = transform\n",
        "        self.target_transform = target_transform\n",
        "\n",
        "    def __getitem__(self, index):\n",
        "        impath, target = self.objlist[index]\n",
        "        myF = open(impath, 'r')\n",
        "        firstLine = myF.readline().strip()\n",
        "        if 'OFF' != firstLine[0:3]:\n",
        "            raise ValueError('Not a valid OFF header')\n",
        "        if len(firstLine) > 3:\n",
        "            n_verts, n_faces, n_edges = tuple([int(s) for s in firstLine[4:].split(' ')])\n",
        "        else:\n",
        "            n_verts, n_faces, n_edges = tuple([int(s) for s in myF.readline().strip().split(' ')])\n",
        "        verts = np.array([[float(s) for s in myF.readline().strip().split(' ')] for i_vert in range(n_verts)])\n",
        "        #if verts.shape[0] == 0: return\n",
        "        choice = np.random.choice(verts.shape[0], self.numpoints, replace=True)\n",
        "        '''\n",
        "        choice = None\n",
        "        iter = 0\n",
        "        while choice is None:\n",
        "            try:\n",
        "                choice = np.random.choice(verts.shape[0], numpoints, replace=True)\n",
        "                iter = iter + 1\n",
        "            except:\n",
        "                pass\n",
        "            if (iter == 20): break\n",
        "        '''\n",
        "        point_set = verts[choice, :]\n",
        "        #faces = [[int(s) for s in myF.readline().strip().split(' ')][1:] for i_face in range(n_faces)]\n",
        "        point_set = point_set - np.expand_dims(np.mean(point_set, axis=0), 0)  # center\n",
        "        dist = np.max(np.sqrt(np.sum(point_set ** 2, axis=1)), 0)\n",
        "        point_set = point_set / dist  # scale\n",
        "        #poniższe dwie linijki nowe\n",
        "        point_set = torch.from_numpy(point_set.astype(np.float32)).float()\n",
        "        #target = torch.from_numpy(np.array([target]).astype(np.int64))\n",
        "        return point_set, target\n",
        "\n",
        "    def flist_reader(self, filelist):\n",
        "        classes_dirs = glob.glob(self.root + \"*/\", recursive = False)\n",
        "        classes_list = [i.split('/')[4] for i in classes_dirs]\n",
        "        classes_nums = np.linspace(0,self.num_classes-1,self.num_classes)\n",
        "        classes_dict = dict(zip(sorted(classes_list), classes_nums.astype(int)))\n",
        "        objlist = []\n",
        "\n",
        "        for line in filelist:\n",
        "            label_start_index = line.strip().find(self.root) + len(self.root)\n",
        "            label_end_index = line.strip()[label_start_index:].find('/')\n",
        "            imlabel = line.strip()[label_start_index:label_start_index+label_end_index]\n",
        "            imlabel = classes_dict[imlabel]\n",
        "            impath = line\n",
        "            objlist.append( (impath, imlabel) )\n",
        "        return objlist\n",
        "\n",
        "    def __len__(self):\n",
        "      return len(self.objlist)\n",
        "\n",
        "    #def train_dataloader(self):\n",
        "    #    return DataLoader(dataset=self, batch_size=self.batch_size, num_workers=self.num_workers, shuffle=self.shuf)"
      ]
    },
    {
      "cell_type": "code",
      "source": [
        "mdltest = ModelNetLoader(root='/content/model10/ModelNet10/')"
      ],
      "metadata": {
        "id": "P6d15maL8x-r"
      },
      "execution_count": null,
      "outputs": []
    },
    {
      "cell_type": "code",
      "execution_count": null,
      "metadata": {
        "id": "Z6MoIQvBNh7m"
      },
      "outputs": [],
      "source": [
        "def disp(tensor_image, target):\n",
        "    fig = plt.figure(figsize=(10, 10))\n",
        "    ax = plt.axes(projection='3d')\n",
        "    V_np = np.asarray(tensor_image.cpu())\n",
        "    xx = V_np[:, 0]\n",
        "    yy = V_np[:, 1]\n",
        "    zz = V_np[:, 2]\n",
        "    ax.scatter(xx, yy, zz)\n",
        "    plt.axis('off')\n",
        "    plt.show()\n",
        "    print('Etykieta klasy: {}'.format(target))\n",
        "    print()"
      ]
    },
    {
      "cell_type": "code",
      "source": [
        "xxx = mdltest[628]\n",
        "disp(xxx[0], xxx[1])"
      ],
      "metadata": {
        "colab": {
          "base_uri": "https://localhost:8080/",
          "height": 610
        },
        "id": "pD51ahvO-1ke",
        "outputId": "4daf05e7-03bc-468c-9d2f-60df98d40261"
      },
      "execution_count": null,
      "outputs": [
        {
          "output_type": "display_data",
          "data": {
            "text/plain": [
              "<Figure size 720x720 with 1 Axes>"
            ],
            "image/png": "[encoded data removed]"
          },
          "metadata": {
            "needs_background": "light"
          }
        },
        {
          "output_type": "stream",
          "name": "stdout",
          "text": [
            "Etykieta klasy: 2\n",
            "\n"
          ]
        }
      ]
    },
    {
      "cell_type": "markdown",
      "metadata": {
        "id": "7yvJCbVGZmgL"
      },
      "source": [
        "#MODELNET DATA MODULE"
      ]
    },
    {
      "cell_type": "code",
      "execution_count": null,
      "metadata": {
        "id": "JtPIaxNTNhZJ"
      },
      "outputs": [],
      "source": [
        "'''\n",
        "class ModelNetDataModule(pl.LightningDataModule):\n",
        "    def __init__(self, batch_size, npoints=100, nworkers=1, data_dir: str = './model10/ModelNet10/'):\n",
        "        super().__init__()\n",
        "        self.data_dir = data_dir\n",
        "        self.batch_size = batch_size\n",
        "        self.num_classes = 10\n",
        "        self.npoints = npoints\n",
        "        self.nworkers = nworkers\n",
        "        self.imglist = [f1 for f1 in glob.glob(data_dir + '**/*.off', recursive=True)]# if isfile(join(self.data_dir, f1))]\n",
        "        self.trainlist = [f2 for f2 in self.imglist if \"train\" in f2]\n",
        "        self.testlist = [f3 for f3 in self.imglist if \"test\" in f3]\n",
        "\n",
        "\n",
        "    def setup(self, stage=None):\n",
        "        #training / validation\n",
        "        if stage == 'fit' or stage is None:\n",
        "            train_dataset = ModelNetFileList(root=self.data_dir, numpoints=self.npoints, flist=self.trainlist)\n",
        "            train_dataset_size = int(len(train_dataset) * 0.9)\n",
        "            self.train_dataset, self.val_dataset = random_split(train_dataset, [train_dataset_size, len(train_dataset) - train_dataset_size])\n",
        "        #testing\n",
        "        if stage == 'test' or stage is None:\n",
        "            self.test_dataset = ModelNetFileList(root=self.data_dir, numpoints=self.npoints, flist=self.testlist)\n",
        "\n",
        "    def prepare_batch(self):\n",
        "        batch_tensor = torch.empty((self.batch_size, 3, self.npoints))\n",
        "        for n in range(self.batch_size):\n",
        "            obj, target = random.choice(self.train_dataset) \n",
        "            obj = obj.view(obj.shape[1], obj.shape[0])\n",
        "            batch_tensor[n, :, :] = obj\n",
        "        self.batch_tensor = batch_tensor\n",
        "\n",
        "    def train_dataloader(self):\n",
        "        return DataLoader(self.train_dataset, batch_size=self.batch_size, num_workers=self.nworkers, shuffle=True)\n",
        "\n",
        "    def val_dataloader(self):\n",
        "        return DataLoader(self.val_dataset, batch_size=self.batch_size, num_workers=self.nworkers)\n",
        "\n",
        "    def test_dataloader(self):\n",
        "        return DataLoader(self.test_dataset, batch_size=self.batch_size, num_workers=self.nworkers)\n",
        "'''"
      ]
    },
    {
      "cell_type": "code",
      "source": [
        "class ModelNetDataset(data.Dataset):\n",
        "    def __init__(self,\n",
        "                 root,\n",
        "                 npoints=2500,\n",
        "                 split='train',\n",
        "                 data_augmentation=True):\n",
        "        self.npoints = npoints\n",
        "        self.root = root\n",
        "        self.split = split\n",
        "        self.data_augmentation = data_augmentation\n",
        "        self.fns = []\n",
        "        with open(os.path.join(root, '{}.txt'.format(self.split)), 'r') as f:\n",
        "            for line in f:\n",
        "                self.fns.append(line.strip())\n",
        "\n",
        "        self.cat = {}\n",
        "        with open('./misc/modelnet_id.txt', 'r') as f:\n",
        "            for line in f:\n",
        "                ls = line.strip().split()\n",
        "                self.cat[ls[0]] = int(ls[1])\n",
        "\n",
        "        print(self.cat)\n",
        "        self.classes = list(self.cat.keys())\n",
        "    '''\n",
        "    def __getitem2__(self, index):\n",
        "      #impath, target = self.imlist[index]\n",
        "      myF = open(os.path.join(self.root, '{}.txt'.format(self.split)), 'r')\n",
        "      firstLine = myF.readline().strip()\n",
        "      if 'OFF' != firstLine[0:3]:\n",
        "          raise ValueError('Not a valid OFF header')\n",
        "      if len(firstLine) > 3:\n",
        "          n_verts, n_faces, n_edges = tuple([int(s) for s in firstLine[4:].split(' ')])\n",
        "      else:\n",
        "          n_verts, n_faces, n_edges = tuple([int(s) for s in myF.readline().strip().split(' ')])\n",
        "      verts = torch.tensor([[float(s) for s in myF.readline().strip().split(' ')] for i_vert in range(n_verts)])\n",
        "      #ipdb.set_trace(context=5)#\n",
        "      if verts.shape[0] > 0:\n",
        "        choice = np.random.choice(verts.shape[0], numpoints, replace=True)\n",
        "        point_set = verts[choice, :]\n",
        "      else:\n",
        "        point_set=verts \n",
        "      #faces = [[int(s) for s in myF.readline().strip().split(' ')][1:] for i_face in range(n_faces)]\n",
        "      return point_set, target\n",
        "\n",
        "    def __len__(self):\n",
        "        return len(self.fns)\n",
        "    '''\n",
        "\n",
        "\n",
        "    def __getitem__(self, index):\n",
        "        ###ipdb.set_trace(context=5)#\n",
        "        fn = self.fns[index]\n",
        "        cls = self.cat[fn.split('/')[0]]\n",
        "        #ipdb.set_trace(context=5)#\n",
        "\n",
        "        '''\n",
        "        with open(os.path.join(self.root, fn), 'rb') as f:\n",
        "            plydata = PlyData.read(f)\n",
        "        pts = np.vstack([plydata['vertex']['x'], plydata['vertex']['y'], plydata['vertex']['z']]).T\n",
        "        \n",
        "        '''\n",
        "        ipdb.set_trace(context=5)\n",
        "        with open(os.path.join(self.root, fn), 'r') as myF:\n",
        "            firstLine = myF.readline().strip()\n",
        "            #if 'OFF' != firstLine[0:3]:\n",
        "            #    raise ValueError('Not a valid OFF header')\n",
        "            if len(firstLine) > 3:\n",
        "                n_verts, n_faces, n_edges = tuple([int(s) for s in firstLine[4:].split(' ')])\n",
        "            else:\n",
        "                n_verts, n_faces, n_edges = tuple([int(s) for s in myF.readline().strip().split(' ')])\n",
        "            pts = torch.tensor([[float(s) for s in myF.readline().strip().split(' ')] for i_vert in range(n_verts)])       \n",
        "\n",
        "        \n",
        "\n",
        "        choice = np.random.choice(len(pts), self.npoints, replace=True)\n",
        "        point_set = pts[choice, :]\n",
        "\n",
        "        point_set = point_set - np.expand_dims(np.mean(point_set, axis=0), 0)  # center\n",
        "        dist = np.max(np.sqrt(np.sum(point_set ** 2, axis=1)), 0)\n",
        "        point_set = point_set / dist  # scale\n",
        "\n",
        "        if self.data_augmentation:\n",
        "            theta = np.random.uniform(0, np.pi * 2)\n",
        "            rotation_matrix = np.array([[np.cos(theta), -np.sin(theta)], [np.sin(theta), np.cos(theta)]])\n",
        "            point_set[:, [0, 2]] = point_set[:, [0, 2]].dot(rotation_matrix)  # random rotation\n",
        "            point_set += np.random.normal(0, 0.02, size=point_set.shape)  # random jitter\n",
        "\n",
        "        point_set = torch.from_numpy(point_set.astype(np.float32))\n",
        "        cls = torch.from_numpy(np.array([cls]).astype(np.int64))\n",
        "        return point_set, cls        "
      ],
      "metadata": {
        "id": "2tNUBhSBqLuh"
      },
      "execution_count": null,
      "outputs": []
    },
    {
      "cell_type": "markdown",
      "metadata": {
        "id": "M4E0KWaQZt_8"
      },
      "source": [
        "#LOAD SAMPLE DATA"
      ]
    },
    {
      "cell_type": "code",
      "execution_count": null,
      "metadata": {
        "colab": {
          "base_uri": "https://localhost:8080/",
          "height": 1000
        },
        "id": "NHM2qHyvzfvJ",
        "outputId": "ac1fc95d-1cd2-4006-d240-ec5c467cc1a7"
      },
      "outputs": [
        {
          "output_type": "stream",
          "name": "stdout",
          "text": [
            "Rozmiar zbioru treningowego: 3591\n",
            "Rozmiar zbioru walidacyjnego: 400\n",
            "Rozmiar zbioru testowego: 908\n"
          ]
        },
        {
          "output_type": "display_data",
          "data": {
            "text/plain": [
              "<Figure size 720x720 with 1 Axes>"
            ],
            "image/png": "[encoded data removed]"
          },
          "metadata": {
            "needs_background": "light"
          }
        },
        {
          "output_type": "stream",
          "name": "stdout",
          "text": [
            "Etykieta klasy: 2\n",
            "\n"
          ]
        },
        {
          "output_type": "display_data",
          "data": {
            "text/plain": [
              "<Figure size 720x720 with 1 Axes>"
            ],
            "image/png": "[encoded data removed]"
          },
          "metadata": {
            "needs_background": "light"
          }
        },
        {
          "output_type": "stream",
          "name": "stdout",
          "text": [
            "Etykieta klasy: 8\n",
            "\n"
          ]
        },
        {
          "output_type": "display_data",
          "data": {
            "text/plain": [
              "<Figure size 720x720 with 1 Axes>"
            ],
            "image/png": "[encoded data removed]"
          },
          "metadata": {
            "needs_background": "light"
          }
        },
        {
          "output_type": "stream",
          "name": "stdout",
          "text": [
            "Etykieta klasy: 1\n",
            "\n"
          ]
        },
        {
          "output_type": "display_data",
          "data": {
            "text/plain": [
              "<Figure size 720x720 with 1 Axes>"
            ],
            "image/png": "[encoded data removed]"
          },
          "metadata": {
            "needs_background": "light"
          }
        },
        {
          "output_type": "stream",
          "name": "stdout",
          "text": [
            "Etykieta klasy: 7\n",
            "\n"
          ]
        },
        {
          "output_type": "display_data",
          "data": {
            "text/plain": [
              "<Figure size 720x720 with 1 Axes>"
            ],
            "image/png": "[encoded data removed]"
          },
          "metadata": {
            "needs_background": "light"
          }
        },
        {
          "output_type": "stream",
          "name": "stdout",
          "text": [
            "Etykieta klasy: 8\n",
            "\n"
          ]
        }
      ],
      "source": [
        "sample_data = ModelNetDataModule(batch_size=10, npoints=12000)\n",
        "sample_data.setup()\n",
        "sample_data.prepare_batch()\n",
        "\n",
        "print(\"Rozmiar zbioru treningowego: \" + str(len(sample_data.train_dataset)))\n",
        "print(\"Rozmiar zbioru walidacyjnego: \" + str(len(sample_data.val_dataset)))\n",
        "print(\"Rozmiar zbioru testowego: \" + str(len(sample_data.test_dataset)))\n",
        "\n",
        "\n",
        "def show_examples(dataset, n):\n",
        "    for i in range(n):\n",
        "        tensor_image, target = random.choice(dataset)\n",
        "        #ipdb.set_trace(context=5)\n",
        "        fig = plt.figure(figsize=(10, 10))\n",
        "        ax = plt.axes(projection='3d')\n",
        "        V_np = np.asarray(tensor_image)\n",
        "\n",
        "        #print(V_np.size0\n",
        "        #print(V_np)\n",
        "        xx = V_np[:, 0]\n",
        "        yy = V_np[:, 1]\n",
        "        zz = V_np[:, 2]\n",
        "        ax.scatter(xx, yy, zz)\n",
        "        plt.axis('off')\n",
        "        plt.show()\n",
        "\n",
        "        print('Etykieta klasy: {}'.format(target))\n",
        "        print()\n",
        "  \n",
        "show_examples(sample_data.train_dataset, 5)\n",
        "\n",
        "#dir(sample_data)"
      ]
    },
    {
      "cell_type": "markdown",
      "metadata": {
        "id": "Bc-6cxt9JGHa"
      },
      "source": [
        "#STN3D"
      ]
    },
    {
      "cell_type": "code",
      "execution_count": null,
      "metadata": {
        "id": "sarEePNK7Okp"
      },
      "outputs": [],
      "source": [
        "class STN3d(nn.Module):\n",
        "    def __init__(self, channel=3):\n",
        "        super(STN3d, self).__init__()\n",
        "        self.conv1 = torch.nn.Conv1d(channel, 64, 1)\n",
        "        self.conv2 = torch.nn.Conv1d(64, 128, 1)\n",
        "        self.conv3 = torch.nn.Conv1d(128, 1024, 1)\n",
        "        self.fc1 = nn.Linear(1024, 512)\n",
        "        self.fc2 = nn.Linear(512, 256)\n",
        "        self.fc3 = nn.Linear(256, 9)\n",
        "        self.relu = nn.ReLU()\n",
        "        '''\n",
        "        self.bn1 = nn.BatchNorm1d(64) \n",
        "        self.bn2 = nn.BatchNorm1d(128)\n",
        "        self.bn3 = nn.BatchNorm1d(1024)\n",
        "        self.bn4 = nn.BatchNorm1d(512)\n",
        "        self.bn5 = nn.BatchNorm1d(256)\n",
        "        '''\n",
        "        self.bns = []\n",
        "        batch_norm_args = np.logspace(6, 10, base=2, num=5, dtype=np.int64)\n",
        "        for n in batch_norm_args: self.bns.append(nn.BatchNorm1d(n)) \n",
        "\n",
        "\n",
        "    def forward(self, x):\n",
        "        batchsize = x.shape[0]\n",
        "        x = F.relu(self.bns[0](self.conv1(x)))\n",
        "        x = F.relu(self.bns[1](self.conv2(x)))\n",
        "        x = F.relu(self.bns[4](self.conv3(x)))\n",
        "        x = torch.max(x, 2, keepdim=True)[0]\n",
        "        x = x.view(-1, 1024) \n",
        "        x = F.relu(self.bns[3](self.fc1(x))) \n",
        "        x = F.relu(self.bns[2](self.fc2(x)))\n",
        "        x = self.fc3(x)\n",
        "        iden = Variable(torch.from_numpy(np.array([1, 0, 0, 0, 1, 0, 0, 0, 1]).astype(np.float32))).view(1, 9).repeat(batchsize, 1)\n",
        "        if x.is_cuda:\n",
        "            iden = iden.cuda()\n",
        "        x = x + iden\n",
        "        x = x.view(-1, 3, 3)\n",
        "        return x\n"
      ]
    },
    {
      "cell_type": "markdown",
      "metadata": {
        "id": "RndcfcMaQg1c"
      },
      "source": [
        "#STNKD"
      ]
    },
    {
      "cell_type": "code",
      "execution_count": null,
      "metadata": {
        "id": "B0u_b14mQgNv"
      },
      "outputs": [],
      "source": [
        "class STNkd(nn.Module):\n",
        "    def __init__(self, k=64):\n",
        "        super(STNkd, self).__init__()\n",
        "        self.conv1 = torch.nn.Conv1d(k, 64, 1)\n",
        "        self.conv2 = torch.nn.Conv1d(64, 128, 1)\n",
        "        self.conv3 = torch.nn.Conv1d(128, 1024, 1)\n",
        "        self.fc1 = nn.Linear(1024, 512)\n",
        "        self.fc2 = nn.Linear(512, 256)\n",
        "        self.fc3 = nn.Linear(256, k*k)\n",
        "        self.relu = nn.ReLU()\n",
        "        '''\n",
        "        self.bn1 = nn.BatchNorm1d(64)\n",
        "        self.bn2 = nn.BatchNorm1d(128)\n",
        "        self.bn3 = nn.BatchNorm1d(1024)\n",
        "        self.bn4 = nn.BatchNorm1d(512)\n",
        "        self.bn5 = nn.BatchNorm1d(256)\n",
        "        '''\n",
        "        self.bns = []\n",
        "        batch_norm_args = np.logspace(6, 10, base=2, num=5, dtype=np.int64)\n",
        "        for n in batch_norm_args: self.bns.append(nn.BatchNorm1d(n)) \n",
        "\n",
        "        self.k = k\n",
        "\n",
        "    def forward(self, x):\n",
        "        batchsize = x.shape[0]\n",
        "        x = F.relu(self.bn1(self.conv1(x)))\n",
        "        x = F.relu(self.bn2(self.conv2(x)))\n",
        "        x = F.relu(self.bn3(self.conv3(x)))\n",
        "        x = torch.max(x, 2, keepdim=True)[0]\n",
        "        x = x.view(-1, 1024)\n",
        "\n",
        "        x = F.relu(self.bn4(self.fc1(x)))\n",
        "        x = F.relu(self.bn5(self.fc2(x)))\n",
        "        x = self.fc3(x)\n",
        "\n",
        "        iden = Variable(torch.from_numpy(np.eye(self.k).flatten().astype(np.float32))).view(1,self.k*self.k).repeat(batchsize,1) #stare, zmienić\n",
        "        if x.is_cuda:\n",
        "            iden = iden.cuda()#pytorch lightning\n",
        "        x = x + iden\n",
        "        x = x.view(-1, self.k, self.k)\n",
        "        return x"
      ]
    },
    {
      "cell_type": "code",
      "source": [
        "class STN(nn.Module):\n",
        "    def __init__(self, kd=True):\n",
        "        if kd:  self.k=64; self.iden_arr=np.eye(self.k).flatten()\n",
        "        else:   self.k=3;  self.iden_arr=np.array([1, 0, 0, 0, 1, 0, 0, 0, 1]) \n",
        "        super(STN, self).__init__()\n",
        "        self.conv1 = torch.nn.Conv1d(self.k, 64, 1)\n",
        "        self.conv2 = torch.nn.Conv1d(64, 128, 1)\n",
        "        self.conv3 = torch.nn.Conv1d(128, 1024, 1)\n",
        "        self.fc1 = nn.Linear(1024, 512)\n",
        "        self.fc2 = nn.Linear(512, 256)\n",
        "        self.fc3 = nn.Linear(256, self.k*self.k)\n",
        "        self.relu = nn.ReLU()\n",
        "\n",
        "        self.bns = []\n",
        "        batch_norm_args = np.logspace(6, 10, base=2, num=5, dtype=np.int64)\n",
        "        for n in batch_norm_args: self.bns.append(nn.BatchNorm1d(n)) \n",
        "\n",
        "    def forward(self, x):\n",
        "        batchsize = x.shape[0]\n",
        "        x = F.relu(self.bns[0](self.conv1(x)))\n",
        "        x = F.relu(self.bns[1](self.conv2(x)))\n",
        "        x = F.relu(self.bns[4](self.conv3(x)))\n",
        "        x = torch.max(x, 2, keepdim=True)[0]\n",
        "        x = x.view(-1, 1024) \n",
        "        x = F.relu(self.bns[3](self.fc1(x))) \n",
        "        x = F.relu(self.bns[2](self.fc2(x)))\n",
        "        x = self.fc3(x)\n",
        "        iden = Variable(torch.from_numpy(self.iden_arr.astype(np.float32))).view(1, self.k*self.k).repeat(batchsize, 1) #stare, zmienić\n",
        "\n",
        "        if x.is_cuda:\n",
        "            iden = iden.cuda()#pytorch lightning, tako rzeczye Gwardys\n",
        "        x = x + iden\n",
        "        x = x.view(-1, self.k, self.k)\n",
        "        return x"
      ],
      "metadata": {
        "id": "BEG3IWrJrRX-"
      },
      "execution_count": null,
      "outputs": []
    },
    {
      "cell_type": "markdown",
      "metadata": {
        "id": "zTp4RkRhJDmq"
      },
      "source": [
        "#POINTNET FEATURE"
      ]
    },
    {
      "cell_type": "code",
      "execution_count": null,
      "metadata": {
        "id": "-5uBvfk3JCvO"
      },
      "outputs": [],
      "source": [
        "class PointNetfeat(nn.Module):\n",
        "    def __init__(self, global_feat = True, feature_transform = False):\n",
        "        super(PointNetfeat, self).__init__()\n",
        "        self.stn = STN(kd=False)\n",
        "        self.conv1 = torch.nn.Conv1d(3, 64, 1)\n",
        "        self.conv2 = torch.nn.Conv1d(64, 128, 1)\n",
        "        self.conv3 = torch.nn.Conv1d(128, 1024, 1)\n",
        "        self.bn1 = nn.BatchNorm1d(64)\n",
        "        self.bn2 = nn.BatchNorm1d(128)\n",
        "        self.bn3 = nn.BatchNorm1d(1024)\n",
        "        self.global_feat = global_feat\n",
        "        self.feature_transform = feature_transform\n",
        "        if self.feature_transform:\n",
        "            self.fstn = STN()\n",
        "\n",
        "    def forward(self, x):\n",
        "        n_pts = x.shape[2]\n",
        "        trans = self.stn(x)\n",
        "        #ipdb.set_trace(context=5)\n",
        "        x = x.transpose(2, 1)\n",
        "        x = torch.bmm(x, trans)\n",
        "        x = x.transpose(2, 1)\n",
        "        x = F.relu(self.bn1(self.conv1(x)))\n",
        "\n",
        "        if self.feature_transform:\n",
        "            trans_feat = self.fstn(x)\n",
        "            x = x.transpose(2,1)\n",
        "            x = torch.bmm(x, trans_feat)\n",
        "            x = x.transpose(2,1)\n",
        "        else:\n",
        "            trans_feat = None\n",
        "\n",
        "        pointfeat = x\n",
        "        x = F.relu(self.bn2(self.conv2(x)))\n",
        "        x = self.bn3(self.conv3(x))\n",
        "        x = torch.max(x, 2, keepdim=True)[0]\n",
        "        x = x.view(-1, 1024)\n",
        "        if self.global_feat:\n",
        "            return x, trans, trans_feat\n",
        "        else:\n",
        "            x = x.view(-1, 1024, 1).repeat(1, 1, n_pts)\n",
        "            return torch.cat([x, pointfeat], 1), trans, trans_feat\n",
        "\n",
        "\n",
        "def feature_transform_regularizer(trans):\n",
        "    d = trans.size()[1]\n",
        "    batchsize = trans.size()[0]\n",
        "    I = torch.eye(d)[None, :, :]\n",
        "    if trans.is_cuda:\n",
        "        I = I.cuda()\n",
        "    loss = torch.mean(torch.norm(torch.bmm(trans, trans.transpose(2,1)) - I, dim=(1,2)))\n",
        "    return loss"
      ]
    },
    {
      "cell_type": "markdown",
      "metadata": {
        "id": "zJe4TJxESIeg"
      },
      "source": [
        "#POINTNET CLS"
      ]
    },
    {
      "cell_type": "code",
      "execution_count": null,
      "metadata": {
        "id": "iNImn71YSBBn"
      },
      "outputs": [],
      "source": [
        "class PointNetCls(nn.Module):\n",
        "    def __init__(self, k=2, feature_transform=False):\n",
        "        super(PointNetCls, self).__init__()\n",
        "        self.feature_transform = feature_transform\n",
        "        self.feat = PointNetfeat(global_feat=True, feature_transform=feature_transform)\n",
        "        self.fc1 = nn.Linear(1024, 512)\n",
        "        self.fc2 = nn.Linear(512, 256)\n",
        "        self.fc3 = nn.Linear(256, k)\n",
        "        self.dropout = nn.Dropout(p=0.3)\n",
        "        self.bn1 = nn.BatchNorm1d(512)\n",
        "        self.bn2 = nn.BatchNorm1d(256)\n",
        "        self.relu = nn.ReLU()\n",
        "\n",
        "    def forward(self, x):\n",
        "        x, trans, trans_feat = self.feat(x)\n",
        "        x = F.relu(self.bn1(self.fc1(x)))\n",
        "        x = F.relu(self.bn2(self.dropout(self.fc2(x))))\n",
        "        x = self.fc3(x)\n",
        "        return F.log_softmax(x, dim=1), trans, trans_feat"
      ]
    },
    {
      "cell_type": "code",
      "execution_count": null,
      "metadata": {
        "colab": {
          "base_uri": "https://localhost:8080/"
        },
        "id": "Z5cpfHkxWTQt",
        "outputId": "f5d7277f-f9f6-4874-8fad-dfb2d7499618"
      },
      "outputs": [
        {
          "output_type": "stream",
          "name": "stdout",
          "text": [
            "NVIDIA-SMI has failed because it couldn't communicate with the NVIDIA driver. Make sure that the latest NVIDIA driver is installed and running.\n",
            "\n",
            "NVIDIA-SMI has failed because it couldn't communicate with the NVIDIA driver. Make sure that the latest NVIDIA driver is installed and running.\n",
            "\n"
          ]
        }
      ],
      "source": [
        "!nvidia-smi\n",
        "!nvidia-smi -L  "
      ]
    },
    {
      "cell_type": "markdown",
      "metadata": {
        "id": "_Bz8yEL5VZP9"
      },
      "source": [
        "#TRENOWANIE"
      ]
    },
    {
      "cell_type": "code",
      "execution_count": null,
      "metadata": {
        "colab": {
          "base_uri": "https://localhost:8080/",
          "height": 1000
        },
        "id": "QVkQgB__VYML",
        "outputId": "44c31376-6f93-4e1c-c880-da094a78d5d2"
      },
      "outputs": [
        {
          "output_type": "stream",
          "name": "stdout",
          "text": [
            "Random Seed:  1555\n",
            "Rozmiar zbioru treningowego: 3591\n",
            "Rozmiar zbioru walidacyjnego: 400\n",
            "Rozmiar zbioru testowego: 908\n",
            "Rozmiar batcha: 50\n",
            "Liczba klas: 10\n",
            "Epoch 0: batch 0 of 71. Train loss: 2.464597 Accuracy: 0.080000\n",
            "Epoch 0: batch 0 of 71. \u001b[94mValidation\u001b[0m loss: 8.436953 Accuracy: 0.120000\n",
            "Epoch 0: batch 1 of 71. Train loss: 3.032526 Accuracy: 0.020000\n",
            "Epoch 0: batch 2 of 71. Train loss: 3.061309 Accuracy: 0.280000\n",
            "Epoch 0: batch 3 of 71. Train loss: 2.708909 Accuracy: 0.420000\n",
            "Epoch 0: batch 4 of 71. Train loss: 2.418524 Accuracy: 0.380000\n",
            "Epoch 0: batch 5 of 71. Train loss: 2.431446 Accuracy: 0.360000\n",
            "Epoch 0: batch 6 of 71. Train loss: 2.131029 Accuracy: 0.460000\n",
            "Epoch 0: batch 7 of 71. Train loss: 2.079860 Accuracy: 0.460000\n",
            "Epoch 0: batch 8 of 71. Train loss: 1.873102 Accuracy: 0.480000\n",
            "Epoch 0: batch 9 of 71. Train loss: 2.281826 Accuracy: 0.360000\n",
            "Epoch 0: batch 10 of 71. Train loss: 1.751853 Accuracy: 0.500000\n",
            "Epoch 0: batch 10 of 71. \u001b[94mValidation\u001b[0m loss: 1.442552 Accuracy: 0.540000\n",
            "Epoch 0: batch 11 of 71. Train loss: 1.643027 Accuracy: 0.540000\n",
            "Epoch 0: batch 12 of 71. Train loss: 2.078809 Accuracy: 0.480000\n",
            "Epoch 0: batch 13 of 71. Train loss: 1.770578 Accuracy: 0.520000\n",
            "Epoch 0: batch 14 of 71. Train loss: 1.964157 Accuracy: 0.460000\n",
            "Epoch 0: batch 15 of 71. Train loss: 1.886020 Accuracy: 0.460000\n",
            "Epoch 0: batch 16 of 71. Train loss: 1.397234 Accuracy: 0.560000\n",
            "Epoch 0: batch 17 of 71. Train loss: 1.613195 Accuracy: 0.520000\n",
            "Epoch 0: batch 18 of 71. Train loss: 1.638621 Accuracy: 0.520000\n",
            "Epoch 0: batch 19 of 71. Train loss: 1.460925 Accuracy: 0.520000\n",
            "Epoch 0: batch 20 of 71. Train loss: 1.597555 Accuracy: 0.520000\n",
            "Epoch 0: batch 20 of 71. \u001b[94mValidation\u001b[0m loss: 1.569277 Accuracy: 0.520000\n",
            "Epoch 0: batch 21 of 71. Train loss: 1.727917 Accuracy: 0.460000\n",
            "Epoch 0: batch 22 of 71. Train loss: 1.491651 Accuracy: 0.560000\n",
            "Epoch 0: batch 23 of 71. Train loss: 2.420044 Accuracy: 0.320000\n",
            "Epoch 0: batch 24 of 71. Train loss: 1.506057 Accuracy: 0.520000\n",
            "Epoch 0: batch 25 of 71. Train loss: 1.448979 Accuracy: 0.580000\n",
            "Epoch 0: batch 26 of 71. Train loss: 1.529624 Accuracy: 0.500000\n",
            "Epoch 0: batch 27 of 71. Train loss: 1.468424 Accuracy: 0.600000\n",
            "Epoch 0: batch 28 of 71. Train loss: 1.385215 Accuracy: 0.640000\n",
            "Epoch 0: batch 29 of 71. Train loss: 1.363212 Accuracy: 0.620000\n",
            "Epoch 0: batch 30 of 71. Train loss: 1.853355 Accuracy: 0.500000\n",
            "Epoch 0: batch 30 of 71. \u001b[94mValidation\u001b[0m loss: 1.247321 Accuracy: 0.540000\n",
            "Epoch 0: batch 31 of 71. Train loss: 1.547004 Accuracy: 0.480000\n",
            "Epoch 0: batch 32 of 71. Train loss: 1.337406 Accuracy: 0.660000\n",
            "Epoch 0: batch 33 of 71. Train loss: 1.353088 Accuracy: 0.680000\n",
            "Epoch 0: batch 34 of 71. Train loss: 1.454731 Accuracy: 0.440000\n",
            "Epoch 0: batch 35 of 71. Train loss: 1.617887 Accuracy: 0.520000\n",
            "Epoch 0: batch 36 of 71. Train loss: 1.286747 Accuracy: 0.620000\n",
            "Epoch 0: batch 37 of 71. Train loss: 1.661208 Accuracy: 0.560000\n",
            "Epoch 0: batch 38 of 71. Train loss: 1.201349 Accuracy: 0.640000\n",
            "Epoch 0: batch 39 of 71. Train loss: 1.496729 Accuracy: 0.620000\n",
            "Epoch 0: batch 40 of 71. Train loss: 1.160451 Accuracy: 0.660000\n",
            "Epoch 0: batch 40 of 71. \u001b[94mValidation\u001b[0m loss: 1.131440 Accuracy: 0.540000\n",
            "Epoch 0: batch 41 of 71. Train loss: 1.514336 Accuracy: 0.560000\n",
            "Epoch 0: batch 42 of 71. Train loss: 1.401886 Accuracy: 0.600000\n",
            "Epoch 0: batch 43 of 71. Train loss: 1.238264 Accuracy: 0.660000\n",
            "Epoch 0: batch 44 of 71. Train loss: 1.766633 Accuracy: 0.400000\n",
            "Epoch 0: batch 45 of 71. Train loss: 1.304668 Accuracy: 0.720000\n",
            "Epoch 0: batch 46 of 71. Train loss: 1.327344 Accuracy: 0.620000\n",
            "Epoch 0: batch 47 of 71. Train loss: 1.730441 Accuracy: 0.600000\n",
            "Epoch 0: batch 48 of 71. Train loss: 1.786813 Accuracy: 0.560000\n",
            "Epoch 0: batch 49 of 71. Train loss: 1.420677 Accuracy: 0.620000\n",
            "Epoch 0: batch 50 of 71. Train loss: 1.387832 Accuracy: 0.680000\n",
            "Epoch 0: batch 50 of 71. \u001b[94mValidation\u001b[0m loss: 0.918809 Accuracy: 0.760000\n",
            "Epoch 0: batch 51 of 71. Train loss: 1.293729 Accuracy: 0.600000\n",
            "Epoch 0: batch 52 of 71. Train loss: 1.203369 Accuracy: 0.580000\n",
            "Epoch 0: batch 53 of 71. Train loss: 1.154777 Accuracy: 0.780000\n",
            "Epoch 0: batch 54 of 71. Train loss: 0.934226 Accuracy: 0.780000\n",
            "Epoch 0: batch 55 of 71. Train loss: 1.597198 Accuracy: 0.560000\n",
            "Epoch 0: batch 56 of 71. Train loss: 1.598231 Accuracy: 0.600000\n",
            "Epoch 0: batch 57 of 71. Train loss: 0.847476 Accuracy: 0.880000\n",
            "Epoch 0: batch 58 of 71. Train loss: 1.273732 Accuracy: 0.640000\n",
            "Epoch 0: batch 59 of 71. Train loss: 1.247761 Accuracy: 0.640000\n",
            "Epoch 0: batch 60 of 71. Train loss: 1.264816 Accuracy: 0.640000\n",
            "Epoch 0: batch 60 of 71. \u001b[94mValidation\u001b[0m loss: 0.792002 Accuracy: 0.760000\n",
            "Epoch 0: batch 61 of 71. Train loss: 1.110796 Accuracy: 0.720000\n",
            "Epoch 0: batch 62 of 71. Train loss: 1.045242 Accuracy: 0.740000\n",
            "Epoch 0: batch 63 of 71. Train loss: 1.320508 Accuracy: 0.640000\n",
            "Epoch 0: batch 64 of 71. Train loss: 1.555653 Accuracy: 0.560000\n",
            "Epoch 0: batch 65 of 71. Train loss: 1.084499 Accuracy: 0.720000\n",
            "Epoch 0: batch 66 of 71. Train loss: 1.096471 Accuracy: 0.680000\n",
            "Epoch 0: batch 67 of 71. Train loss: 1.257712 Accuracy: 0.600000\n",
            "Epoch 0: batch 68 of 71. Train loss: 1.233397 Accuracy: 0.600000\n",
            "Epoch 0: batch 69 of 71. Train loss: 1.314973 Accuracy: 0.540000\n",
            "Epoch 0: batch 70 of 71. Train loss: 1.267130 Accuracy: 0.560000\n",
            "Epoch 0: batch 70 of 71. \u001b[94mValidation\u001b[0m loss: 1.595179 Accuracy: 0.500000\n",
            "Epoch 0: batch 71 of 71. Train loss: 1.357271 Accuracy: 0.500000\n",
            "Epoch 1: batch 0 of 71. Train loss: 1.058158 Accuracy: 0.760000\n",
            "Epoch 1: batch 0 of 71. \u001b[94mValidation\u001b[0m loss: 1.290838 Accuracy: 0.540000\n",
            "Epoch 1: batch 1 of 71. Train loss: 1.058867 Accuracy: 0.780000\n",
            "Epoch 1: batch 2 of 71. Train loss: 1.480858 Accuracy: 0.640000\n",
            "Epoch 1: batch 3 of 71. Train loss: 1.163313 Accuracy: 0.680000\n",
            "Epoch 1: batch 4 of 71. Train loss: 1.102068 Accuracy: 0.800000\n",
            "Epoch 1: batch 5 of 71. Train loss: 0.929747 Accuracy: 0.740000\n",
            "Epoch 1: batch 6 of 71. Train loss: 0.924171 Accuracy: 0.760000\n",
            "Epoch 1: batch 7 of 71. Train loss: 1.140821 Accuracy: 0.660000\n",
            "Epoch 1: batch 8 of 71. Train loss: 1.064066 Accuracy: 0.720000\n",
            "Epoch 1: batch 9 of 71. Train loss: 1.012144 Accuracy: 0.740000\n",
            "Epoch 1: batch 10 of 71. Train loss: 1.255924 Accuracy: 0.700000\n",
            "Epoch 1: batch 10 of 71. \u001b[94mValidation\u001b[0m loss: 0.826601 Accuracy: 0.700000\n",
            "Epoch 1: batch 11 of 71. Train loss: 1.229128 Accuracy: 0.640000\n",
            "Epoch 1: batch 12 of 71. Train loss: 0.848013 Accuracy: 0.840000\n",
            "Epoch 1: batch 13 of 71. Train loss: 1.194550 Accuracy: 0.760000\n",
            "Epoch 1: batch 14 of 71. Train loss: 1.357202 Accuracy: 0.600000\n",
            "Epoch 1: batch 15 of 71. Train loss: 1.092468 Accuracy: 0.700000\n",
            "Epoch 1: batch 16 of 71. Train loss: 0.975011 Accuracy: 0.780000\n",
            "Epoch 1: batch 17 of 71. Train loss: 1.497139 Accuracy: 0.680000\n",
            "Epoch 1: batch 18 of 71. Train loss: 2.046260 Accuracy: 0.480000\n",
            "Epoch 1: batch 19 of 71. Train loss: 1.433238 Accuracy: 0.720000\n",
            "Epoch 1: batch 20 of 71. Train loss: 2.105869 Accuracy: 0.620000\n",
            "Epoch 1: batch 20 of 71. \u001b[94mValidation\u001b[0m loss: 2.810749 Accuracy: 0.500000\n",
            "Epoch 1: batch 21 of 71. Train loss: 1.586710 Accuracy: 0.720000\n",
            "Epoch 1: batch 22 of 71. Train loss: 3.290708 Accuracy: 0.500000\n",
            "Epoch 1: batch 23 of 71. Train loss: 2.109618 Accuracy: 0.700000\n",
            "Epoch 1: batch 24 of 71. Train loss: 1.711618 Accuracy: 0.740000\n",
            "Epoch 1: batch 25 of 71. Train loss: 2.191214 Accuracy: 0.540000\n",
            "Epoch 1: batch 26 of 71. Train loss: 1.513315 Accuracy: 0.720000\n",
            "Epoch 1: batch 27 of 71. Train loss: 1.450515 Accuracy: 0.640000\n",
            "Epoch 1: batch 28 of 71. Train loss: 1.292751 Accuracy: 0.720000\n",
            "Epoch 1: batch 29 of 71. Train loss: 1.356875 Accuracy: 0.740000\n",
            "Epoch 1: batch 30 of 71. Train loss: 1.340981 Accuracy: 0.600000\n",
            "Epoch 1: batch 30 of 71. \u001b[94mValidation\u001b[0m loss: 1.181267 Accuracy: 0.560000\n",
            "Epoch 1: batch 31 of 71. Train loss: 1.578835 Accuracy: 0.620000\n",
            "Epoch 1: batch 32 of 71. Train loss: 1.442215 Accuracy: 0.660000\n",
            "Epoch 1: batch 33 of 71. Train loss: 1.213213 Accuracy: 0.640000\n",
            "Epoch 1: batch 34 of 71. Train loss: 1.730152 Accuracy: 0.620000\n",
            "Epoch 1: batch 35 of 71. Train loss: 1.490145 Accuracy: 0.660000\n",
            "Epoch 1: batch 36 of 71. Train loss: 1.440287 Accuracy: 0.660000\n",
            "Epoch 1: batch 37 of 71. Train loss: 1.053747 Accuracy: 0.800000\n",
            "Epoch 1: batch 38 of 71. Train loss: 1.187496 Accuracy: 0.720000\n",
            "Epoch 1: batch 39 of 71. Train loss: 0.990539 Accuracy: 0.720000\n",
            "Epoch 1: batch 40 of 71. Train loss: 1.378755 Accuracy: 0.680000\n",
            "Epoch 1: batch 40 of 71. \u001b[94mValidation\u001b[0m loss: 0.914091 Accuracy: 0.720000\n",
            "Epoch 1: batch 41 of 71. Train loss: 1.013841 Accuracy: 0.780000\n",
            "Epoch 1: batch 42 of 71. Train loss: 1.061434 Accuracy: 0.680000\n",
            "Epoch 1: batch 43 of 71. Train loss: 1.143659 Accuracy: 0.720000\n",
            "Epoch 1: batch 44 of 71. Train loss: 1.223472 Accuracy: 0.640000\n",
            "Epoch 1: batch 45 of 71. Train loss: 0.906706 Accuracy: 0.780000\n",
            "Epoch 1: batch 46 of 71. Train loss: 1.100773 Accuracy: 0.700000\n",
            "Epoch 1: batch 47 of 71. Train loss: 1.500680 Accuracy: 0.640000\n",
            "Epoch 1: batch 48 of 71. Train loss: 0.983980 Accuracy: 0.720000\n",
            "Epoch 1: batch 49 of 71. Train loss: 1.035984 Accuracy: 0.700000\n",
            "Epoch 1: batch 50 of 71. Train loss: 1.091450 Accuracy: 0.800000\n",
            "Epoch 1: batch 50 of 71. \u001b[94mValidation\u001b[0m loss: 0.737267 Accuracy: 0.720000\n",
            "Epoch 1: batch 51 of 71. Train loss: 1.053584 Accuracy: 0.720000\n",
            "Epoch 1: batch 52 of 71. Train loss: 1.036519 Accuracy: 0.700000\n",
            "Epoch 1: batch 53 of 71. Train loss: 1.276958 Accuracy: 0.720000\n",
            "Epoch 1: batch 54 of 71. Train loss: 1.206277 Accuracy: 0.720000\n",
            "Epoch 1: batch 55 of 71. Train loss: 1.260377 Accuracy: 0.720000\n",
            "Epoch 1: batch 56 of 71. Train loss: 1.295094 Accuracy: 0.760000\n",
            "Epoch 1: batch 57 of 71. Train loss: 1.456332 Accuracy: 0.700000\n",
            "Epoch 1: batch 58 of 71. Train loss: 1.410104 Accuracy: 0.740000\n",
            "Epoch 1: batch 59 of 71. Train loss: 1.428990 Accuracy: 0.700000\n",
            "Epoch 1: batch 60 of 71. Train loss: 1.190539 Accuracy: 0.820000\n",
            "Epoch 1: batch 60 of 71. \u001b[94mValidation\u001b[0m loss: 0.930415 Accuracy: 0.680000\n",
            "Epoch 1: batch 61 of 71. Train loss: 0.991607 Accuracy: 0.820000\n",
            "Epoch 1: batch 62 of 71. Train loss: 1.364867 Accuracy: 0.720000\n",
            "Epoch 1: batch 63 of 71. Train loss: 0.882417 Accuracy: 0.800000\n",
            "Epoch 1: batch 64 of 71. Train loss: 0.999913 Accuracy: 0.800000\n",
            "Epoch 1: batch 65 of 71. Train loss: 0.922660 Accuracy: 0.780000\n",
            "Epoch 1: batch 66 of 71. Train loss: 0.626518 Accuracy: 0.900000\n",
            "Epoch 1: batch 67 of 71. Train loss: 0.939276 Accuracy: 0.820000\n",
            "Epoch 1: batch 68 of 71. Train loss: 0.867179 Accuracy: 0.840000\n",
            "Epoch 1: batch 69 of 71. Train loss: 0.750262 Accuracy: 0.860000\n",
            "Epoch 1: batch 70 of 71. Train loss: 0.913414 Accuracy: 0.880000\n",
            "Epoch 1: batch 70 of 71. \u001b[94mValidation\u001b[0m loss: 1.355402 Accuracy: 0.540000\n",
            "Epoch 1: batch 71 of 71. Train loss: 1.140830 Accuracy: 0.520000\n",
            "Epoch 2: batch 0 of 71. Train loss: 0.942725 Accuracy: 0.740000\n",
            "Epoch 2: batch 0 of 71. \u001b[94mValidation\u001b[0m loss: 0.868844 Accuracy: 0.640000\n",
            "Epoch 2: batch 1 of 71. Train loss: 0.780971 Accuracy: 0.780000\n",
            "Epoch 2: batch 2 of 71. Train loss: 0.991152 Accuracy: 0.780000\n",
            "Epoch 2: batch 3 of 71. Train loss: 0.772547 Accuracy: 0.840000\n",
            "Epoch 2: batch 4 of 71. Train loss: 1.095667 Accuracy: 0.700000\n",
            "Epoch 2: batch 5 of 71. Train loss: 1.332174 Accuracy: 0.660000\n",
            "Epoch 2: batch 6 of 71. Train loss: 0.813131 Accuracy: 0.800000\n",
            "Epoch 2: batch 7 of 71. Train loss: 0.960831 Accuracy: 0.720000\n",
            "Epoch 2: batch 8 of 71. Train loss: 1.361794 Accuracy: 0.660000\n",
            "Epoch 2: batch 9 of 71. Train loss: 1.161908 Accuracy: 0.780000\n",
            "Epoch 2: batch 10 of 71. Train loss: 1.189951 Accuracy: 0.720000\n",
            "Epoch 2: batch 10 of 71. \u001b[94mValidation\u001b[0m loss: 0.893359 Accuracy: 0.640000\n",
            "Epoch 2: batch 11 of 71. Train loss: 1.048611 Accuracy: 0.760000\n",
            "Epoch 2: batch 12 of 71. Train loss: 1.346265 Accuracy: 0.700000\n",
            "Epoch 2: batch 13 of 71. Train loss: 0.884081 Accuracy: 0.840000\n",
            "Epoch 2: batch 14 of 71. Train loss: 0.954788 Accuracy: 0.780000\n",
            "Epoch 2: batch 15 of 71. Train loss: 0.839514 Accuracy: 0.860000\n",
            "Epoch 2: batch 16 of 71. Train loss: 1.171361 Accuracy: 0.660000\n",
            "Epoch 2: batch 17 of 71. Train loss: 0.589758 Accuracy: 0.940000\n",
            "Epoch 2: batch 18 of 71. Train loss: 1.970743 Accuracy: 0.700000\n",
            "Epoch 2: batch 19 of 71. Train loss: 1.513687 Accuracy: 0.660000\n",
            "Epoch 2: batch 20 of 71. Train loss: 0.915161 Accuracy: 0.800000\n",
            "Epoch 2: batch 20 of 71. \u001b[94mValidation\u001b[0m loss: 0.883948 Accuracy: 0.620000\n",
            "Epoch 2: batch 21 of 71. Train loss: 1.026951 Accuracy: 0.840000\n",
            "Epoch 2: batch 22 of 71. Train loss: 1.422561 Accuracy: 0.640000\n",
            "Epoch 2: batch 23 of 71. Train loss: 1.208828 Accuracy: 0.660000\n",
            "Epoch 2: batch 24 of 71. Train loss: 1.070318 Accuracy: 0.760000\n",
            "Epoch 2: batch 25 of 71. Train loss: 0.942776 Accuracy: 0.760000\n",
            "Epoch 2: batch 26 of 71. Train loss: 1.033847 Accuracy: 0.700000\n",
            "Epoch 2: batch 27 of 71. Train loss: 1.061046 Accuracy: 0.780000\n",
            "Epoch 2: batch 28 of 71. Train loss: 0.832197 Accuracy: 0.820000\n",
            "Epoch 2: batch 29 of 71. Train loss: 1.104724 Accuracy: 0.720000\n",
            "Epoch 2: batch 30 of 71. Train loss: 1.141142 Accuracy: 0.640000\n",
            "Epoch 2: batch 30 of 71. \u001b[94mValidation\u001b[0m loss: 1.209857 Accuracy: 0.520000\n",
            "Epoch 2: batch 31 of 71. Train loss: 0.996128 Accuracy: 0.720000\n",
            "Epoch 2: batch 32 of 71. Train loss: 1.346255 Accuracy: 0.720000\n",
            "Epoch 2: batch 33 of 71. Train loss: 0.803001 Accuracy: 0.880000\n",
            "Epoch 2: batch 34 of 71. Train loss: 1.319056 Accuracy: 0.680000\n",
            "Epoch 2: batch 35 of 71. Train loss: 1.155666 Accuracy: 0.680000\n",
            "Epoch 2: batch 36 of 71. Train loss: 0.924151 Accuracy: 0.760000\n",
            "Epoch 2: batch 37 of 71. Train loss: 1.079047 Accuracy: 0.740000\n",
            "Epoch 2: batch 38 of 71. Train loss: 0.813670 Accuracy: 0.800000\n",
            "Epoch 2: batch 39 of 71. Train loss: 1.051823 Accuracy: 0.680000\n",
            "Epoch 2: batch 40 of 71. Train loss: 1.089164 Accuracy: 0.720000\n",
            "Epoch 2: batch 40 of 71. \u001b[94mValidation\u001b[0m loss: 1.364335 Accuracy: 0.380000\n",
            "Epoch 2: batch 41 of 71. Train loss: 0.832649 Accuracy: 0.760000\n",
            "Epoch 2: batch 42 of 71. Train loss: 0.903156 Accuracy: 0.720000\n",
            "Epoch 2: batch 43 of 71. Train loss: 0.872289 Accuracy: 0.780000\n",
            "Epoch 2: batch 44 of 71. Train loss: 0.911197 Accuracy: 0.800000\n",
            "Epoch 2: batch 45 of 71. Train loss: 0.950051 Accuracy: 0.820000\n",
            "Epoch 2: batch 46 of 71. Train loss: 1.874402 Accuracy: 0.540000\n",
            "Epoch 2: batch 47 of 71. Train loss: 1.146392 Accuracy: 0.640000\n",
            "Epoch 2: batch 48 of 71. Train loss: 1.073578 Accuracy: 0.840000\n",
            "Epoch 2: batch 49 of 71. Train loss: 1.155289 Accuracy: 0.800000\n",
            "Epoch 2: batch 50 of 71. Train loss: 1.035470 Accuracy: 0.760000\n",
            "Epoch 2: batch 50 of 71. \u001b[94mValidation\u001b[0m loss: 1.237963 Accuracy: 0.620000\n",
            "Epoch 2: batch 51 of 71. Train loss: 0.869469 Accuracy: 0.820000\n",
            "Epoch 2: batch 52 of 71. Train loss: 1.091387 Accuracy: 0.760000\n",
            "Epoch 2: batch 53 of 71. Train loss: 0.834877 Accuracy: 0.760000\n",
            "Epoch 2: batch 54 of 71. Train loss: 1.060766 Accuracy: 0.720000\n",
            "Epoch 2: batch 55 of 71. Train loss: 0.878358 Accuracy: 0.820000\n",
            "Epoch 2: batch 56 of 71. Train loss: 0.910712 Accuracy: 0.700000\n",
            "Epoch 2: batch 57 of 71. Train loss: 0.653734 Accuracy: 0.900000\n",
            "Epoch 2: batch 58 of 71. Train loss: 0.778278 Accuracy: 0.700000\n",
            "Epoch 2: batch 59 of 71. Train loss: 0.888710 Accuracy: 0.760000\n",
            "Epoch 2: batch 60 of 71. Train loss: 0.777969 Accuracy: 0.780000\n",
            "Epoch 2: batch 60 of 71. \u001b[94mValidation\u001b[0m loss: 0.749328 Accuracy: 0.700000\n",
            "Epoch 2: batch 61 of 71. Train loss: 0.915022 Accuracy: 0.780000\n",
            "Epoch 2: batch 62 of 71. Train loss: 0.762416 Accuracy: 0.820000\n",
            "Epoch 2: batch 63 of 71. Train loss: 0.879936 Accuracy: 0.780000\n",
            "Epoch 2: batch 64 of 71. Train loss: 0.883530 Accuracy: 0.720000\n",
            "Epoch 2: batch 65 of 71. Train loss: 0.742629 Accuracy: 0.780000\n",
            "Epoch 2: batch 66 of 71. Train loss: 0.736167 Accuracy: 0.820000\n",
            "Epoch 2: batch 67 of 71. Train loss: 1.111591 Accuracy: 0.700000\n",
            "Epoch 2: batch 68 of 71. Train loss: 0.861541 Accuracy: 0.840000\n",
            "Epoch 2: batch 69 of 71. Train loss: 0.895869 Accuracy: 0.660000\n",
            "Epoch 2: batch 70 of 71. Train loss: 0.701811 Accuracy: 0.840000\n",
            "Epoch 2: batch 70 of 71. \u001b[94mValidation\u001b[0m loss: 0.733640 Accuracy: 0.700000\n",
            "Epoch 2: batch 71 of 71. Train loss: 0.873343 Accuracy: 0.560000\n",
            "Epoch 3: batch 0 of 71. Train loss: 0.753533 Accuracy: 0.800000\n",
            "Epoch 3: batch 0 of 71. \u001b[94mValidation\u001b[0m loss: 0.893788 Accuracy: 0.680000\n",
            "Epoch 3: batch 1 of 71. Train loss: 0.786404 Accuracy: 0.820000\n",
            "Epoch 3: batch 2 of 71. Train loss: 1.056854 Accuracy: 0.760000\n",
            "Epoch 3: batch 3 of 71. Train loss: 0.971422 Accuracy: 0.720000\n",
            "Epoch 3: batch 4 of 71. Train loss: 0.806875 Accuracy: 0.780000\n",
            "Epoch 3: batch 5 of 71. Train loss: 0.755853 Accuracy: 0.820000\n",
            "Epoch 3: batch 6 of 71. Train loss: 0.774772 Accuracy: 0.760000\n",
            "Epoch 3: batch 7 of 71. Train loss: 0.608395 Accuracy: 0.860000\n",
            "Epoch 3: batch 8 of 71. Train loss: 0.781239 Accuracy: 0.880000\n",
            "Epoch 3: batch 9 of 71. Train loss: 1.031701 Accuracy: 0.720000\n",
            "Epoch 3: batch 10 of 71. Train loss: 0.933177 Accuracy: 0.740000\n",
            "Epoch 3: batch 10 of 71. \u001b[94mValidation\u001b[0m loss: 1.082795 Accuracy: 0.620000\n",
            "Epoch 3: batch 11 of 71. Train loss: 0.838367 Accuracy: 0.780000\n",
            "Epoch 3: batch 12 of 71. Train loss: 0.669548 Accuracy: 0.820000\n",
            "Epoch 3: batch 13 of 71. Train loss: 0.717159 Accuracy: 0.860000\n",
            "Epoch 3: batch 14 of 71. Train loss: 0.978894 Accuracy: 0.700000\n",
            "Epoch 3: batch 15 of 71. Train loss: 0.782026 Accuracy: 0.800000\n",
            "Epoch 3: batch 16 of 71. Train loss: 1.096429 Accuracy: 0.740000\n",
            "Epoch 3: batch 17 of 71. Train loss: 0.909073 Accuracy: 0.820000\n",
            "Epoch 3: batch 18 of 71. Train loss: 1.243749 Accuracy: 0.720000\n",
            "Epoch 3: batch 19 of 71. Train loss: 1.365965 Accuracy: 0.620000\n",
            "Epoch 3: batch 20 of 71. Train loss: 0.971201 Accuracy: 0.740000\n",
            "Epoch 3: batch 20 of 71. \u001b[94mValidation\u001b[0m loss: 1.134305 Accuracy: 0.620000\n",
            "Epoch 3: batch 21 of 71. Train loss: 1.052719 Accuracy: 0.720000\n",
            "Epoch 3: batch 22 of 71. Train loss: 1.229393 Accuracy: 0.720000\n",
            "Epoch 3: batch 23 of 71. Train loss: 0.888736 Accuracy: 0.820000\n",
            "Epoch 3: batch 24 of 71. Train loss: 0.766670 Accuracy: 0.900000\n",
            "Epoch 3: batch 25 of 71. Train loss: 1.066521 Accuracy: 0.720000\n",
            "Epoch 3: batch 26 of 71. Train loss: 0.741874 Accuracy: 0.820000\n",
            "Epoch 3: batch 27 of 71. Train loss: 0.631113 Accuracy: 0.820000\n",
            "Epoch 3: batch 28 of 71. Train loss: 0.603905 Accuracy: 0.860000\n",
            "Epoch 3: batch 29 of 71. Train loss: 0.629473 Accuracy: 0.780000\n",
            "Epoch 3: batch 30 of 71. Train loss: 0.754608 Accuracy: 0.760000\n",
            "Epoch 3: batch 30 of 71. \u001b[94mValidation\u001b[0m loss: 0.750728 Accuracy: 0.760000\n",
            "Epoch 3: batch 31 of 71. Train loss: 0.736983 Accuracy: 0.760000\n",
            "Epoch 3: batch 32 of 71. Train loss: 0.632875 Accuracy: 0.820000\n",
            "Epoch 3: batch 33 of 71. Train loss: 0.561310 Accuracy: 0.800000\n",
            "Epoch 3: batch 34 of 71. Train loss: 0.602857 Accuracy: 0.880000\n",
            "Epoch 3: batch 35 of 71. Train loss: 1.181863 Accuracy: 0.740000\n",
            "Epoch 3: batch 36 of 71. Train loss: 1.126308 Accuracy: 0.720000\n",
            "Epoch 3: batch 37 of 71. Train loss: 1.050120 Accuracy: 0.700000\n",
            "Epoch 3: batch 38 of 71. Train loss: 0.962501 Accuracy: 0.780000\n",
            "Epoch 3: batch 39 of 71. Train loss: 0.869478 Accuracy: 0.840000\n",
            "Epoch 3: batch 40 of 71. Train loss: 1.127028 Accuracy: 0.640000\n",
            "Epoch 3: batch 40 of 71. \u001b[94mValidation\u001b[0m loss: 0.822379 Accuracy: 0.680000\n",
            "Epoch 3: batch 41 of 71. Train loss: 1.039001 Accuracy: 0.700000\n",
            "Epoch 3: batch 42 of 71. Train loss: 0.958833 Accuracy: 0.840000\n",
            "Epoch 3: batch 43 of 71. Train loss: 1.044762 Accuracy: 0.740000\n",
            "Epoch 3: batch 44 of 71. Train loss: 0.732824 Accuracy: 0.880000\n",
            "Epoch 3: batch 45 of 71. Train loss: 1.171262 Accuracy: 0.740000\n",
            "Epoch 3: batch 46 of 71. Train loss: 1.437366 Accuracy: 0.640000\n",
            "Epoch 3: batch 47 of 71. Train loss: 0.895278 Accuracy: 0.780000\n",
            "Epoch 3: batch 48 of 71. Train loss: 1.076009 Accuracy: 0.660000\n",
            "Epoch 3: batch 49 of 71. Train loss: 0.749358 Accuracy: 0.860000\n",
            "Epoch 3: batch 50 of 71. Train loss: 0.865928 Accuracy: 0.760000\n",
            "Epoch 3: batch 50 of 71. \u001b[94mValidation\u001b[0m loss: 0.952356 Accuracy: 0.740000\n",
            "Epoch 3: batch 51 of 71. Train loss: 0.935767 Accuracy: 0.720000\n",
            "Epoch 3: batch 52 of 71. Train loss: 1.173732 Accuracy: 0.720000\n",
            "Epoch 3: batch 53 of 71. Train loss: 0.752823 Accuracy: 0.800000\n",
            "Epoch 3: batch 54 of 71. Train loss: 1.044069 Accuracy: 0.800000\n",
            "Epoch 3: batch 55 of 71. Train loss: 1.105605 Accuracy: 0.740000\n",
            "Epoch 3: batch 56 of 71. Train loss: 1.527117 Accuracy: 0.760000\n",
            "Epoch 3: batch 57 of 71. Train loss: 1.233606 Accuracy: 0.780000\n",
            "Epoch 3: batch 58 of 71. Train loss: 1.034431 Accuracy: 0.760000\n",
            "Epoch 3: batch 59 of 71. Train loss: 1.101187 Accuracy: 0.720000\n",
            "Epoch 3: batch 60 of 71. Train loss: 1.075961 Accuracy: 0.760000\n",
            "Epoch 3: batch 60 of 71. \u001b[94mValidation\u001b[0m loss: 0.469225 Accuracy: 0.880000\n",
            "Epoch 3: batch 61 of 71. Train loss: 0.912517 Accuracy: 0.760000\n",
            "Epoch 3: batch 62 of 71. Train loss: 0.852349 Accuracy: 0.740000\n",
            "Epoch 3: batch 63 of 71. Train loss: 1.044489 Accuracy: 0.660000\n",
            "Epoch 3: batch 64 of 71. Train loss: 0.717471 Accuracy: 0.820000\n",
            "Epoch 3: batch 65 of 71. Train loss: 0.830050 Accuracy: 0.780000\n",
            "Epoch 3: batch 66 of 71. Train loss: 0.793710 Accuracy: 0.760000\n",
            "Epoch 3: batch 67 of 71. Train loss: 0.624855 Accuracy: 0.860000\n",
            "Epoch 3: batch 68 of 71. Train loss: 0.683097 Accuracy: 0.820000\n",
            "Epoch 3: batch 69 of 71. Train loss: 0.600291 Accuracy: 0.780000\n",
            "Epoch 3: batch 70 of 71. Train loss: 0.597847 Accuracy: 0.820000\n",
            "Epoch 3: batch 70 of 71. \u001b[94mValidation\u001b[0m loss: 1.732160 Accuracy: 0.640000\n",
            "Epoch 3: batch 71 of 71. Train loss: 0.942032 Accuracy: 0.600000\n",
            "\u001b[94mTesting\u001b[0m\n"
          ]
        },
        {
          "output_type": "stream",
          "name": "stderr",
          "text": [
            "0it [00:00, ?it/s]\n"
          ]
        },
        {
          "output_type": "error",
          "ename": "ValueError",
          "evalue": "ignored",
          "traceback": [
            "\u001b[0;31m---------------------------------------------------------------------------\u001b[0m",
            "\u001b[0;31mValueError\u001b[0m                                Traceback (most recent call last)",
            "\u001b[0;32m<ipython-input-55-d1d539b05989>\u001b[0m in \u001b[0;36m<module>\u001b[0;34m\u001b[0m\n\u001b[1;32m     99\u001b[0m     \u001b[0;31m###################points, target = points.cuda(), target.cuda()\u001b[0m\u001b[0;34m\u001b[0m\u001b[0;34m\u001b[0m\u001b[0;34m\u001b[0m\u001b[0m\n\u001b[1;32m    100\u001b[0m     \u001b[0mclassifier\u001b[0m \u001b[0;34m=\u001b[0m \u001b[0mclassifier\u001b[0m\u001b[0;34m.\u001b[0m\u001b[0meval\u001b[0m\u001b[0;34m(\u001b[0m\u001b[0;34m)\u001b[0m\u001b[0;34m\u001b[0m\u001b[0;34m\u001b[0m\u001b[0m\n\u001b[0;32m--> 101\u001b[0;31m     \u001b[0mpred\u001b[0m\u001b[0;34m,\u001b[0m \u001b[0m_\u001b[0m\u001b[0;34m,\u001b[0m \u001b[0m_\u001b[0m \u001b[0;34m=\u001b[0m \u001b[0mclassifier\u001b[0m\u001b[0;34m(\u001b[0m\u001b[0mpoints\u001b[0m\u001b[0;34m)\u001b[0m\u001b[0;34m\u001b[0m\u001b[0;34m\u001b[0m\u001b[0m\n\u001b[0m\u001b[1;32m    102\u001b[0m     \u001b[0mpred_choice\u001b[0m \u001b[0;34m=\u001b[0m \u001b[0mpred\u001b[0m\u001b[0;34m.\u001b[0m\u001b[0mdata\u001b[0m\u001b[0;34m.\u001b[0m\u001b[0mmax\u001b[0m\u001b[0;34m(\u001b[0m\u001b[0;36m1\u001b[0m\u001b[0;34m)\u001b[0m\u001b[0;34m[\u001b[0m\u001b[0;36m1\u001b[0m\u001b[0;34m]\u001b[0m\u001b[0;34m\u001b[0m\u001b[0;34m\u001b[0m\u001b[0m\n\u001b[1;32m    103\u001b[0m     \u001b[0mcorrect\u001b[0m \u001b[0;34m=\u001b[0m \u001b[0mpred_choice\u001b[0m\u001b[0;34m.\u001b[0m\u001b[0meq\u001b[0m\u001b[0;34m(\u001b[0m\u001b[0mtarget\u001b[0m\u001b[0;34m.\u001b[0m\u001b[0mdata\u001b[0m\u001b[0;34m)\u001b[0m\u001b[0;34m.\u001b[0m\u001b[0mcpu\u001b[0m\u001b[0;34m(\u001b[0m\u001b[0;34m)\u001b[0m\u001b[0;34m.\u001b[0m\u001b[0msum\u001b[0m\u001b[0;34m(\u001b[0m\u001b[0;34m)\u001b[0m\u001b[0;34m\u001b[0m\u001b[0;34m\u001b[0m\u001b[0m\n",
            "\u001b[0;32m/usr/local/lib/python3.8/dist-packages/torch/nn/modules/module.py\u001b[0m in \u001b[0;36m_call_impl\u001b[0;34m(self, *input, **kwargs)\u001b[0m\n\u001b[1;32m   1188\u001b[0m         if not (self._backward_hooks or self._forward_hooks or self._forward_pre_hooks or _global_backward_hooks\n\u001b[1;32m   1189\u001b[0m                 or _global_forward_hooks or _global_forward_pre_hooks):\n\u001b[0;32m-> 1190\u001b[0;31m             \u001b[0;32mreturn\u001b[0m \u001b[0mforward_call\u001b[0m\u001b[0;34m(\u001b[0m\u001b[0;34m*\u001b[0m\u001b[0minput\u001b[0m\u001b[0;34m,\u001b[0m \u001b[0;34m**\u001b[0m\u001b[0mkwargs\u001b[0m\u001b[0;34m)\u001b[0m\u001b[0;34m\u001b[0m\u001b[0;34m\u001b[0m\u001b[0m\n\u001b[0m\u001b[1;32m   1191\u001b[0m         \u001b[0;31m# Do not call functions when jit is used\u001b[0m\u001b[0;34m\u001b[0m\u001b[0;34m\u001b[0m\u001b[0;34m\u001b[0m\u001b[0m\n\u001b[1;32m   1192\u001b[0m         \u001b[0mfull_backward_hooks\u001b[0m\u001b[0;34m,\u001b[0m \u001b[0mnon_full_backward_hooks\u001b[0m \u001b[0;34m=\u001b[0m \u001b[0;34m[\u001b[0m\u001b[0;34m]\u001b[0m\u001b[0;34m,\u001b[0m \u001b[0;34m[\u001b[0m\u001b[0;34m]\u001b[0m\u001b[0;34m\u001b[0m\u001b[0;34m\u001b[0m\u001b[0m\n",
            "\u001b[0;32m<ipython-input-40-8aeccebe1236>\u001b[0m in \u001b[0;36mforward\u001b[0;34m(self, x)\u001b[0m\n\u001b[1;32m     13\u001b[0m \u001b[0;34m\u001b[0m\u001b[0m\n\u001b[1;32m     14\u001b[0m     \u001b[0;32mdef\u001b[0m \u001b[0mforward\u001b[0m\u001b[0;34m(\u001b[0m\u001b[0mself\u001b[0m\u001b[0;34m,\u001b[0m \u001b[0mx\u001b[0m\u001b[0;34m)\u001b[0m\u001b[0;34m:\u001b[0m\u001b[0;34m\u001b[0m\u001b[0;34m\u001b[0m\u001b[0m\n\u001b[0;32m---> 15\u001b[0;31m         \u001b[0mx\u001b[0m\u001b[0;34m,\u001b[0m \u001b[0mtrans\u001b[0m\u001b[0;34m,\u001b[0m \u001b[0mtrans_feat\u001b[0m \u001b[0;34m=\u001b[0m \u001b[0mself\u001b[0m\u001b[0;34m.\u001b[0m\u001b[0mfeat\u001b[0m\u001b[0;34m(\u001b[0m\u001b[0mx\u001b[0m\u001b[0;34m)\u001b[0m\u001b[0;34m\u001b[0m\u001b[0;34m\u001b[0m\u001b[0m\n\u001b[0m\u001b[1;32m     16\u001b[0m         \u001b[0mx\u001b[0m \u001b[0;34m=\u001b[0m \u001b[0mF\u001b[0m\u001b[0;34m.\u001b[0m\u001b[0mrelu\u001b[0m\u001b[0;34m(\u001b[0m\u001b[0mself\u001b[0m\u001b[0;34m.\u001b[0m\u001b[0mbn1\u001b[0m\u001b[0;34m(\u001b[0m\u001b[0mself\u001b[0m\u001b[0;34m.\u001b[0m\u001b[0mfc1\u001b[0m\u001b[0;34m(\u001b[0m\u001b[0mx\u001b[0m\u001b[0;34m)\u001b[0m\u001b[0;34m)\u001b[0m\u001b[0;34m)\u001b[0m\u001b[0;34m\u001b[0m\u001b[0;34m\u001b[0m\u001b[0m\n\u001b[1;32m     17\u001b[0m         \u001b[0mx\u001b[0m \u001b[0;34m=\u001b[0m \u001b[0mF\u001b[0m\u001b[0;34m.\u001b[0m\u001b[0mrelu\u001b[0m\u001b[0;34m(\u001b[0m\u001b[0mself\u001b[0m\u001b[0;34m.\u001b[0m\u001b[0mbn2\u001b[0m\u001b[0;34m(\u001b[0m\u001b[0mself\u001b[0m\u001b[0;34m.\u001b[0m\u001b[0mdropout\u001b[0m\u001b[0;34m(\u001b[0m\u001b[0mself\u001b[0m\u001b[0;34m.\u001b[0m\u001b[0mfc2\u001b[0m\u001b[0;34m(\u001b[0m\u001b[0mx\u001b[0m\u001b[0;34m)\u001b[0m\u001b[0;34m)\u001b[0m\u001b[0;34m)\u001b[0m\u001b[0;34m)\u001b[0m\u001b[0;34m\u001b[0m\u001b[0;34m\u001b[0m\u001b[0m\n",
            "\u001b[0;32m/usr/local/lib/python3.8/dist-packages/torch/nn/modules/module.py\u001b[0m in \u001b[0;36m_call_impl\u001b[0;34m(self, *input, **kwargs)\u001b[0m\n\u001b[1;32m   1188\u001b[0m         if not (self._backward_hooks or self._forward_hooks or self._forward_pre_hooks or _global_backward_hooks\n\u001b[1;32m   1189\u001b[0m                 or _global_forward_hooks or _global_forward_pre_hooks):\n\u001b[0;32m-> 1190\u001b[0;31m             \u001b[0;32mreturn\u001b[0m \u001b[0mforward_call\u001b[0m\u001b[0;34m(\u001b[0m\u001b[0;34m*\u001b[0m\u001b[0minput\u001b[0m\u001b[0;34m,\u001b[0m \u001b[0;34m**\u001b[0m\u001b[0mkwargs\u001b[0m\u001b[0;34m)\u001b[0m\u001b[0;34m\u001b[0m\u001b[0;34m\u001b[0m\u001b[0m\n\u001b[0m\u001b[1;32m   1191\u001b[0m         \u001b[0;31m# Do not call functions when jit is used\u001b[0m\u001b[0;34m\u001b[0m\u001b[0;34m\u001b[0m\u001b[0;34m\u001b[0m\u001b[0m\n\u001b[1;32m   1192\u001b[0m         \u001b[0mfull_backward_hooks\u001b[0m\u001b[0;34m,\u001b[0m \u001b[0mnon_full_backward_hooks\u001b[0m \u001b[0;34m=\u001b[0m \u001b[0;34m[\u001b[0m\u001b[0;34m]\u001b[0m\u001b[0;34m,\u001b[0m \u001b[0;34m[\u001b[0m\u001b[0;34m]\u001b[0m\u001b[0;34m\u001b[0m\u001b[0;34m\u001b[0m\u001b[0m\n",
            "\u001b[0;32m<ipython-input-39-ceeec47c4a76>\u001b[0m in \u001b[0;36mforward\u001b[0;34m(self, x)\u001b[0m\n\u001b[1;32m     16\u001b[0m     \u001b[0;32mdef\u001b[0m \u001b[0mforward\u001b[0m\u001b[0;34m(\u001b[0m\u001b[0mself\u001b[0m\u001b[0;34m,\u001b[0m \u001b[0mx\u001b[0m\u001b[0;34m)\u001b[0m\u001b[0;34m:\u001b[0m\u001b[0;34m\u001b[0m\u001b[0;34m\u001b[0m\u001b[0m\n\u001b[1;32m     17\u001b[0m         \u001b[0mn_pts\u001b[0m \u001b[0;34m=\u001b[0m \u001b[0mx\u001b[0m\u001b[0;34m.\u001b[0m\u001b[0mshape\u001b[0m\u001b[0;34m[\u001b[0m\u001b[0;36m2\u001b[0m\u001b[0;34m]\u001b[0m\u001b[0;34m\u001b[0m\u001b[0;34m\u001b[0m\u001b[0m\n\u001b[0;32m---> 18\u001b[0;31m         \u001b[0mtrans\u001b[0m \u001b[0;34m=\u001b[0m \u001b[0mself\u001b[0m\u001b[0;34m.\u001b[0m\u001b[0mstn\u001b[0m\u001b[0;34m(\u001b[0m\u001b[0mx\u001b[0m\u001b[0;34m)\u001b[0m\u001b[0;34m\u001b[0m\u001b[0;34m\u001b[0m\u001b[0m\n\u001b[0m\u001b[1;32m     19\u001b[0m         \u001b[0;31m#ipdb.set_trace(context=5)\u001b[0m\u001b[0;34m\u001b[0m\u001b[0;34m\u001b[0m\u001b[0;34m\u001b[0m\u001b[0m\n\u001b[1;32m     20\u001b[0m         \u001b[0mx\u001b[0m \u001b[0;34m=\u001b[0m \u001b[0mx\u001b[0m\u001b[0;34m.\u001b[0m\u001b[0mtranspose\u001b[0m\u001b[0;34m(\u001b[0m\u001b[0;36m2\u001b[0m\u001b[0;34m,\u001b[0m \u001b[0;36m1\u001b[0m\u001b[0;34m)\u001b[0m\u001b[0;34m\u001b[0m\u001b[0;34m\u001b[0m\u001b[0m\n",
            "\u001b[0;32m/usr/local/lib/python3.8/dist-packages/torch/nn/modules/module.py\u001b[0m in \u001b[0;36m_call_impl\u001b[0;34m(self, *input, **kwargs)\u001b[0m\n\u001b[1;32m   1188\u001b[0m         if not (self._backward_hooks or self._forward_hooks or self._forward_pre_hooks or _global_backward_hooks\n\u001b[1;32m   1189\u001b[0m                 or _global_forward_hooks or _global_forward_pre_hooks):\n\u001b[0;32m-> 1190\u001b[0;31m             \u001b[0;32mreturn\u001b[0m \u001b[0mforward_call\u001b[0m\u001b[0;34m(\u001b[0m\u001b[0;34m*\u001b[0m\u001b[0minput\u001b[0m\u001b[0;34m,\u001b[0m \u001b[0;34m**\u001b[0m\u001b[0mkwargs\u001b[0m\u001b[0;34m)\u001b[0m\u001b[0;34m\u001b[0m\u001b[0;34m\u001b[0m\u001b[0m\n\u001b[0m\u001b[1;32m   1191\u001b[0m         \u001b[0;31m# Do not call functions when jit is used\u001b[0m\u001b[0;34m\u001b[0m\u001b[0;34m\u001b[0m\u001b[0;34m\u001b[0m\u001b[0m\n\u001b[1;32m   1192\u001b[0m         \u001b[0mfull_backward_hooks\u001b[0m\u001b[0;34m,\u001b[0m \u001b[0mnon_full_backward_hooks\u001b[0m \u001b[0;34m=\u001b[0m \u001b[0;34m[\u001b[0m\u001b[0;34m]\u001b[0m\u001b[0;34m,\u001b[0m \u001b[0;34m[\u001b[0m\u001b[0;34m]\u001b[0m\u001b[0;34m\u001b[0m\u001b[0;34m\u001b[0m\u001b[0m\n",
            "\u001b[0;32m<ipython-input-38-f81f4b7f4e75>\u001b[0m in \u001b[0;36mforward\u001b[0;34m(self, x)\u001b[0m\n\u001b[1;32m     23\u001b[0m         \u001b[0mx\u001b[0m \u001b[0;34m=\u001b[0m \u001b[0mtorch\u001b[0m\u001b[0;34m.\u001b[0m\u001b[0mmax\u001b[0m\u001b[0;34m(\u001b[0m\u001b[0mx\u001b[0m\u001b[0;34m,\u001b[0m \u001b[0;36m2\u001b[0m\u001b[0;34m,\u001b[0m \u001b[0mkeepdim\u001b[0m\u001b[0;34m=\u001b[0m\u001b[0;32mTrue\u001b[0m\u001b[0;34m)\u001b[0m\u001b[0;34m[\u001b[0m\u001b[0;36m0\u001b[0m\u001b[0;34m]\u001b[0m\u001b[0;34m\u001b[0m\u001b[0;34m\u001b[0m\u001b[0m\n\u001b[1;32m     24\u001b[0m         \u001b[0mx\u001b[0m \u001b[0;34m=\u001b[0m \u001b[0mx\u001b[0m\u001b[0;34m.\u001b[0m\u001b[0mview\u001b[0m\u001b[0;34m(\u001b[0m\u001b[0;34m-\u001b[0m\u001b[0;36m1\u001b[0m\u001b[0;34m,\u001b[0m \u001b[0;36m1024\u001b[0m\u001b[0;34m)\u001b[0m\u001b[0;34m\u001b[0m\u001b[0;34m\u001b[0m\u001b[0m\n\u001b[0;32m---> 25\u001b[0;31m         \u001b[0mx\u001b[0m \u001b[0;34m=\u001b[0m \u001b[0mF\u001b[0m\u001b[0;34m.\u001b[0m\u001b[0mrelu\u001b[0m\u001b[0;34m(\u001b[0m\u001b[0mself\u001b[0m\u001b[0;34m.\u001b[0m\u001b[0mbns\u001b[0m\u001b[0;34m[\u001b[0m\u001b[0;36m3\u001b[0m\u001b[0;34m]\u001b[0m\u001b[0;34m(\u001b[0m\u001b[0mself\u001b[0m\u001b[0;34m.\u001b[0m\u001b[0mfc1\u001b[0m\u001b[0;34m(\u001b[0m\u001b[0mx\u001b[0m\u001b[0;34m)\u001b[0m\u001b[0;34m)\u001b[0m\u001b[0;34m)\u001b[0m\u001b[0;34m\u001b[0m\u001b[0;34m\u001b[0m\u001b[0m\n\u001b[0m\u001b[1;32m     26\u001b[0m         \u001b[0mx\u001b[0m \u001b[0;34m=\u001b[0m \u001b[0mF\u001b[0m\u001b[0;34m.\u001b[0m\u001b[0mrelu\u001b[0m\u001b[0;34m(\u001b[0m\u001b[0mself\u001b[0m\u001b[0;34m.\u001b[0m\u001b[0mbns\u001b[0m\u001b[0;34m[\u001b[0m\u001b[0;36m2\u001b[0m\u001b[0;34m]\u001b[0m\u001b[0;34m(\u001b[0m\u001b[0mself\u001b[0m\u001b[0;34m.\u001b[0m\u001b[0mfc2\u001b[0m\u001b[0;34m(\u001b[0m\u001b[0mx\u001b[0m\u001b[0;34m)\u001b[0m\u001b[0;34m)\u001b[0m\u001b[0;34m)\u001b[0m\u001b[0;34m\u001b[0m\u001b[0;34m\u001b[0m\u001b[0m\n\u001b[1;32m     27\u001b[0m         \u001b[0mx\u001b[0m \u001b[0;34m=\u001b[0m \u001b[0mself\u001b[0m\u001b[0;34m.\u001b[0m\u001b[0mfc3\u001b[0m\u001b[0;34m(\u001b[0m\u001b[0mx\u001b[0m\u001b[0;34m)\u001b[0m\u001b[0;34m\u001b[0m\u001b[0;34m\u001b[0m\u001b[0m\n",
            "\u001b[0;32m/usr/local/lib/python3.8/dist-packages/torch/nn/modules/module.py\u001b[0m in \u001b[0;36m_call_impl\u001b[0;34m(self, *input, **kwargs)\u001b[0m\n\u001b[1;32m   1188\u001b[0m         if not (self._backward_hooks or self._forward_hooks or self._forward_pre_hooks or _global_backward_hooks\n\u001b[1;32m   1189\u001b[0m                 or _global_forward_hooks or _global_forward_pre_hooks):\n\u001b[0;32m-> 1190\u001b[0;31m             \u001b[0;32mreturn\u001b[0m \u001b[0mforward_call\u001b[0m\u001b[0;34m(\u001b[0m\u001b[0;34m*\u001b[0m\u001b[0minput\u001b[0m\u001b[0;34m,\u001b[0m \u001b[0;34m**\u001b[0m\u001b[0mkwargs\u001b[0m\u001b[0;34m)\u001b[0m\u001b[0;34m\u001b[0m\u001b[0;34m\u001b[0m\u001b[0m\n\u001b[0m\u001b[1;32m   1191\u001b[0m         \u001b[0;31m# Do not call functions when jit is used\u001b[0m\u001b[0;34m\u001b[0m\u001b[0;34m\u001b[0m\u001b[0;34m\u001b[0m\u001b[0m\n\u001b[1;32m   1192\u001b[0m         \u001b[0mfull_backward_hooks\u001b[0m\u001b[0;34m,\u001b[0m \u001b[0mnon_full_backward_hooks\u001b[0m \u001b[0;34m=\u001b[0m \u001b[0;34m[\u001b[0m\u001b[0;34m]\u001b[0m\u001b[0;34m,\u001b[0m \u001b[0;34m[\u001b[0m\u001b[0;34m]\u001b[0m\u001b[0;34m\u001b[0m\u001b[0;34m\u001b[0m\u001b[0m\n",
            "\u001b[0;32m/usr/local/lib/python3.8/dist-packages/torch/nn/modules/batchnorm.py\u001b[0m in \u001b[0;36mforward\u001b[0;34m(self, input)\u001b[0m\n\u001b[1;32m    169\u001b[0m         \u001b[0mused\u001b[0m \u001b[0;32mfor\u001b[0m \u001b[0mnormalization\u001b[0m \u001b[0;34m(\u001b[0m\u001b[0mi\u001b[0m\u001b[0;34m.\u001b[0m\u001b[0me\u001b[0m\u001b[0;34m.\u001b[0m \u001b[0;32min\u001b[0m \u001b[0meval\u001b[0m \u001b[0mmode\u001b[0m \u001b[0mwhen\u001b[0m \u001b[0mbuffers\u001b[0m \u001b[0mare\u001b[0m \u001b[0;32mnot\u001b[0m \u001b[0;32mNone\u001b[0m\u001b[0;34m)\u001b[0m\u001b[0;34m.\u001b[0m\u001b[0;34m\u001b[0m\u001b[0;34m\u001b[0m\u001b[0m\n\u001b[1;32m    170\u001b[0m         \"\"\"\n\u001b[0;32m--> 171\u001b[0;31m         return F.batch_norm(\n\u001b[0m\u001b[1;32m    172\u001b[0m             \u001b[0minput\u001b[0m\u001b[0;34m,\u001b[0m\u001b[0;34m\u001b[0m\u001b[0;34m\u001b[0m\u001b[0m\n\u001b[1;32m    173\u001b[0m             \u001b[0;31m# If buffers are not to be tracked, ensure that they won't be updated\u001b[0m\u001b[0;34m\u001b[0m\u001b[0;34m\u001b[0m\u001b[0;34m\u001b[0m\u001b[0m\n",
            "\u001b[0;32m/usr/local/lib/python3.8/dist-packages/torch/nn/functional.py\u001b[0m in \u001b[0;36mbatch_norm\u001b[0;34m(input, running_mean, running_var, weight, bias, training, momentum, eps)\u001b[0m\n\u001b[1;32m   2446\u001b[0m         )\n\u001b[1;32m   2447\u001b[0m     \u001b[0;32mif\u001b[0m \u001b[0mtraining\u001b[0m\u001b[0;34m:\u001b[0m\u001b[0;34m\u001b[0m\u001b[0;34m\u001b[0m\u001b[0m\n\u001b[0;32m-> 2448\u001b[0;31m         \u001b[0m_verify_batch_size\u001b[0m\u001b[0;34m(\u001b[0m\u001b[0minput\u001b[0m\u001b[0;34m.\u001b[0m\u001b[0msize\u001b[0m\u001b[0;34m(\u001b[0m\u001b[0;34m)\u001b[0m\u001b[0;34m)\u001b[0m\u001b[0;34m\u001b[0m\u001b[0;34m\u001b[0m\u001b[0m\n\u001b[0m\u001b[1;32m   2449\u001b[0m \u001b[0;34m\u001b[0m\u001b[0m\n\u001b[1;32m   2450\u001b[0m     return torch.batch_norm(\n",
            "\u001b[0;32m/usr/local/lib/python3.8/dist-packages/torch/nn/functional.py\u001b[0m in \u001b[0;36m_verify_batch_size\u001b[0;34m(size)\u001b[0m\n\u001b[1;32m   2414\u001b[0m         \u001b[0msize_prods\u001b[0m \u001b[0;34m*=\u001b[0m \u001b[0msize\u001b[0m\u001b[0;34m[\u001b[0m\u001b[0mi\u001b[0m \u001b[0;34m+\u001b[0m \u001b[0;36m2\u001b[0m\u001b[0;34m]\u001b[0m\u001b[0;34m\u001b[0m\u001b[0;34m\u001b[0m\u001b[0m\n\u001b[1;32m   2415\u001b[0m     \u001b[0;32mif\u001b[0m \u001b[0msize_prods\u001b[0m \u001b[0;34m==\u001b[0m \u001b[0;36m1\u001b[0m\u001b[0;34m:\u001b[0m\u001b[0;34m\u001b[0m\u001b[0;34m\u001b[0m\u001b[0m\n\u001b[0;32m-> 2416\u001b[0;31m         \u001b[0;32mraise\u001b[0m \u001b[0mValueError\u001b[0m\u001b[0;34m(\u001b[0m\u001b[0;34m\"Expected more than 1 value per channel when training, got input size {}\"\u001b[0m\u001b[0;34m.\u001b[0m\u001b[0mformat\u001b[0m\u001b[0;34m(\u001b[0m\u001b[0msize\u001b[0m\u001b[0;34m)\u001b[0m\u001b[0;34m)\u001b[0m\u001b[0;34m\u001b[0m\u001b[0;34m\u001b[0m\u001b[0m\n\u001b[0m\u001b[1;32m   2417\u001b[0m \u001b[0;34m\u001b[0m\u001b[0m\n\u001b[1;32m   2418\u001b[0m \u001b[0;34m\u001b[0m\u001b[0m\n",
            "\u001b[0;31mValueError\u001b[0m: Expected more than 1 value per channel when training, got input size torch.Size([1, 512])"
          ]
        }
      ],
      "source": [
        "conf = OmegaConf.load('classification.yaml')\n",
        "options = instantiate(conf)\n",
        "\n",
        "blue = lambda x: '\\033[94m' + x + '\\033[0m'\n",
        "\n",
        "options.manualSeed = random.randint(1, 10000)  # fix seed\n",
        "print(\"Random Seed: \", options.manualSeed)\n",
        "random.seed(options.manualSeed)\n",
        "torch.manual_seed(options.manualSeed)\n",
        "\n",
        "dataset = ModelNetLoader(root=options.dataset, batch_size=options.batch_size, split='train', numpoints=options.num_points)\n",
        "testdataset = ModelNetLoader(root=options.dataset, batch_size=options.batch_size, split='test', numpoints=options.num_points)\n",
        "\n",
        "traindataset_size = int(len(dataset) * 0.9)\n",
        "traindataset, valdataset = random_split(dataset, [traindataset_size, len(dataset) - traindataset_size])\n",
        "       \n",
        "print(\"Rozmiar zbioru treningowego: \" + str(len(traindataset)))\n",
        "print(\"Rozmiar zbioru walidacyjnego: \" + str(len(valdataset)))\n",
        "print(\"Rozmiar zbioru testowego: \" + str(len(testdataset)))\n",
        "print(\"Rozmiar batcha: \" + str(dataset.batch_size))\n",
        "print('Liczba klas: ' + str(dataset.num_classes))\n",
        "\n",
        "traindataloader = DataLoader(traindataset, batch_size=options.batch_size, num_workers=int(options.num_workers), shuffle=True)\n",
        "valdataloader = DataLoader(valdataset, batch_size=options.batch_size, num_workers=int(options.num_workers), shuffle=True)\n",
        "testdataloader = DataLoader(testdataset, batch_size=1, num_workers=int(options.num_workers), shuffle=False)\n",
        "\n",
        "try:\n",
        "    os.makedirs(options.out_folder)\n",
        "except OSError:\n",
        "    pass\n",
        "\n",
        "classifier = PointNetCls(k=dataset.num_classes, feature_transform=options.feature_transform)\n",
        "\n",
        "if options.model != '':\n",
        "    classifier.load_state_dict(torch.load(options.model))\n",
        "\n",
        "optimizer = optim.Adam(classifier.parameters(), lr=0.01, betas=(0.9, 0.999))\n",
        "scheduler = optim.lr_scheduler.StepLR(optimizer, step_size=20, gamma=0.5)\n",
        "################classifier.cuda()\n",
        "\n",
        "num_batch = len(traindataset) / options.batch_size\n",
        "\n",
        "'''\n",
        "single_batch_overfit = torch.empty((options.batch_size, options.num_points, 3))\n",
        "single_batch_overfit_cls = torch.empty((options.batch_size))\n",
        "\n",
        "for n in range(options.batch_size):\n",
        "  item = dataset[100*n]\n",
        "  single_batch_overfit[n, :, :] = item[0]\n",
        "  single_batch_overfit_cls[n] = item[1]\n",
        "single_batch_overfit_cls = single_batch_overfit_cls.type(torch.int64)\n",
        "'''\n",
        "\n",
        "for epoch in range(options.num_epochs):\n",
        "    scheduler.step()\n",
        "    for i, data_ in enumerate(traindataloader, 0): #fir element in enumerate\n",
        "        points, target = data_\n",
        "        #points, target = single_batch_overfit, single_batch_overfit_cls\n",
        "        #ipdb.set_trace(context=5)\n",
        "        #target = target[:, 0]\n",
        "        points = points.transpose(2, 1)\n",
        "        ####################points, target = points.cuda(), target.cuda()\n",
        "        optimizer.zero_grad()\n",
        "        classifier = classifier.train()\n",
        "        pred, trans, trans_feat = classifier(points)\n",
        "        loss = F.nll_loss(pred, target)\n",
        "        if options.feature_transform:\n",
        "            loss += feature_transform_regularizer(trans_feat) * 0.001\n",
        "        loss.backward()\n",
        "        optimizer.step()\n",
        "        pred_choice = pred.data.max(1)[1]\n",
        "        correct = pred_choice.eq(target.data).cpu().sum()\n",
        "        print('Epoch %d: batch %d of %d. Train loss: %f Accuracy: %f' % (epoch, i, num_batch, loss.item(), correct.item() / float(options.batch_size)))\n",
        "        \n",
        "        if i % 10 == 0:\n",
        "            j, data_ = next(enumerate(valdataloader, 0))\n",
        "            points, target = data_\n",
        "            #points, target = single_batch_overfit, single_batch_overfit_cls\n",
        "            #target = target[:, 0]\n",
        "            points = points.transpose(2, 1)\n",
        "            ###########################points, target = points.cuda(), target.cuda()\n",
        "            classifier = classifier.eval()\n",
        "            pred, _, _ = classifier(points)\n",
        "            loss = F.nll_loss(pred, target)\n",
        "            pred_choice = pred.data.max(1)[1]\n",
        "            correct = pred_choice.eq(target.data).cpu().sum()\n",
        "            print('Epoch %d: batch %d of %d. %s loss: %f Accuracy: %f' % (epoch, i, num_batch, blue('Validation'), loss.item(), correct.item()/float(options.batch_size)))\n",
        "        \n",
        "    torch.save(classifier.state_dict(), '%s/cls_model_%d.pth' % (options.out_folder, epoch))\n",
        "\n",
        "total_correct = 0\n",
        "total_testset = 0\n",
        "print(blue(\"Testing\"))\n",
        "\n",
        "for i,data_ in tqdm(enumerate(testdataloader, 0)):\n",
        "    points, target = data_\n",
        "    #target = target[:, 0]\n",
        "    points = points.transpose(2, 1)\n",
        "    ###################points, target = points.cuda(), target.cuda()\n",
        "    classifier = classifier.eval()\n",
        "    pred, _, _ = classifier(points)\n",
        "    pred_choice = pred.data.max(1)[1]\n",
        "    correct = pred_choice.eq(target.data).cpu().sum()\n",
        "    total_correct += correct.item()\n",
        "    total_testset += points.size()[0]\n",
        "\n",
        "print(\"\\nFinal accuracy: {}\".format(total_correct / float(total_testset)))"
      ]
    },
    {
      "cell_type": "code",
      "source": [
        "for i,data_ in tqdm(enumerate(testdataloader, 0)):\n",
        "    points, target = data_\n",
        "    #target = target[:, 0]\n",
        "    #points = points.transpose(2, 1)\n",
        "    ###################points, target = points.cuda(), target.cuda()\n",
        "    classifier = classifier.eval()\n",
        "    pred, _, _ = classifier(points)\n",
        "    pred_choice = pred.data.max(1)[1]\n",
        "    correct = pred_choice.eq(target.data).cpu().sum()\n",
        "    total_correct += correct.item()\n",
        "    total_testset += points.size()[0]\n",
        "\n",
        "print(\"\\nFinal accuracy: {}\".format(total_correct / float(total_testset)))"
      ],
      "metadata": {
        "colab": {
          "base_uri": "https://localhost:8080/",
          "height": 400
        },
        "id": "G95eOzzqBEKT",
        "outputId": "e3581713-ec68-4c6e-f6d0-21ddbda01475"
      },
      "execution_count": null,
      "outputs": [
        {
          "output_type": "stream",
          "name": "stderr",
          "text": [
            "0it [00:00, ?it/s]\n"
          ]
        },
        {
          "output_type": "error",
          "ename": "RuntimeError",
          "evalue": "ignored",
          "traceback": [
            "\u001b[0;31m---------------------------------------------------------------------------\u001b[0m",
            "\u001b[0;31mRuntimeError\u001b[0m                              Traceback (most recent call last)",
            "\u001b[0;32m<ipython-input-56-c0d8f37a13f3>\u001b[0m in \u001b[0;36m<module>\u001b[0;34m\u001b[0m\n\u001b[1;32m      5\u001b[0m     \u001b[0;31m###################points, target = points.cuda(), target.cuda()\u001b[0m\u001b[0;34m\u001b[0m\u001b[0;34m\u001b[0m\u001b[0;34m\u001b[0m\u001b[0m\n\u001b[1;32m      6\u001b[0m     \u001b[0mclassifier\u001b[0m \u001b[0;34m=\u001b[0m \u001b[0mclassifier\u001b[0m\u001b[0;34m.\u001b[0m\u001b[0meval\u001b[0m\u001b[0;34m(\u001b[0m\u001b[0;34m)\u001b[0m\u001b[0;34m\u001b[0m\u001b[0;34m\u001b[0m\u001b[0m\n\u001b[0;32m----> 7\u001b[0;31m     \u001b[0mpred\u001b[0m\u001b[0;34m,\u001b[0m \u001b[0m_\u001b[0m\u001b[0;34m,\u001b[0m \u001b[0m_\u001b[0m \u001b[0;34m=\u001b[0m \u001b[0mclassifier\u001b[0m\u001b[0;34m(\u001b[0m\u001b[0mpoints\u001b[0m\u001b[0;34m)\u001b[0m\u001b[0;34m\u001b[0m\u001b[0;34m\u001b[0m\u001b[0m\n\u001b[0m\u001b[1;32m      8\u001b[0m     \u001b[0mpred_choice\u001b[0m \u001b[0;34m=\u001b[0m \u001b[0mpred\u001b[0m\u001b[0;34m.\u001b[0m\u001b[0mdata\u001b[0m\u001b[0;34m.\u001b[0m\u001b[0mmax\u001b[0m\u001b[0;34m(\u001b[0m\u001b[0;36m1\u001b[0m\u001b[0;34m)\u001b[0m\u001b[0;34m[\u001b[0m\u001b[0;36m1\u001b[0m\u001b[0;34m]\u001b[0m\u001b[0;34m\u001b[0m\u001b[0;34m\u001b[0m\u001b[0m\n\u001b[1;32m      9\u001b[0m     \u001b[0mcorrect\u001b[0m \u001b[0;34m=\u001b[0m \u001b[0mpred_choice\u001b[0m\u001b[0;34m.\u001b[0m\u001b[0meq\u001b[0m\u001b[0;34m(\u001b[0m\u001b[0mtarget\u001b[0m\u001b[0;34m.\u001b[0m\u001b[0mdata\u001b[0m\u001b[0;34m)\u001b[0m\u001b[0;34m.\u001b[0m\u001b[0mcpu\u001b[0m\u001b[0;34m(\u001b[0m\u001b[0;34m)\u001b[0m\u001b[0;34m.\u001b[0m\u001b[0msum\u001b[0m\u001b[0;34m(\u001b[0m\u001b[0;34m)\u001b[0m\u001b[0;34m\u001b[0m\u001b[0;34m\u001b[0m\u001b[0m\n",
            "\u001b[0;32m/usr/local/lib/python3.8/dist-packages/torch/nn/modules/module.py\u001b[0m in \u001b[0;36m_call_impl\u001b[0;34m(self, *input, **kwargs)\u001b[0m\n\u001b[1;32m   1188\u001b[0m         if not (self._backward_hooks or self._forward_hooks or self._forward_pre_hooks or _global_backward_hooks\n\u001b[1;32m   1189\u001b[0m                 or _global_forward_hooks or _global_forward_pre_hooks):\n\u001b[0;32m-> 1190\u001b[0;31m             \u001b[0;32mreturn\u001b[0m \u001b[0mforward_call\u001b[0m\u001b[0;34m(\u001b[0m\u001b[0;34m*\u001b[0m\u001b[0minput\u001b[0m\u001b[0;34m,\u001b[0m \u001b[0;34m**\u001b[0m\u001b[0mkwargs\u001b[0m\u001b[0;34m)\u001b[0m\u001b[0;34m\u001b[0m\u001b[0;34m\u001b[0m\u001b[0m\n\u001b[0m\u001b[1;32m   1191\u001b[0m         \u001b[0;31m# Do not call functions when jit is used\u001b[0m\u001b[0;34m\u001b[0m\u001b[0;34m\u001b[0m\u001b[0;34m\u001b[0m\u001b[0m\n\u001b[1;32m   1192\u001b[0m         \u001b[0mfull_backward_hooks\u001b[0m\u001b[0;34m,\u001b[0m \u001b[0mnon_full_backward_hooks\u001b[0m \u001b[0;34m=\u001b[0m \u001b[0;34m[\u001b[0m\u001b[0;34m]\u001b[0m\u001b[0;34m,\u001b[0m \u001b[0;34m[\u001b[0m\u001b[0;34m]\u001b[0m\u001b[0;34m\u001b[0m\u001b[0;34m\u001b[0m\u001b[0m\n",
            "\u001b[0;32m<ipython-input-40-8aeccebe1236>\u001b[0m in \u001b[0;36mforward\u001b[0;34m(self, x)\u001b[0m\n\u001b[1;32m     13\u001b[0m \u001b[0;34m\u001b[0m\u001b[0m\n\u001b[1;32m     14\u001b[0m     \u001b[0;32mdef\u001b[0m \u001b[0mforward\u001b[0m\u001b[0;34m(\u001b[0m\u001b[0mself\u001b[0m\u001b[0;34m,\u001b[0m \u001b[0mx\u001b[0m\u001b[0;34m)\u001b[0m\u001b[0;34m:\u001b[0m\u001b[0;34m\u001b[0m\u001b[0;34m\u001b[0m\u001b[0m\n\u001b[0;32m---> 15\u001b[0;31m         \u001b[0mx\u001b[0m\u001b[0;34m,\u001b[0m \u001b[0mtrans\u001b[0m\u001b[0;34m,\u001b[0m \u001b[0mtrans_feat\u001b[0m \u001b[0;34m=\u001b[0m \u001b[0mself\u001b[0m\u001b[0;34m.\u001b[0m\u001b[0mfeat\u001b[0m\u001b[0;34m(\u001b[0m\u001b[0mx\u001b[0m\u001b[0;34m)\u001b[0m\u001b[0;34m\u001b[0m\u001b[0;34m\u001b[0m\u001b[0m\n\u001b[0m\u001b[1;32m     16\u001b[0m         \u001b[0mx\u001b[0m \u001b[0;34m=\u001b[0m \u001b[0mF\u001b[0m\u001b[0;34m.\u001b[0m\u001b[0mrelu\u001b[0m\u001b[0;34m(\u001b[0m\u001b[0mself\u001b[0m\u001b[0;34m.\u001b[0m\u001b[0mbn1\u001b[0m\u001b[0;34m(\u001b[0m\u001b[0mself\u001b[0m\u001b[0;34m.\u001b[0m\u001b[0mfc1\u001b[0m\u001b[0;34m(\u001b[0m\u001b[0mx\u001b[0m\u001b[0;34m)\u001b[0m\u001b[0;34m)\u001b[0m\u001b[0;34m)\u001b[0m\u001b[0;34m\u001b[0m\u001b[0;34m\u001b[0m\u001b[0m\n\u001b[1;32m     17\u001b[0m         \u001b[0mx\u001b[0m \u001b[0;34m=\u001b[0m \u001b[0mF\u001b[0m\u001b[0;34m.\u001b[0m\u001b[0mrelu\u001b[0m\u001b[0;34m(\u001b[0m\u001b[0mself\u001b[0m\u001b[0;34m.\u001b[0m\u001b[0mbn2\u001b[0m\u001b[0;34m(\u001b[0m\u001b[0mself\u001b[0m\u001b[0;34m.\u001b[0m\u001b[0mdropout\u001b[0m\u001b[0;34m(\u001b[0m\u001b[0mself\u001b[0m\u001b[0;34m.\u001b[0m\u001b[0mfc2\u001b[0m\u001b[0;34m(\u001b[0m\u001b[0mx\u001b[0m\u001b[0;34m)\u001b[0m\u001b[0;34m)\u001b[0m\u001b[0;34m)\u001b[0m\u001b[0;34m)\u001b[0m\u001b[0;34m\u001b[0m\u001b[0;34m\u001b[0m\u001b[0m\n",
            "\u001b[0;32m/usr/local/lib/python3.8/dist-packages/torch/nn/modules/module.py\u001b[0m in \u001b[0;36m_call_impl\u001b[0;34m(self, *input, **kwargs)\u001b[0m\n\u001b[1;32m   1188\u001b[0m         if not (self._backward_hooks or self._forward_hooks or self._forward_pre_hooks or _global_backward_hooks\n\u001b[1;32m   1189\u001b[0m                 or _global_forward_hooks or _global_forward_pre_hooks):\n\u001b[0;32m-> 1190\u001b[0;31m             \u001b[0;32mreturn\u001b[0m \u001b[0mforward_call\u001b[0m\u001b[0;34m(\u001b[0m\u001b[0;34m*\u001b[0m\u001b[0minput\u001b[0m\u001b[0;34m,\u001b[0m \u001b[0;34m**\u001b[0m\u001b[0mkwargs\u001b[0m\u001b[0;34m)\u001b[0m\u001b[0;34m\u001b[0m\u001b[0;34m\u001b[0m\u001b[0m\n\u001b[0m\u001b[1;32m   1191\u001b[0m         \u001b[0;31m# Do not call functions when jit is used\u001b[0m\u001b[0;34m\u001b[0m\u001b[0;34m\u001b[0m\u001b[0;34m\u001b[0m\u001b[0m\n\u001b[1;32m   1192\u001b[0m         \u001b[0mfull_backward_hooks\u001b[0m\u001b[0;34m,\u001b[0m \u001b[0mnon_full_backward_hooks\u001b[0m \u001b[0;34m=\u001b[0m \u001b[0;34m[\u001b[0m\u001b[0;34m]\u001b[0m\u001b[0;34m,\u001b[0m \u001b[0;34m[\u001b[0m\u001b[0;34m]\u001b[0m\u001b[0;34m\u001b[0m\u001b[0;34m\u001b[0m\u001b[0m\n",
            "\u001b[0;32m<ipython-input-39-ceeec47c4a76>\u001b[0m in \u001b[0;36mforward\u001b[0;34m(self, x)\u001b[0m\n\u001b[1;32m     16\u001b[0m     \u001b[0;32mdef\u001b[0m \u001b[0mforward\u001b[0m\u001b[0;34m(\u001b[0m\u001b[0mself\u001b[0m\u001b[0;34m,\u001b[0m \u001b[0mx\u001b[0m\u001b[0;34m)\u001b[0m\u001b[0;34m:\u001b[0m\u001b[0;34m\u001b[0m\u001b[0;34m\u001b[0m\u001b[0m\n\u001b[1;32m     17\u001b[0m         \u001b[0mn_pts\u001b[0m \u001b[0;34m=\u001b[0m \u001b[0mx\u001b[0m\u001b[0;34m.\u001b[0m\u001b[0mshape\u001b[0m\u001b[0;34m[\u001b[0m\u001b[0;36m2\u001b[0m\u001b[0;34m]\u001b[0m\u001b[0;34m\u001b[0m\u001b[0;34m\u001b[0m\u001b[0m\n\u001b[0;32m---> 18\u001b[0;31m         \u001b[0mtrans\u001b[0m \u001b[0;34m=\u001b[0m \u001b[0mself\u001b[0m\u001b[0;34m.\u001b[0m\u001b[0mstn\u001b[0m\u001b[0;34m(\u001b[0m\u001b[0mx\u001b[0m\u001b[0;34m)\u001b[0m\u001b[0;34m\u001b[0m\u001b[0;34m\u001b[0m\u001b[0m\n\u001b[0m\u001b[1;32m     19\u001b[0m         \u001b[0;31m#ipdb.set_trace(context=5)\u001b[0m\u001b[0;34m\u001b[0m\u001b[0;34m\u001b[0m\u001b[0;34m\u001b[0m\u001b[0m\n\u001b[1;32m     20\u001b[0m         \u001b[0mx\u001b[0m \u001b[0;34m=\u001b[0m \u001b[0mx\u001b[0m\u001b[0;34m.\u001b[0m\u001b[0mtranspose\u001b[0m\u001b[0;34m(\u001b[0m\u001b[0;36m2\u001b[0m\u001b[0;34m,\u001b[0m \u001b[0;36m1\u001b[0m\u001b[0;34m)\u001b[0m\u001b[0;34m\u001b[0m\u001b[0;34m\u001b[0m\u001b[0m\n",
            "\u001b[0;32m/usr/local/lib/python3.8/dist-packages/torch/nn/modules/module.py\u001b[0m in \u001b[0;36m_call_impl\u001b[0;34m(self, *input, **kwargs)\u001b[0m\n\u001b[1;32m   1188\u001b[0m         if not (self._backward_hooks or self._forward_hooks or self._forward_pre_hooks or _global_backward_hooks\n\u001b[1;32m   1189\u001b[0m                 or _global_forward_hooks or _global_forward_pre_hooks):\n\u001b[0;32m-> 1190\u001b[0;31m             \u001b[0;32mreturn\u001b[0m \u001b[0mforward_call\u001b[0m\u001b[0;34m(\u001b[0m\u001b[0;34m*\u001b[0m\u001b[0minput\u001b[0m\u001b[0;34m,\u001b[0m \u001b[0;34m**\u001b[0m\u001b[0mkwargs\u001b[0m\u001b[0;34m)\u001b[0m\u001b[0;34m\u001b[0m\u001b[0;34m\u001b[0m\u001b[0m\n\u001b[0m\u001b[1;32m   1191\u001b[0m         \u001b[0;31m# Do not call functions when jit is used\u001b[0m\u001b[0;34m\u001b[0m\u001b[0;34m\u001b[0m\u001b[0;34m\u001b[0m\u001b[0m\n\u001b[1;32m   1192\u001b[0m         \u001b[0mfull_backward_hooks\u001b[0m\u001b[0;34m,\u001b[0m \u001b[0mnon_full_backward_hooks\u001b[0m \u001b[0;34m=\u001b[0m \u001b[0;34m[\u001b[0m\u001b[0;34m]\u001b[0m\u001b[0;34m,\u001b[0m \u001b[0;34m[\u001b[0m\u001b[0;34m]\u001b[0m\u001b[0;34m\u001b[0m\u001b[0;34m\u001b[0m\u001b[0m\n",
            "\u001b[0;32m<ipython-input-38-f81f4b7f4e75>\u001b[0m in \u001b[0;36mforward\u001b[0;34m(self, x)\u001b[0m\n\u001b[1;32m     18\u001b[0m     \u001b[0;32mdef\u001b[0m \u001b[0mforward\u001b[0m\u001b[0;34m(\u001b[0m\u001b[0mself\u001b[0m\u001b[0;34m,\u001b[0m \u001b[0mx\u001b[0m\u001b[0;34m)\u001b[0m\u001b[0;34m:\u001b[0m\u001b[0;34m\u001b[0m\u001b[0;34m\u001b[0m\u001b[0m\n\u001b[1;32m     19\u001b[0m         \u001b[0mbatchsize\u001b[0m \u001b[0;34m=\u001b[0m \u001b[0mx\u001b[0m\u001b[0;34m.\u001b[0m\u001b[0mshape\u001b[0m\u001b[0;34m[\u001b[0m\u001b[0;36m0\u001b[0m\u001b[0;34m]\u001b[0m\u001b[0;34m\u001b[0m\u001b[0;34m\u001b[0m\u001b[0m\n\u001b[0;32m---> 20\u001b[0;31m         \u001b[0mx\u001b[0m \u001b[0;34m=\u001b[0m \u001b[0mF\u001b[0m\u001b[0;34m.\u001b[0m\u001b[0mrelu\u001b[0m\u001b[0;34m(\u001b[0m\u001b[0mself\u001b[0m\u001b[0;34m.\u001b[0m\u001b[0mbns\u001b[0m\u001b[0;34m[\u001b[0m\u001b[0;36m0\u001b[0m\u001b[0;34m]\u001b[0m\u001b[0;34m(\u001b[0m\u001b[0mself\u001b[0m\u001b[0;34m.\u001b[0m\u001b[0mconv1\u001b[0m\u001b[0;34m(\u001b[0m\u001b[0mx\u001b[0m\u001b[0;34m)\u001b[0m\u001b[0;34m)\u001b[0m\u001b[0;34m)\u001b[0m\u001b[0;34m\u001b[0m\u001b[0;34m\u001b[0m\u001b[0m\n\u001b[0m\u001b[1;32m     21\u001b[0m         \u001b[0mx\u001b[0m \u001b[0;34m=\u001b[0m \u001b[0mF\u001b[0m\u001b[0;34m.\u001b[0m\u001b[0mrelu\u001b[0m\u001b[0;34m(\u001b[0m\u001b[0mself\u001b[0m\u001b[0;34m.\u001b[0m\u001b[0mbns\u001b[0m\u001b[0;34m[\u001b[0m\u001b[0;36m1\u001b[0m\u001b[0;34m]\u001b[0m\u001b[0;34m(\u001b[0m\u001b[0mself\u001b[0m\u001b[0;34m.\u001b[0m\u001b[0mconv2\u001b[0m\u001b[0;34m(\u001b[0m\u001b[0mx\u001b[0m\u001b[0;34m)\u001b[0m\u001b[0;34m)\u001b[0m\u001b[0;34m)\u001b[0m\u001b[0;34m\u001b[0m\u001b[0;34m\u001b[0m\u001b[0m\n\u001b[1;32m     22\u001b[0m         \u001b[0mx\u001b[0m \u001b[0;34m=\u001b[0m \u001b[0mF\u001b[0m\u001b[0;34m.\u001b[0m\u001b[0mrelu\u001b[0m\u001b[0;34m(\u001b[0m\u001b[0mself\u001b[0m\u001b[0;34m.\u001b[0m\u001b[0mbns\u001b[0m\u001b[0;34m[\u001b[0m\u001b[0;36m4\u001b[0m\u001b[0;34m]\u001b[0m\u001b[0;34m(\u001b[0m\u001b[0mself\u001b[0m\u001b[0;34m.\u001b[0m\u001b[0mconv3\u001b[0m\u001b[0;34m(\u001b[0m\u001b[0mx\u001b[0m\u001b[0;34m)\u001b[0m\u001b[0;34m)\u001b[0m\u001b[0;34m)\u001b[0m\u001b[0;34m\u001b[0m\u001b[0;34m\u001b[0m\u001b[0m\n",
            "\u001b[0;32m/usr/local/lib/python3.8/dist-packages/torch/nn/modules/module.py\u001b[0m in \u001b[0;36m_call_impl\u001b[0;34m(self, *input, **kwargs)\u001b[0m\n\u001b[1;32m   1188\u001b[0m         if not (self._backward_hooks or self._forward_hooks or self._forward_pre_hooks or _global_backward_hooks\n\u001b[1;32m   1189\u001b[0m                 or _global_forward_hooks or _global_forward_pre_hooks):\n\u001b[0;32m-> 1190\u001b[0;31m             \u001b[0;32mreturn\u001b[0m \u001b[0mforward_call\u001b[0m\u001b[0;34m(\u001b[0m\u001b[0;34m*\u001b[0m\u001b[0minput\u001b[0m\u001b[0;34m,\u001b[0m \u001b[0;34m**\u001b[0m\u001b[0mkwargs\u001b[0m\u001b[0;34m)\u001b[0m\u001b[0;34m\u001b[0m\u001b[0;34m\u001b[0m\u001b[0m\n\u001b[0m\u001b[1;32m   1191\u001b[0m         \u001b[0;31m# Do not call functions when jit is used\u001b[0m\u001b[0;34m\u001b[0m\u001b[0;34m\u001b[0m\u001b[0;34m\u001b[0m\u001b[0m\n\u001b[1;32m   1192\u001b[0m         \u001b[0mfull_backward_hooks\u001b[0m\u001b[0;34m,\u001b[0m \u001b[0mnon_full_backward_hooks\u001b[0m \u001b[0;34m=\u001b[0m \u001b[0;34m[\u001b[0m\u001b[0;34m]\u001b[0m\u001b[0;34m,\u001b[0m \u001b[0;34m[\u001b[0m\u001b[0;34m]\u001b[0m\u001b[0;34m\u001b[0m\u001b[0;34m\u001b[0m\u001b[0m\n",
            "\u001b[0;32m/usr/local/lib/python3.8/dist-packages/torch/nn/modules/conv.py\u001b[0m in \u001b[0;36mforward\u001b[0;34m(self, input)\u001b[0m\n\u001b[1;32m    311\u001b[0m \u001b[0;34m\u001b[0m\u001b[0m\n\u001b[1;32m    312\u001b[0m     \u001b[0;32mdef\u001b[0m \u001b[0mforward\u001b[0m\u001b[0;34m(\u001b[0m\u001b[0mself\u001b[0m\u001b[0;34m,\u001b[0m \u001b[0minput\u001b[0m\u001b[0;34m:\u001b[0m \u001b[0mTensor\u001b[0m\u001b[0;34m)\u001b[0m \u001b[0;34m->\u001b[0m \u001b[0mTensor\u001b[0m\u001b[0;34m:\u001b[0m\u001b[0;34m\u001b[0m\u001b[0;34m\u001b[0m\u001b[0m\n\u001b[0;32m--> 313\u001b[0;31m         \u001b[0;32mreturn\u001b[0m \u001b[0mself\u001b[0m\u001b[0;34m.\u001b[0m\u001b[0m_conv_forward\u001b[0m\u001b[0;34m(\u001b[0m\u001b[0minput\u001b[0m\u001b[0;34m,\u001b[0m \u001b[0mself\u001b[0m\u001b[0;34m.\u001b[0m\u001b[0mweight\u001b[0m\u001b[0;34m,\u001b[0m \u001b[0mself\u001b[0m\u001b[0;34m.\u001b[0m\u001b[0mbias\u001b[0m\u001b[0;34m)\u001b[0m\u001b[0;34m\u001b[0m\u001b[0;34m\u001b[0m\u001b[0m\n\u001b[0m\u001b[1;32m    314\u001b[0m \u001b[0;34m\u001b[0m\u001b[0m\n\u001b[1;32m    315\u001b[0m \u001b[0;34m\u001b[0m\u001b[0m\n",
            "\u001b[0;32m/usr/local/lib/python3.8/dist-packages/torch/nn/modules/conv.py\u001b[0m in \u001b[0;36m_conv_forward\u001b[0;34m(self, input, weight, bias)\u001b[0m\n\u001b[1;32m    307\u001b[0m                             \u001b[0mweight\u001b[0m\u001b[0;34m,\u001b[0m \u001b[0mbias\u001b[0m\u001b[0;34m,\u001b[0m \u001b[0mself\u001b[0m\u001b[0;34m.\u001b[0m\u001b[0mstride\u001b[0m\u001b[0;34m,\u001b[0m\u001b[0;34m\u001b[0m\u001b[0;34m\u001b[0m\u001b[0m\n\u001b[1;32m    308\u001b[0m                             _single(0), self.dilation, self.groups)\n\u001b[0;32m--> 309\u001b[0;31m         return F.conv1d(input, weight, bias, self.stride,\n\u001b[0m\u001b[1;32m    310\u001b[0m                         self.padding, self.dilation, self.groups)\n\u001b[1;32m    311\u001b[0m \u001b[0;34m\u001b[0m\u001b[0m\n",
            "\u001b[0;31mRuntimeError\u001b[0m: Given groups=1, weight of size [64, 3, 1], expected input[1, 800, 3] to have 3 channels, but got 800 channels instead"
          ]
        }
      ]
    },
    {
      "cell_type": "markdown",
      "metadata": {
        "id": "N_SDetaWIxsQ"
      },
      "source": [
        "```python\n",
        "class STN3d(nn.Module):\n",
        "  output:\n",
        "    stn torch.Size([32, 3, 3])global feat torch.Size([32, 1024])classification head:\n",
        "      global feat torch.Size([32, 1024])\n",
        "      point feat torch.Size([32, 1088, 2500])\n",
        "      class torch.Size([32, 5])segmentation head:\n",
        "        PointNetDenseCls(\n",
        "          (feat): PointNetfeat(\n",
        "            (stn): STN3d(\n",
        "              (conv1): Conv1d(3, 64, kernel_size=(1,), stride=(1,))\n",
        "              (conv2): Conv1d(64, 128, kernel_size=(1,), stride=(1,))\n",
        "              (conv3): Conv1d(128, 1024, kernel_size=(1,), stride=(1,))\n",
        "              (mp1): MaxPool1d(kernel_size=2500, stride=2500, padding=0, dilation=1, ceil_mode=False)\n",
        "              (fc1): Linear(in_features=1024, out_features=512, bias=True)\n",
        "              (fc2): Linear(in_features=512, out_features=256, bias=True)\n",
        "              (fc3): Linear(in_features=256, out_features=9, bias=True)\n",
        "              (relu): ReLU()\n",
        "              (bn1): BatchNorm1d(64, eps=1e-05, momentum=0.1, affine=True, track_running_stats=True)\n",
        "              (bn2): BatchNorm1d(128, eps=1e-05, momentum=0.1, affine=True, track_running_stats=True)\n",
        "              (bn3): BatchNorm1d(1024, eps=1e-05, momentum=0.1, affine=True, track_running_stats=True)\n",
        "              (bn4): BatchNorm1d(512, eps=1e-05, momentum=0.1, affine=True, track_running_stats=True)\n",
        "              (bn5): BatchNorm1d(256, eps=1e-05, momentum=0.1, affine=True, track_running_stats=True)\n",
        "            )\n",
        "            (conv1): Conv1d(3, 64, kernel_size=(1,), stride=(1,))\n",
        "            (conv2): Conv1d(64, 128, kernel_size=(1,), stride=(1,))\n",
        "            (conv3): Conv1d(128, 1024, kernel_size=(1,), stride=(1,))\n",
        "            (bn1): BatchNorm1d(64, eps=1e-05, momentum=0.1, affine=True, track_running_stats=True)\n",
        "            (bn2): BatchNorm1d(128, eps=1e-05, momentum=0.1, affine=True, track_running_stats=True)\n",
        "            (bn3): BatchNorm1d(1024, eps=1e-05, momentum=0.1, affine=True, track_running_stats=True)\n",
        "            (mp1): MaxPool1d(kernel_size=2500, stride=2500, padding=0, dilation=1, ceil_mode=False)\n",
        "          )\n",
        "          (conv1): Conv1d(1088, 512, kernel_size=(1,), stride=(1,))\n",
        "          (conv2): Conv1d(512, 256, kernel_size=(1,), stride=(1,))\n",
        "          (conv3): Conv1d(256, 128, kernel_size=(1,), stride=(1,))\n",
        "          (conv4): Conv1d(128, 3, kernel_size=(1,), stride=(1,))\n",
        "          (bn1): BatchNorm1d(512, eps=1e-05, momentum=0.1, affine=True, track_running_stats=True)\n",
        "          (bn2): BatchNorm1d(256, eps=1e-05, momentum=0.1, affine=True, track_running_stats=True)\n",
        "          (bn3): BatchNorm1d(128, eps=1e-05, momentum=0.1, affine=True, track_running_stats=True)\n",
        "        )\n",
        "  seg torch.Size([32, 2500, 3])\n",
        "```"
      ]
    }
  ],
  "metadata": {
    "colab": {
      "provenance": [],
      "collapsed_sections": [
        "5WdFSJIuZeol",
        "7yvJCbVGZmgL",
        "M4E0KWaQZt_8"
      ]
    },
    "gpuClass": "standard",
    "kernelspec": {
      "display_name": "Python 3",
      "name": "python3"
    },
    "language_info": {
      "name": "python"
    }
  },
  "nbformat": 4,
  "nbformat_minor": 0
}
